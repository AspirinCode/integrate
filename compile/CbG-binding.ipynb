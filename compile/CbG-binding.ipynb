{
 "cells": [
  {
   "cell_type": "markdown",
   "metadata": {},
   "source": [
    "# Create a single dataset of Compound-Gene binding relationships from BindingDB and DrugBank"
   ]
  },
  {
   "cell_type": "code",
   "execution_count": 1,
   "metadata": {
    "collapsed": false
   },
   "outputs": [],
   "source": [
    "import sys\n",
    "import itertools\n",
    "\n",
    "import pandas\n",
    "\n",
    "sys.path.insert(0, '../')\n",
    "import utils"
   ]
  },
  {
   "cell_type": "code",
   "execution_count": 2,
   "metadata": {
    "collapsed": true
   },
   "outputs": [],
   "source": [
    "def split_and_clean_ids(id_str, sep='|'):\n",
    "    \"\"\"Return a set of unique non-empty IDs from a joined string.\"\"\"\n",
    "    if not id_str or pandas.isnull(id_str):\n",
    "        return set()\n",
    "    id_set = set(id_str.split(sep))\n",
    "    id_set.discard('')\n",
    "    return id_set"
   ]
  },
  {
   "cell_type": "markdown",
   "metadata": {},
   "source": [
    "## Read datasets"
   ]
  },
  {
   "cell_type": "code",
   "execution_count": 3,
   "metadata": {
    "collapsed": false
   },
   "outputs": [
    {
     "data": {
      "text/html": [
       "<div>\n",
       "<table border=\"1\" class=\"dataframe\">\n",
       "  <thead>\n",
       "    <tr style=\"text-align: right;\">\n",
       "      <th></th>\n",
       "      <th>drugbank_id</th>\n",
       "      <th>entrez_gene_id</th>\n",
       "      <th>affinity_nM</th>\n",
       "      <th>n_pairs</th>\n",
       "      <th>sources</th>\n",
       "      <th>pubmed_ids</th>\n",
       "      <th>drugbank_name</th>\n",
       "      <th>drugbank_approved</th>\n",
       "      <th>gene_symbol</th>\n",
       "    </tr>\n",
       "  </thead>\n",
       "  <tbody>\n",
       "    <tr>\n",
       "      <th>0</th>\n",
       "      <td>DB00035</td>\n",
       "      <td>552</td>\n",
       "      <td>62.4</td>\n",
       "      <td>1</td>\n",
       "      <td>set([ChEMBL])</td>\n",
       "      <td>set([15084136])</td>\n",
       "      <td>Desmopressin</td>\n",
       "      <td>1</td>\n",
       "      <td>AVPR1A</td>\n",
       "    </tr>\n",
       "    <tr>\n",
       "      <th>1</th>\n",
       "      <td>DB00035</td>\n",
       "      <td>553</td>\n",
       "      <td>5.8</td>\n",
       "      <td>1</td>\n",
       "      <td>set([ChEMBL])</td>\n",
       "      <td>set([15084136])</td>\n",
       "      <td>Desmopressin</td>\n",
       "      <td>1</td>\n",
       "      <td>AVPR1B</td>\n",
       "    </tr>\n",
       "  </tbody>\n",
       "</table>\n",
       "</div>"
      ],
      "text/plain": [
       "  drugbank_id  entrez_gene_id  affinity_nM  n_pairs        sources  \\\n",
       "0     DB00035             552         62.4        1  set([ChEMBL])   \n",
       "1     DB00035             553          5.8        1  set([ChEMBL])   \n",
       "\n",
       "        pubmed_ids drugbank_name  drugbank_approved gene_symbol  \n",
       "0  set([15084136])  Desmopressin                  1      AVPR1A  \n",
       "1  set([15084136])  Desmopressin                  1      AVPR1B  "
      ]
     },
     "execution_count": 3,
     "metadata": {},
     "output_type": "execute_result"
    }
   ],
   "source": [
    "# Read BindingDB\n",
    "commit = '28dc70275103a233a2f02024082adcea45102a96'\n",
    "url = utils.rawgit('dhimmel', 'bindingdb', commit, 'data/bindings-drugbank-gene.tsv')\n",
    "binding_df = pandas.read_table(url)\n",
    "# Filter for micromolar binding affinity\n",
    "binding_df = binding_df[binding_df.affinity_nM <= 1000]\n",
    "# Parse compound fields\n",
    "binding_df.sources = binding_df.sources.map(lambda x: split_and_clean_ids(x, ','))\n",
    "binding_df.pubmeds = binding_df.pubmeds.map(lambda x: split_and_clean_ids(x, ','))\n",
    "binding_df = binding_df.rename(columns={'entrez_gene': 'entrez_gene_id', 'pubmeds': 'pubmed_ids'})\n",
    "binding_df.head(2)"
   ]
  },
  {
   "cell_type": "code",
   "execution_count": 4,
   "metadata": {
    "collapsed": false
   },
   "outputs": [
    {
     "data": {
      "text/html": [
       "<div>\n",
       "<table border=\"1\" class=\"dataframe\">\n",
       "  <thead>\n",
       "    <tr style=\"text-align: right;\">\n",
       "      <th></th>\n",
       "      <th>drugbank_id</th>\n",
       "      <th>category</th>\n",
       "      <th>uniprot_id</th>\n",
       "      <th>entrez_gene_id</th>\n",
       "      <th>organism</th>\n",
       "      <th>known_action</th>\n",
       "      <th>actions</th>\n",
       "      <th>pubmed_ids</th>\n",
       "      <th>sources</th>\n",
       "    </tr>\n",
       "  </thead>\n",
       "  <tbody>\n",
       "    <tr>\n",
       "      <th>0</th>\n",
       "      <td>DB00001</td>\n",
       "      <td>target</td>\n",
       "      <td>P00734</td>\n",
       "      <td>2147</td>\n",
       "      <td>Human</td>\n",
       "      <td>yes</td>\n",
       "      <td>set([inhibitor])</td>\n",
       "      <td>set([11807012, 10912644, 11467439, 10505536, 1...</td>\n",
       "      <td>set([DrugBank (target)])</td>\n",
       "    </tr>\n",
       "    <tr>\n",
       "      <th>1</th>\n",
       "      <td>DB00006</td>\n",
       "      <td>target</td>\n",
       "      <td>P00734</td>\n",
       "      <td>2147</td>\n",
       "      <td>Human</td>\n",
       "      <td>yes</td>\n",
       "      <td>set([inhibitor])</td>\n",
       "      <td>set([11060732, 11833835, 11504570, 11923794, 1...</td>\n",
       "      <td>set([DrugBank (target)])</td>\n",
       "    </tr>\n",
       "  </tbody>\n",
       "</table>\n",
       "</div>"
      ],
      "text/plain": [
       "  drugbank_id category uniprot_id  entrez_gene_id organism known_action  \\\n",
       "0     DB00001   target     P00734            2147    Human          yes   \n",
       "1     DB00006   target     P00734            2147    Human          yes   \n",
       "\n",
       "            actions                                         pubmed_ids  \\\n",
       "0  set([inhibitor])  set([11807012, 10912644, 11467439, 10505536, 1...   \n",
       "1  set([inhibitor])  set([11060732, 11833835, 11504570, 11923794, 1...   \n",
       "\n",
       "                    sources  \n",
       "0  set([DrugBank (target)])  \n",
       "1  set([DrugBank (target)])  "
      ]
     },
     "execution_count": 4,
     "metadata": {},
     "output_type": "execute_result"
    }
   ],
   "source": [
    "# Read DrubBank compound-gene interaction\n",
    "commit = '3e87872db5fca5ac427ce27464ab945c0ceb4ec6'\n",
    "url = utils.rawgit('dhimmel', 'drugbank', commit, 'data/proteins.tsv')\n",
    "drugbank_protein_df = pandas.read_table(url)\n",
    "drugbank_protein_df.pubmed_ids = drugbank_protein_df.pubmed_ids.map(\n",
    "    lambda x: split_and_clean_ids(x, '|'))\n",
    "drugbank_protein_df.actions = drugbank_protein_df.actions.map(\n",
    "    lambda x: split_and_clean_ids(x, '|'))\n",
    "drugbank_protein_df['sources'] = drugbank_protein_df.apply(\n",
    "    lambda x: set(['DrugBank ({})'.format(x['category'])]), axis=1)\n",
    "drugbank_protein_df.head(2)"
   ]
  },
  {
   "cell_type": "code",
   "execution_count": 5,
   "metadata": {
    "collapsed": false
   },
   "outputs": [
    {
     "data": {
      "text/plain": [
       "target         14282\n",
       "enzyme          3547\n",
       "transporter     1757\n",
       "carrier          320\n",
       "Name: category, dtype: int64"
      ]
     },
     "execution_count": 5,
     "metadata": {},
     "output_type": "execute_result"
    }
   ],
   "source": [
    "# DrugBank gene-protein interactions by category\n",
    "drugbank_protein_df.category.value_counts()"
   ]
  },
  {
   "cell_type": "markdown",
   "metadata": {},
   "source": [
    "## Combine BindingDB and DrugBank"
   ]
  },
  {
   "cell_type": "code",
   "execution_count": 6,
   "metadata": {
    "collapsed": false
   },
   "outputs": [
    {
     "data": {
      "text/html": [
       "<div>\n",
       "<table border=\"1\" class=\"dataframe\">\n",
       "  <thead>\n",
       "    <tr style=\"text-align: right;\">\n",
       "      <th></th>\n",
       "      <th>actions</th>\n",
       "      <th>affinity_nM</th>\n",
       "      <th>drugbank_id</th>\n",
       "      <th>entrez_gene_id</th>\n",
       "      <th>pubmed_ids</th>\n",
       "      <th>sources</th>\n",
       "    </tr>\n",
       "  </thead>\n",
       "  <tbody>\n",
       "    <tr>\n",
       "      <th>0</th>\n",
       "      <td>set([inhibitor])</td>\n",
       "      <td>NaN</td>\n",
       "      <td>DB00001</td>\n",
       "      <td>2147</td>\n",
       "      <td>set([11807012, 10912644, 11467439, 10505536, 1...</td>\n",
       "      <td>set([DrugBank (target)])</td>\n",
       "    </tr>\n",
       "    <tr>\n",
       "      <th>1</th>\n",
       "      <td>set([inhibitor])</td>\n",
       "      <td>NaN</td>\n",
       "      <td>DB00006</td>\n",
       "      <td>2147</td>\n",
       "      <td>set([11060732, 11833835, 11504570, 11923794, 1...</td>\n",
       "      <td>set([DrugBank (target)])</td>\n",
       "    </tr>\n",
       "    <tr>\n",
       "      <th>2</th>\n",
       "      <td>set([activator])</td>\n",
       "      <td>NaN</td>\n",
       "      <td>DB00025</td>\n",
       "      <td>2147</td>\n",
       "      <td>set([10688826, 2402772, 12463731, 1139038, 309...</td>\n",
       "      <td>set([DrugBank (enzyme)])</td>\n",
       "    </tr>\n",
       "    <tr>\n",
       "      <th>3</th>\n",
       "      <td>set([])</td>\n",
       "      <td>NaN</td>\n",
       "      <td>DB00055</td>\n",
       "      <td>2147</td>\n",
       "      <td>set([12062545, 12296618, 12070133, 12208873, 1...</td>\n",
       "      <td>set([DrugBank (target)])</td>\n",
       "    </tr>\n",
       "    <tr>\n",
       "      <th>4</th>\n",
       "      <td>set([])</td>\n",
       "      <td>NaN</td>\n",
       "      <td>DB00100</td>\n",
       "      <td>2147</td>\n",
       "      <td>set([11019961, 10648407, 10499905, 10498586, 1...</td>\n",
       "      <td>set([DrugBank (target)])</td>\n",
       "    </tr>\n",
       "  </tbody>\n",
       "</table>\n",
       "</div>"
      ],
      "text/plain": [
       "            actions  affinity_nM drugbank_id  entrez_gene_id  \\\n",
       "0  set([inhibitor])          NaN     DB00001            2147   \n",
       "1  set([inhibitor])          NaN     DB00006            2147   \n",
       "2  set([activator])          NaN     DB00025            2147   \n",
       "3           set([])          NaN     DB00055            2147   \n",
       "4           set([])          NaN     DB00100            2147   \n",
       "\n",
       "                                          pubmed_ids                   sources  \n",
       "0  set([11807012, 10912644, 11467439, 10505536, 1...  set([DrugBank (target)])  \n",
       "1  set([11060732, 11833835, 11504570, 11923794, 1...  set([DrugBank (target)])  \n",
       "2  set([10688826, 2402772, 12463731, 1139038, 309...  set([DrugBank (enzyme)])  \n",
       "3  set([12062545, 12296618, 12070133, 12208873, 1...  set([DrugBank (target)])  \n",
       "4  set([11019961, 10648407, 10499905, 10498586, 1...  set([DrugBank (target)])  "
      ]
     },
     "execution_count": 6,
     "metadata": {},
     "output_type": "execute_result"
    }
   ],
   "source": [
    "# Create a combined dataset of BindingDB and DrugBank by appending all rows\n",
    "long_df = drugbank_protein_df[['drugbank_id', 'entrez_gene_id', 'sources', 'pubmed_ids', 'actions']].append(\n",
    "        binding_df[['drugbank_id', 'entrez_gene_id', 'affinity_nM', 'sources', 'pubmed_ids']])\n",
    "long_df.actions = long_df.actions.map(lambda x: x if pandas.notnull(x) else set())\n",
    "long_df.head()"
   ]
  },
  {
   "cell_type": "code",
   "execution_count": 7,
   "metadata": {
    "collapsed": false
   },
   "outputs": [],
   "source": [
    "def get_license(sources):\n",
    "    \"\"\"Return the license of a binding relationship based on its sources.\"\"\"\n",
    "    sources = frozenset(sources)\n",
    "    if sources == frozenset({'BindingDB'}):\n",
    "        return 'CC-BY 3.0'\n",
    "    if sources == frozenset({'ChEMBL'}):\n",
    "        return 'CC-BY-SA 3.0'\n",
    "    if sources == frozenset({'BindingDB', 'ChEMBL'}):\n",
    "        return 'CC-BY-SA 3.0'\n",
    "    return None\n",
    "\n",
    "def condense(df):\n",
    "    \"\"\"Combine gene-compound relationships\"\"\"\n",
    "    row = pandas.Series()\n",
    "    row['sources'] = set(itertools.chain.from_iterable(df.sources))\n",
    "    row['pubmed_ids'] = set(itertools.chain.from_iterable(df.pubmed_ids))\n",
    "    row['actions'] = set(itertools.chain.from_iterable(df.actions))\n",
    "    row['affinity_nM'] = df.affinity_nM.mean(skipna=True)\n",
    "    row['license'] = get_license(row['sources'])\n",
    "    return row\n",
    "\n",
    "condensed_df = long_df.groupby(['drugbank_id', 'entrez_gene_id']).apply(condense).reset_index()"
   ]
  },
  {
   "cell_type": "code",
   "execution_count": 8,
   "metadata": {
    "collapsed": false
   },
   "outputs": [
    {
     "data": {
      "text/plain": [
       "23191"
      ]
     },
     "execution_count": 8,
     "metadata": {},
     "output_type": "execute_result"
    }
   ],
   "source": [
    "# Number of condensed bindings\n",
    "len(condensed_df)"
   ]
  },
  {
   "cell_type": "code",
   "execution_count": 9,
   "metadata": {
    "collapsed": false
   },
   "outputs": [],
   "source": [
    "# Convert compound fields into pipe-delimited strings\n",
    "for column in 'sources', 'pubmed_ids', 'actions':\n",
    "    condensed_df[column] = condensed_df[column].map(lambda x: '|'.join(sorted(x)))"
   ]
  },
  {
   "cell_type": "code",
   "execution_count": 10,
   "metadata": {
    "collapsed": true
   },
   "outputs": [],
   "source": [
    "# Save condensed bindings\n",
    "condensed_df.to_csv('CbG-binding.tsv', sep='\\t', index=False)"
   ]
  },
  {
   "cell_type": "code",
   "execution_count": 11,
   "metadata": {
    "collapsed": false
   },
   "outputs": [
    {
     "data": {
      "text/html": [
       "<div>\n",
       "<table border=\"1\" class=\"dataframe\">\n",
       "  <thead>\n",
       "    <tr style=\"text-align: right;\">\n",
       "      <th></th>\n",
       "      <th>drugbank_id</th>\n",
       "      <th>entrez_gene_id</th>\n",
       "      <th>sources</th>\n",
       "      <th>pubmed_ids</th>\n",
       "      <th>actions</th>\n",
       "      <th>affinity_nM</th>\n",
       "      <th>license</th>\n",
       "    </tr>\n",
       "  </thead>\n",
       "  <tbody>\n",
       "    <tr>\n",
       "      <th>0</th>\n",
       "      <td>DB00001</td>\n",
       "      <td>2147</td>\n",
       "      <td>DrugBank (target)</td>\n",
       "      <td>10505536|10912644|11055889|11467439|11752352|1...</td>\n",
       "      <td>inhibitor</td>\n",
       "      <td>NaN</td>\n",
       "      <td>None</td>\n",
       "    </tr>\n",
       "    <tr>\n",
       "      <th>1</th>\n",
       "      <td>DB00002</td>\n",
       "      <td>712</td>\n",
       "      <td>DrugBank (target)</td>\n",
       "      <td>17016423|17139284</td>\n",
       "      <td></td>\n",
       "      <td>NaN</td>\n",
       "      <td>None</td>\n",
       "    </tr>\n",
       "  </tbody>\n",
       "</table>\n",
       "</div>"
      ],
      "text/plain": [
       "  drugbank_id  entrez_gene_id            sources  \\\n",
       "0     DB00001            2147  DrugBank (target)   \n",
       "1     DB00002             712  DrugBank (target)   \n",
       "\n",
       "                                          pubmed_ids    actions  affinity_nM  \\\n",
       "0  10505536|10912644|11055889|11467439|11752352|1...  inhibitor          NaN   \n",
       "1                                  17016423|17139284                     NaN   \n",
       "\n",
       "  license  \n",
       "0    None  \n",
       "1    None  "
      ]
     },
     "execution_count": 11,
     "metadata": {},
     "output_type": "execute_result"
    }
   ],
   "source": [
    "condensed_df.head(2)"
   ]
  }
 ],
 "metadata": {
  "kernelspec": {
   "display_name": "Python 3",
   "language": "python",
   "name": "python3"
  },
  "language_info": {
   "codemirror_mode": {
    "name": "ipython",
    "version": 3
   },
   "file_extension": ".py",
   "mimetype": "text/x-python",
   "name": "python",
   "nbconvert_exporter": "python",
   "pygments_lexer": "ipython3",
   "version": "3.5.0"
  }
 },
 "nbformat": 4,
 "nbformat_minor": 0
}
