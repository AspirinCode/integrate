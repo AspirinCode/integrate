{
 "cells": [
  {
   "cell_type": "code",
   "execution_count": 3,
   "metadata": {
    "collapsed": true
   },
   "outputs": [],
   "source": [
    "import pandas"
   ]
  },
  {
   "cell_type": "code",
   "execution_count": 4,
   "metadata": {
    "collapsed": true
   },
   "outputs": [],
   "source": [
    "def rawgit(handle, repo, commit, *args):\n",
    "    \"\"\"Returns url for a raw file in a ghithub reposotory.\"\"\"\n",
    "    url_head = 'https://raw.githubusercontent.com'\n",
    "    return '/'.join((url_head, handle, repo, commit) + args)"
   ]
  },
  {
   "cell_type": "code",
   "execution_count": null,
   "metadata": {
    "collapsed": false
   },
   "outputs": [],
   "source": []
  },
  {
   "cell_type": "markdown",
   "metadata": {},
   "source": [
    "## Gene Nodes"
   ]
  },
  {
   "cell_type": "code",
   "execution_count": 14,
   "metadata": {
    "collapsed": false
   },
   "outputs": [
    {
     "data": {
      "text/html": [
       "<div style=\"max-height:1000px;max-width:1500px;overflow:auto;\">\n",
       "<table border=\"1\" class=\"dataframe\">\n",
       "  <thead>\n",
       "    <tr style=\"text-align: right;\">\n",
       "      <th></th>\n",
       "      <th>tax_id</th>\n",
       "      <th>GeneID</th>\n",
       "      <th>Symbol</th>\n",
       "      <th>chromosome</th>\n",
       "      <th>map_location</th>\n",
       "      <th>type_of_gene</th>\n",
       "      <th>description</th>\n",
       "    </tr>\n",
       "  </thead>\n",
       "  <tbody>\n",
       "    <tr>\n",
       "      <th>0</th>\n",
       "      <td>9606</td>\n",
       "      <td>1</td>\n",
       "      <td>A1BG</td>\n",
       "      <td>19</td>\n",
       "      <td>19q13.4</td>\n",
       "      <td>protein-coding</td>\n",
       "      <td>alpha-1-B glycoprotein</td>\n",
       "    </tr>\n",
       "    <tr>\n",
       "      <th>1</th>\n",
       "      <td>9606</td>\n",
       "      <td>2</td>\n",
       "      <td>A2M</td>\n",
       "      <td>12</td>\n",
       "      <td>12p13.31</td>\n",
       "      <td>protein-coding</td>\n",
       "      <td>alpha-2-macroglobulin</td>\n",
       "    </tr>\n",
       "    <tr>\n",
       "      <th>3</th>\n",
       "      <td>9606</td>\n",
       "      <td>9</td>\n",
       "      <td>NAT1</td>\n",
       "      <td>8</td>\n",
       "      <td>8p22</td>\n",
       "      <td>protein-coding</td>\n",
       "      <td>N-acetyltransferase 1 (arylamine N-acetyltrans...</td>\n",
       "    </tr>\n",
       "    <tr>\n",
       "      <th>4</th>\n",
       "      <td>9606</td>\n",
       "      <td>10</td>\n",
       "      <td>NAT2</td>\n",
       "      <td>8</td>\n",
       "      <td>8p22</td>\n",
       "      <td>protein-coding</td>\n",
       "      <td>N-acetyltransferase 2 (arylamine N-acetyltrans...</td>\n",
       "    </tr>\n",
       "    <tr>\n",
       "      <th>6</th>\n",
       "      <td>9606</td>\n",
       "      <td>12</td>\n",
       "      <td>SERPINA3</td>\n",
       "      <td>14</td>\n",
       "      <td>14q32.1</td>\n",
       "      <td>protein-coding</td>\n",
       "      <td>serpin peptidase inhibitor, clade A (alpha-1 a...</td>\n",
       "    </tr>\n",
       "  </tbody>\n",
       "</table>\n",
       "</div>"
      ],
      "text/plain": [
       "   tax_id  GeneID    Symbol chromosome map_location    type_of_gene  \\\n",
       "0    9606       1      A1BG         19      19q13.4  protein-coding   \n",
       "1    9606       2       A2M         12     12p13.31  protein-coding   \n",
       "3    9606       9      NAT1          8         8p22  protein-coding   \n",
       "4    9606      10      NAT2          8         8p22  protein-coding   \n",
       "6    9606      12  SERPINA3         14      14q32.1  protein-coding   \n",
       "\n",
       "                                         description  \n",
       "0                             alpha-1-B glycoprotein  \n",
       "1                              alpha-2-macroglobulin  \n",
       "3  N-acetyltransferase 1 (arylamine N-acetyltrans...  \n",
       "4  N-acetyltransferase 2 (arylamine N-acetyltrans...  \n",
       "6  serpin peptidase inhibitor, clade A (alpha-1 a...  "
      ]
     },
     "execution_count": 14,
     "metadata": {},
     "output_type": "execute_result"
    }
   ],
   "source": [
    "commit = '6e133f9ef8ce51a4c5387e58a6cc97564a66cec8'\n",
    "url = rawgit('dhimmel', 'entrez-gene', commit, 'data/genes-human.tsv')\n",
    "gene_df = pandas.read_table(url)\n",
    "gene_df = gene_df[gene_df.type_of_gene == 'protein-coding']\n",
    "gene_df.head()"
   ]
  },
  {
   "cell_type": "markdown",
   "metadata": {},
   "source": [
    "## Disease Nodes"
   ]
  },
  {
   "cell_type": "code",
   "execution_count": 16,
   "metadata": {
    "collapsed": false
   },
   "outputs": [
    {
     "data": {
      "text/html": [
       "<div style=\"max-height:1000px;max-width:1500px;overflow:auto;\">\n",
       "<table border=\"1\" class=\"dataframe\">\n",
       "  <thead>\n",
       "    <tr style=\"text-align: right;\">\n",
       "      <th></th>\n",
       "      <th>doid</th>\n",
       "      <th>name</th>\n",
       "      <th>source</th>\n",
       "      <th>pathophysiology</th>\n",
       "    </tr>\n",
       "  </thead>\n",
       "  <tbody>\n",
       "    <tr>\n",
       "      <th>0</th>\n",
       "      <td>DOID:2531</td>\n",
       "      <td>Hematologic cancer</td>\n",
       "      <td>DOcancerslim</td>\n",
       "      <td>neoplastic</td>\n",
       "    </tr>\n",
       "    <tr>\n",
       "      <th>1</th>\n",
       "      <td>DOID:1319</td>\n",
       "      <td>Brain cancer</td>\n",
       "      <td>DOcancerslim</td>\n",
       "      <td>neoplastic</td>\n",
       "    </tr>\n",
       "    <tr>\n",
       "      <th>2</th>\n",
       "      <td>DOID:1324</td>\n",
       "      <td>Lung cancer</td>\n",
       "      <td>DOcancerslim</td>\n",
       "      <td>neoplastic</td>\n",
       "    </tr>\n",
       "    <tr>\n",
       "      <th>3</th>\n",
       "      <td>DOID:263</td>\n",
       "      <td>Kidney cancer</td>\n",
       "      <td>DOcancerslim</td>\n",
       "      <td>neoplastic</td>\n",
       "    </tr>\n",
       "    <tr>\n",
       "      <th>4</th>\n",
       "      <td>DOID:1793</td>\n",
       "      <td>Pancreatic cancer</td>\n",
       "      <td>DOcancerslim</td>\n",
       "      <td>neoplastic</td>\n",
       "    </tr>\n",
       "  </tbody>\n",
       "</table>\n",
       "</div>"
      ],
      "text/plain": [
       "        doid                name        source pathophysiology\n",
       "0  DOID:2531  Hematologic cancer  DOcancerslim      neoplastic\n",
       "1  DOID:1319        Brain cancer  DOcancerslim      neoplastic\n",
       "2  DOID:1324         Lung cancer  DOcancerslim      neoplastic\n",
       "3   DOID:263       Kidney cancer  DOcancerslim      neoplastic\n",
       "4  DOID:1793   Pancreatic cancer  DOcancerslim      neoplastic"
      ]
     },
     "execution_count": 16,
     "metadata": {},
     "output_type": "execute_result"
    }
   ],
   "source": [
    "commit = '72614ade9f1cc5a5317b8f6836e1e464b31d5587'\n",
    "url = rawgit('dhimmel', 'disease-ontology', commit, 'data/slim-terms.tsv')\n",
    "disease_df = pandas.read_table(url)\n",
    "disease_df.head()"
   ]
  },
  {
   "cell_type": "markdown",
   "metadata": {},
   "source": [
    "## Compound Nodes"
   ]
  },
  {
   "cell_type": "code",
   "execution_count": 17,
   "metadata": {
    "collapsed": false
   },
   "outputs": [
    {
     "data": {
      "text/html": [
       "<div style=\"max-height:1000px;max-width:1500px;overflow:auto;\">\n",
       "<table border=\"1\" class=\"dataframe\">\n",
       "  <thead>\n",
       "    <tr style=\"text-align: right;\">\n",
       "      <th></th>\n",
       "      <th>drugbank_id</th>\n",
       "      <th>name</th>\n",
       "      <th>type</th>\n",
       "      <th>groups</th>\n",
       "      <th>atc_codes</th>\n",
       "      <th>categories</th>\n",
       "      <th>inchikey</th>\n",
       "      <th>inchi</th>\n",
       "    </tr>\n",
       "  </thead>\n",
       "  <tbody>\n",
       "    <tr>\n",
       "      <th>0</th>\n",
       "      <td>DB00014</td>\n",
       "      <td>Goserelin</td>\n",
       "      <td>small molecule</td>\n",
       "      <td>approved</td>\n",
       "      <td>L02AE03</td>\n",
       "      <td>NaN</td>\n",
       "      <td>InChIKey=BLCLNMBMMGCOAS-URPVMXJPSA-N</td>\n",
       "      <td>InChI=1S/C59H84N18O14/c1-31(2)22-40(49(82)68-3...</td>\n",
       "    </tr>\n",
       "    <tr>\n",
       "      <th>1</th>\n",
       "      <td>DB00035</td>\n",
       "      <td>Desmopressin</td>\n",
       "      <td>small molecule</td>\n",
       "      <td>approved</td>\n",
       "      <td>H01BA02</td>\n",
       "      <td>Antidiuretic Agents|Hemostatics|Renal Agents</td>\n",
       "      <td>InChIKey=NFLWUMRGJYTJIN-NXBWRCJVSA-N</td>\n",
       "      <td>InChI=1S/C46H64N14O12S2/c47-35(62)15-14-29-40(...</td>\n",
       "    </tr>\n",
       "    <tr>\n",
       "      <th>2</th>\n",
       "      <td>DB00050</td>\n",
       "      <td>Cetrorelix</td>\n",
       "      <td>small molecule</td>\n",
       "      <td>approved|investigational</td>\n",
       "      <td>H01CC02</td>\n",
       "      <td>Hormone Antagonists|Fertility Agents</td>\n",
       "      <td>InChIKey=SBNPWPIBESPSIF-MHWMIDJBSA-N</td>\n",
       "      <td>InChI=1S/C70H92ClN17O14/c1-39(2)31-52(61(94)82...</td>\n",
       "    </tr>\n",
       "    <tr>\n",
       "      <th>3</th>\n",
       "      <td>DB00091</td>\n",
       "      <td>Cyclosporine</td>\n",
       "      <td>small molecule</td>\n",
       "      <td>approved|investigational</td>\n",
       "      <td>L04AD01|S01XA18</td>\n",
       "      <td>Antirheumatic Agents|Dermatologic Agents|Immun...</td>\n",
       "      <td>InChIKey=PMATZTZNYRCHOR-IMVLJIQENA-N</td>\n",
       "      <td>InChI=1/C62H111N11O12/c1-25-27-28-40(15)52(75)...</td>\n",
       "    </tr>\n",
       "    <tr>\n",
       "      <th>4</th>\n",
       "      <td>DB00093</td>\n",
       "      <td>Felypressin</td>\n",
       "      <td>small molecule</td>\n",
       "      <td>approved</td>\n",
       "      <td>NaN</td>\n",
       "      <td>Vasoconstrictor Agents|Renal Agents</td>\n",
       "      <td>InChIKey=SFKQVVDKFKYTNA-YVGXZPIDNA-N</td>\n",
       "      <td>InChI=1/C46H65N13O11S2/c47-18-8-7-14-29(40(64)...</td>\n",
       "    </tr>\n",
       "  </tbody>\n",
       "</table>\n",
       "</div>"
      ],
      "text/plain": [
       "  drugbank_id          name            type                    groups  \\\n",
       "0     DB00014     Goserelin  small molecule                  approved   \n",
       "1     DB00035  Desmopressin  small molecule                  approved   \n",
       "2     DB00050    Cetrorelix  small molecule  approved|investigational   \n",
       "3     DB00091  Cyclosporine  small molecule  approved|investigational   \n",
       "4     DB00093   Felypressin  small molecule                  approved   \n",
       "\n",
       "         atc_codes                                         categories  \\\n",
       "0          L02AE03                                                NaN   \n",
       "1          H01BA02       Antidiuretic Agents|Hemostatics|Renal Agents   \n",
       "2          H01CC02               Hormone Antagonists|Fertility Agents   \n",
       "3  L04AD01|S01XA18  Antirheumatic Agents|Dermatologic Agents|Immun...   \n",
       "4              NaN                Vasoconstrictor Agents|Renal Agents   \n",
       "\n",
       "                               inchikey  \\\n",
       "0  InChIKey=BLCLNMBMMGCOAS-URPVMXJPSA-N   \n",
       "1  InChIKey=NFLWUMRGJYTJIN-NXBWRCJVSA-N   \n",
       "2  InChIKey=SBNPWPIBESPSIF-MHWMIDJBSA-N   \n",
       "3  InChIKey=PMATZTZNYRCHOR-IMVLJIQENA-N   \n",
       "4  InChIKey=SFKQVVDKFKYTNA-YVGXZPIDNA-N   \n",
       "\n",
       "                                               inchi  \n",
       "0  InChI=1S/C59H84N18O14/c1-31(2)22-40(49(82)68-3...  \n",
       "1  InChI=1S/C46H64N14O12S2/c47-35(62)15-14-29-40(...  \n",
       "2  InChI=1S/C70H92ClN17O14/c1-39(2)31-52(61(94)82...  \n",
       "3  InChI=1/C62H111N11O12/c1-25-27-28-40(15)52(75)...  \n",
       "4  InChI=1/C46H65N13O11S2/c47-18-8-7-14-29(40(64)...  "
      ]
     },
     "execution_count": 17,
     "metadata": {},
     "output_type": "execute_result"
    }
   ],
   "source": [
    "commit = '3e87872db5fca5ac427ce27464ab945c0ceb4ec6'\n",
    "url = rawgit('dhimmel', 'drugbank', commit, 'data/drugbank-slim.tsv')\n",
    "compound_df = pandas.read_table(url)\n",
    "compound_df.head()"
   ]
  },
  {
   "cell_type": "markdown",
   "metadata": {},
   "source": [
    "## Symptom Nodes"
   ]
  },
  {
   "cell_type": "code",
   "execution_count": 19,
   "metadata": {
    "collapsed": false
   },
   "outputs": [
    {
     "data": {
      "text/html": [
       "<div style=\"max-height:1000px;max-width:1500px;overflow:auto;\">\n",
       "<table border=\"1\" class=\"dataframe\">\n",
       "  <thead>\n",
       "    <tr style=\"text-align: right;\">\n",
       "      <th></th>\n",
       "      <th>mesh_id</th>\n",
       "      <th>mesh_name</th>\n",
       "      <th>in_hsdn</th>\n",
       "    </tr>\n",
       "  </thead>\n",
       "  <tbody>\n",
       "    <tr>\n",
       "      <th>0</th>\n",
       "      <td>D000006</td>\n",
       "      <td>Abdomen, Acute</td>\n",
       "      <td>1</td>\n",
       "    </tr>\n",
       "    <tr>\n",
       "      <th>1</th>\n",
       "      <td>D000270</td>\n",
       "      <td>Adie Syndrome</td>\n",
       "      <td>0</td>\n",
       "    </tr>\n",
       "    <tr>\n",
       "      <th>2</th>\n",
       "      <td>D000326</td>\n",
       "      <td>Adrenoleukodystrophy</td>\n",
       "      <td>0</td>\n",
       "    </tr>\n",
       "    <tr>\n",
       "      <th>3</th>\n",
       "      <td>D000334</td>\n",
       "      <td>Aerophagy</td>\n",
       "      <td>1</td>\n",
       "    </tr>\n",
       "    <tr>\n",
       "      <th>4</th>\n",
       "      <td>D000370</td>\n",
       "      <td>Ageusia</td>\n",
       "      <td>1</td>\n",
       "    </tr>\n",
       "  </tbody>\n",
       "</table>\n",
       "</div>"
      ],
      "text/plain": [
       "   mesh_id             mesh_name  in_hsdn\n",
       "0  D000006        Abdomen, Acute        1\n",
       "1  D000270         Adie Syndrome        0\n",
       "2  D000326  Adrenoleukodystrophy        0\n",
       "3  D000334             Aerophagy        1\n",
       "4  D000370               Ageusia        1"
      ]
     },
     "execution_count": 19,
     "metadata": {},
     "output_type": "execute_result"
    }
   ],
   "source": [
    "commit = 'a7036a37302973b15ab949aab4056d9bc062910e'\n",
    "url = rawgit('dhimmel', 'mesh', commit, 'data/symptoms.tsv')\n",
    "compound_df = pandas.read_table(url)\n",
    "compound_df.head()"
   ]
  },
  {
   "cell_type": "code",
   "execution_count": null,
   "metadata": {
    "collapsed": true
   },
   "outputs": [],
   "source": []
  },
  {
   "cell_type": "code",
   "execution_count": null,
   "metadata": {
    "collapsed": true
   },
   "outputs": [],
   "source": []
  },
  {
   "cell_type": "markdown",
   "metadata": {
    "collapsed": true
   },
   "source": [
    "## Pathway Nodes and Edges"
   ]
  },
  {
   "cell_type": "code",
   "execution_count": 5,
   "metadata": {
    "collapsed": false
   },
   "outputs": [
    {
     "data": {
      "text/html": [
       "<div>\n",
       "<table border=\"1\" class=\"dataframe\">\n",
       "  <thead>\n",
       "    <tr style=\"text-align: right;\">\n",
       "      <th></th>\n",
       "      <th>identifier</th>\n",
       "      <th>name</th>\n",
       "      <th>url</th>\n",
       "      <th>n_genes</th>\n",
       "      <th>n_coding_genes</th>\n",
       "      <th>source</th>\n",
       "      <th>genes</th>\n",
       "      <th>coding_genes</th>\n",
       "    </tr>\n",
       "  </thead>\n",
       "  <tbody>\n",
       "    <tr>\n",
       "      <th>0</th>\n",
       "      <td>KEGG_GLYCOLYSIS_GLUCONEOGENESIS</td>\n",
       "      <td>KEGG_GLYCOLYSIS_GLUCONEOGENESIS</td>\n",
       "      <td>http://www.broadinstitute.org/gsea/msigdb/card...</td>\n",
       "      <td>62</td>\n",
       "      <td>62</td>\n",
       "      <td>msigdb</td>\n",
       "      <td>2821|5162|2026|130|501|126|220|5236|2597|2027|...</td>\n",
       "      <td>2821|5162|2026|130|126|501|220|5236|2597|2027|...</td>\n",
       "    </tr>\n",
       "    <tr>\n",
       "      <th>1</th>\n",
       "      <td>KEGG_CITRATE_CYCLE_TCA_CYCLE</td>\n",
       "      <td>KEGG_CITRATE_CYCLE_TCA_CYCLE</td>\n",
       "      <td>http://www.broadinstitute.org/gsea/msigdb/card...</td>\n",
       "      <td>32</td>\n",
       "      <td>30</td>\n",
       "      <td>msigdb</td>\n",
       "      <td>5162|2271|3419|1431|4967|5161|8803|6392|48|174...</td>\n",
       "      <td>5162|2271|3419|1431|4967|5161|8803|6392|48|174...</td>\n",
       "    </tr>\n",
       "    <tr>\n",
       "      <th>2</th>\n",
       "      <td>KEGG_PENTOSE_PHOSPHATE_PATHWAY</td>\n",
       "      <td>KEGG_PENTOSE_PHOSPHATE_PATHWAY</td>\n",
       "      <td>http://www.broadinstitute.org/gsea/msigdb/card...</td>\n",
       "      <td>27</td>\n",
       "      <td>27</td>\n",
       "      <td>msigdb</td>\n",
       "      <td>2821|22934|8789|84076|5634|5236|226|51071|5211...</td>\n",
       "      <td>2821|84076|5634|5236|51071|229|729020|221823|5...</td>\n",
       "    </tr>\n",
       "    <tr>\n",
       "      <th>3</th>\n",
       "      <td>KEGG_PENTOSE_AND_GLUCURONATE_INTERCONVERSIONS</td>\n",
       "      <td>KEGG_PENTOSE_AND_GLUCURONATE_INTERCONVERSIONS</td>\n",
       "      <td>http://www.broadinstitute.org/gsea/msigdb/card...</td>\n",
       "      <td>28</td>\n",
       "      <td>28</td>\n",
       "      <td>msigdb</td>\n",
       "      <td>54576|7360|7366|54578|54657|51084|54490|51181|...</td>\n",
       "      <td>54657|54490|51181|729020|231|10720|54575|54577...</td>\n",
       "    </tr>\n",
       "    <tr>\n",
       "      <th>4</th>\n",
       "      <td>KEGG_FRUCTOSE_AND_MANNOSE_METABOLISM</td>\n",
       "      <td>KEGG_FRUCTOSE_AND_MANNOSE_METABOLISM</td>\n",
       "      <td>http://www.broadinstitute.org/gsea/msigdb/card...</td>\n",
       "      <td>34</td>\n",
       "      <td>34</td>\n",
       "      <td>msigdb</td>\n",
       "      <td>5209|5372|229|29085|3099|231|197258|7167|4351|...</td>\n",
       "      <td>5209|5372|229|29085|3099|231|197258|7167|4351|...</td>\n",
       "    </tr>\n",
       "  </tbody>\n",
       "</table>\n",
       "</div>"
      ],
      "text/plain": [
       "                                      identifier  \\\n",
       "0                KEGG_GLYCOLYSIS_GLUCONEOGENESIS   \n",
       "1                   KEGG_CITRATE_CYCLE_TCA_CYCLE   \n",
       "2                 KEGG_PENTOSE_PHOSPHATE_PATHWAY   \n",
       "3  KEGG_PENTOSE_AND_GLUCURONATE_INTERCONVERSIONS   \n",
       "4           KEGG_FRUCTOSE_AND_MANNOSE_METABOLISM   \n",
       "\n",
       "                                            name  \\\n",
       "0                KEGG_GLYCOLYSIS_GLUCONEOGENESIS   \n",
       "1                   KEGG_CITRATE_CYCLE_TCA_CYCLE   \n",
       "2                 KEGG_PENTOSE_PHOSPHATE_PATHWAY   \n",
       "3  KEGG_PENTOSE_AND_GLUCURONATE_INTERCONVERSIONS   \n",
       "4           KEGG_FRUCTOSE_AND_MANNOSE_METABOLISM   \n",
       "\n",
       "                                                 url  n_genes  n_coding_genes  \\\n",
       "0  http://www.broadinstitute.org/gsea/msigdb/card...       62              62   \n",
       "1  http://www.broadinstitute.org/gsea/msigdb/card...       32              30   \n",
       "2  http://www.broadinstitute.org/gsea/msigdb/card...       27              27   \n",
       "3  http://www.broadinstitute.org/gsea/msigdb/card...       28              28   \n",
       "4  http://www.broadinstitute.org/gsea/msigdb/card...       34              34   \n",
       "\n",
       "   source                                              genes  \\\n",
       "0  msigdb  2821|5162|2026|130|501|126|220|5236|2597|2027|...   \n",
       "1  msigdb  5162|2271|3419|1431|4967|5161|8803|6392|48|174...   \n",
       "2  msigdb  2821|22934|8789|84076|5634|5236|226|51071|5211...   \n",
       "3  msigdb  54576|7360|7366|54578|54657|51084|54490|51181|...   \n",
       "4  msigdb  5209|5372|229|29085|3099|231|197258|7167|4351|...   \n",
       "\n",
       "                                        coding_genes  \n",
       "0  2821|5162|2026|130|126|501|220|5236|2597|2027|...  \n",
       "1  5162|2271|3419|1431|4967|5161|8803|6392|48|174...  \n",
       "2  2821|84076|5634|5236|51071|229|729020|221823|5...  \n",
       "3  54657|54490|51181|729020|231|10720|54575|54577...  \n",
       "4  5209|5372|229|29085|3099|231|197258|7167|4351|...  "
      ]
     },
     "execution_count": 5,
     "metadata": {},
     "output_type": "execute_result"
    }
   ],
   "source": [
    "commit = '5eb835b33629ffed4e22978e98a702e30ebd7076'\n",
    "url = rawgit('dhimmel', 'pathways', commit, 'data/pathways.tsv')\n",
    "pathway_df = pandas.read_table(url)\n",
    "pathway_df = pathway_df[pathway_df.coding_genes > 1]"
   ]
  },
  {
   "cell_type": "code",
   "execution_count": null,
   "metadata": {
    "collapsed": true
   },
   "outputs": [],
   "source": []
  }
 ],
 "metadata": {
  "kernelspec": {
   "display_name": "Python 3",
   "language": "python",
   "name": "python3"
  },
  "language_info": {
   "codemirror_mode": {
    "name": "ipython",
    "version": 3
   },
   "file_extension": ".py",
   "mimetype": "text/x-python",
   "name": "python",
   "nbconvert_exporter": "python",
   "pygments_lexer": "ipython3",
   "version": "3.4.3"
  }
 },
 "nbformat": 4,
 "nbformat_minor": 0
}
