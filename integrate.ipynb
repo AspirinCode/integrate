{
 "cells": [
  {
   "cell_type": "markdown",
   "metadata": {},
   "source": [
    "# Integrate resources to create a drug repurposing hetnet"
   ]
  },
  {
   "cell_type": "code",
   "execution_count": 1,
   "metadata": {
    "collapsed": false
   },
   "outputs": [],
   "source": [
    "import pandas\n",
    "import seaborn\n",
    "\n",
    "import hetio.hetnet\n",
    "import hetio.readwrite\n",
    "import hetio.stats\n",
    "\n",
    "from utils import rawgit, obo_iri"
   ]
  },
  {
   "cell_type": "markdown",
   "metadata": {
    "collapsed": false
   },
   "source": [
    "## Define the metagraph and instantiate the graph"
   ]
  },
  {
   "cell_type": "code",
   "execution_count": 2,
   "metadata": {
    "collapsed": false
   },
   "outputs": [],
   "source": [
    "kind_to_abbev = {\n",
    "    \n",
    "    # metanodes\n",
    "    'Compound': 'C',\n",
    "    'Disease': 'D',\n",
    "    'Gene': 'G',\n",
    "    'Anatomy': 'A',\n",
    "    'Symptom': 'S',\n",
    "    'Side Effect': 'SE',\n",
    "    'Pathway': 'PW',\n",
    "    'Perturbation': 'PB',\n",
    "    'Biological Process': 'BP',\n",
    "    'Cellular Component': 'CC',\n",
    "    'Molecular Function': 'MF',\n",
    "    \n",
    "    # metaedges\n",
    "    'treats': 't',\n",
    "    'palliates': 'p',\n",
    "    'binds': 'b',\n",
    "    'expresses': 'e',\n",
    "    'regulates': 'r',\n",
    "    'upregulates': 'u',\n",
    "    'downregulates': 'd',\n",
    "    'interacts': 'i',\n",
    "    'covaries': 'c',\n",
    "    'regulates': 'r',\n",
    "    'participates': 'p',\n",
    "    'resembles': 'r',\n",
    "    'associates': 'a',\n",
    "    'localizes': 'l',\n",
    "    'presents': 'p',\n",
    "    'causes': 'c',\n",
    "}\n",
    "\n",
    "metaedge_tuples = [\n",
    "    ('Compound', 'Disease', 'treats', 'both'),\n",
    "    ('Compound', 'Disease', 'palliates', 'both'),\n",
    "    ('Compound', 'Gene', 'binds', 'both'),\n",
    "    ('Compound', 'Gene', 'upregulates', 'both'),\n",
    "    ('Compound', 'Gene', 'downregulates', 'both'),\n",
    "    ('Compound', 'Compound', 'resembles', 'both'),\n",
    "    ('Compound', 'Side Effect', 'causes', 'both'),\n",
    "    ('Anatomy', 'Gene', 'expresses', 'both'),\n",
    "    ('Anatomy', 'Gene', 'upregulates', 'both'),\n",
    "    ('Anatomy', 'Gene', 'downregulates', 'both'),\n",
    "    ('Gene', 'Gene', 'interacts', 'both'),\n",
    "    ('Gene', 'Gene', 'covaries', 'both'),\n",
    "    ('Gene', 'Gene', 'regulates', 'forward'),\n",
    "    ('Gene', 'Pathway', 'participates', 'both'),\n",
    "    ('Perturbation', 'Gene', 'regulates', 'both'),\n",
    "    ('Gene', 'Biological Process', 'participates', 'both'),\n",
    "    ('Gene', 'Cellular Component', 'participates', 'both'),\n",
    "    ('Gene', 'Molecular Function', 'participates', 'both'),\n",
    "    ('Disease', 'Disease', 'resembles', 'both'),\n",
    "    ('Disease', 'Gene', 'associates', 'both'),\n",
    "    ('Disease', 'Gene', 'upregulates', 'both'),\n",
    "    ('Disease', 'Gene', 'downregulates', 'both'),\n",
    "    ('Disease', 'Anatomy', 'localizes', 'both'),\n",
    "    ('Disease', 'Symptom', 'presents', 'both'),\n",
    "]\n",
    "metagraph = hetio.hetnet.MetaGraph.from_edge_tuples(metaedge_tuples, kind_to_abbev)\n",
    "graph = hetio.hetnet.Graph(metagraph)"
   ]
  },
  {
   "cell_type": "markdown",
   "metadata": {},
   "source": [
    "## Gene Nodes"
   ]
  },
  {
   "cell_type": "code",
   "execution_count": 3,
   "metadata": {
    "collapsed": false
   },
   "outputs": [
    {
     "data": {
      "text/html": [
       "<div>\n",
       "<table border=\"1\" class=\"dataframe\">\n",
       "  <thead>\n",
       "    <tr style=\"text-align: right;\">\n",
       "      <th></th>\n",
       "      <th>tax_id</th>\n",
       "      <th>GeneID</th>\n",
       "      <th>Symbol</th>\n",
       "      <th>chromosome</th>\n",
       "      <th>map_location</th>\n",
       "      <th>type_of_gene</th>\n",
       "      <th>description</th>\n",
       "    </tr>\n",
       "  </thead>\n",
       "  <tbody>\n",
       "    <tr>\n",
       "      <th>0</th>\n",
       "      <td>9606</td>\n",
       "      <td>1</td>\n",
       "      <td>A1BG</td>\n",
       "      <td>19</td>\n",
       "      <td>19q13.4</td>\n",
       "      <td>protein-coding</td>\n",
       "      <td>alpha-1-B glycoprotein</td>\n",
       "    </tr>\n",
       "    <tr>\n",
       "      <th>1</th>\n",
       "      <td>9606</td>\n",
       "      <td>2</td>\n",
       "      <td>A2M</td>\n",
       "      <td>12</td>\n",
       "      <td>12p13.31</td>\n",
       "      <td>protein-coding</td>\n",
       "      <td>alpha-2-macroglobulin</td>\n",
       "    </tr>\n",
       "  </tbody>\n",
       "</table>\n",
       "</div>"
      ],
      "text/plain": [
       "   tax_id  GeneID Symbol chromosome map_location    type_of_gene  \\\n",
       "0    9606       1   A1BG         19      19q13.4  protein-coding   \n",
       "1    9606       2    A2M         12     12p13.31  protein-coding   \n",
       "\n",
       "              description  \n",
       "0  alpha-1-B glycoprotein  \n",
       "1   alpha-2-macroglobulin  "
      ]
     },
     "execution_count": 3,
     "metadata": {},
     "output_type": "execute_result"
    }
   ],
   "source": [
    "commit = 'a7362748a34211e5df6f2d185bb3246279760546'\n",
    "url = rawgit('dhimmel', 'entrez-gene', commit, 'data/genes-human.tsv')\n",
    "gene_df = pandas.read_table(url)\n",
    "gene_df = gene_df[gene_df.type_of_gene == 'protein-coding']\n",
    "coding_genes = set(gene_df.GeneID)\n",
    "gene_df.head(2)"
   ]
  },
  {
   "cell_type": "code",
   "execution_count": 4,
   "metadata": {
    "collapsed": false
   },
   "outputs": [],
   "source": [
    "for i, row in gene_df.iterrows():\n",
    "    if row.type_of_gene != 'protein-coding':\n",
    "        continue\n",
    "    data = {\n",
    "        'description': row['description'],\n",
    "        'source': 'Entrez Gene',\n",
    "        'url': 'http://identifiers.org/ncbigene/{}'.format(row.GeneID),\n",
    "        'license': 'CC0 1.0',\n",
    "    }\n",
    "    if pandas.notnull(row['chromosome']):\n",
    "        data['chromosome'] = row['chromosome']\n",
    "    graph.add_node(kind = 'Gene', identifier=row.GeneID, name=row.Symbol, data=data)"
   ]
  },
  {
   "cell_type": "markdown",
   "metadata": {},
   "source": [
    "## Disease Nodes"
   ]
  },
  {
   "cell_type": "code",
   "execution_count": 5,
   "metadata": {
    "collapsed": false
   },
   "outputs": [
    {
     "data": {
      "text/html": [
       "<div>\n",
       "<table border=\"1\" class=\"dataframe\">\n",
       "  <thead>\n",
       "    <tr style=\"text-align: right;\">\n",
       "      <th></th>\n",
       "      <th>doid</th>\n",
       "      <th>name</th>\n",
       "      <th>source</th>\n",
       "      <th>pathophysiology</th>\n",
       "    </tr>\n",
       "  </thead>\n",
       "  <tbody>\n",
       "    <tr>\n",
       "      <th>0</th>\n",
       "      <td>DOID:2531</td>\n",
       "      <td>Hematologic cancer</td>\n",
       "      <td>DOcancerslim</td>\n",
       "      <td>neoplastic</td>\n",
       "    </tr>\n",
       "    <tr>\n",
       "      <th>1</th>\n",
       "      <td>DOID:1319</td>\n",
       "      <td>Brain cancer</td>\n",
       "      <td>DOcancerslim</td>\n",
       "      <td>neoplastic</td>\n",
       "    </tr>\n",
       "  </tbody>\n",
       "</table>\n",
       "</div>"
      ],
      "text/plain": [
       "        doid                name        source pathophysiology\n",
       "0  DOID:2531  Hematologic cancer  DOcancerslim      neoplastic\n",
       "1  DOID:1319        Brain cancer  DOcancerslim      neoplastic"
      ]
     },
     "execution_count": 5,
     "metadata": {},
     "output_type": "execute_result"
    }
   ],
   "source": [
    "commit = '72614ade9f1cc5a5317b8f6836e1e464b31d5587'\n",
    "url = rawgit('dhimmel', 'disease-ontology', commit, 'data/slim-terms.tsv')\n",
    "disease_df = pandas.read_table(url)\n",
    "disease_df.head(2)"
   ]
  },
  {
   "cell_type": "code",
   "execution_count": 6,
   "metadata": {
    "collapsed": false
   },
   "outputs": [],
   "source": [
    "for i, row in disease_df.iterrows():\n",
    "    data = {\n",
    "        'source': 'Disease Ontology',\n",
    "        'url': obo_iri(row.doid),\n",
    "        'license': 'CC BY 3.0',\n",
    "    }\n",
    "    graph.add_node(kind='Disease', identifier=row.doid, name=row['name'], data=data)"
   ]
  },
  {
   "cell_type": "markdown",
   "metadata": {},
   "source": [
    "## Compound Nodes"
   ]
  },
  {
   "cell_type": "code",
   "execution_count": 7,
   "metadata": {
    "collapsed": false
   },
   "outputs": [
    {
     "data": {
      "text/html": [
       "<div>\n",
       "<table border=\"1\" class=\"dataframe\">\n",
       "  <thead>\n",
       "    <tr style=\"text-align: right;\">\n",
       "      <th></th>\n",
       "      <th>drugbank_id</th>\n",
       "      <th>name</th>\n",
       "      <th>type</th>\n",
       "      <th>groups</th>\n",
       "      <th>atc_codes</th>\n",
       "      <th>categories</th>\n",
       "      <th>inchikey</th>\n",
       "      <th>inchi</th>\n",
       "    </tr>\n",
       "  </thead>\n",
       "  <tbody>\n",
       "    <tr>\n",
       "      <th>0</th>\n",
       "      <td>DB00014</td>\n",
       "      <td>Goserelin</td>\n",
       "      <td>small molecule</td>\n",
       "      <td>approved</td>\n",
       "      <td>L02AE03</td>\n",
       "      <td>NaN</td>\n",
       "      <td>InChIKey=BLCLNMBMMGCOAS-URPVMXJPSA-N</td>\n",
       "      <td>InChI=1S/C59H84N18O14/c1-31(2)22-40(49(82)68-3...</td>\n",
       "    </tr>\n",
       "    <tr>\n",
       "      <th>1</th>\n",
       "      <td>DB00035</td>\n",
       "      <td>Desmopressin</td>\n",
       "      <td>small molecule</td>\n",
       "      <td>approved</td>\n",
       "      <td>H01BA02</td>\n",
       "      <td>Antidiuretic Agents|Hemostatics|Renal Agents</td>\n",
       "      <td>InChIKey=NFLWUMRGJYTJIN-NXBWRCJVSA-N</td>\n",
       "      <td>InChI=1S/C46H64N14O12S2/c47-35(62)15-14-29-40(...</td>\n",
       "    </tr>\n",
       "  </tbody>\n",
       "</table>\n",
       "</div>"
      ],
      "text/plain": [
       "  drugbank_id          name            type    groups atc_codes  \\\n",
       "0     DB00014     Goserelin  small molecule  approved   L02AE03   \n",
       "1     DB00035  Desmopressin  small molecule  approved   H01BA02   \n",
       "\n",
       "                                     categories  \\\n",
       "0                                           NaN   \n",
       "1  Antidiuretic Agents|Hemostatics|Renal Agents   \n",
       "\n",
       "                               inchikey  \\\n",
       "0  InChIKey=BLCLNMBMMGCOAS-URPVMXJPSA-N   \n",
       "1  InChIKey=NFLWUMRGJYTJIN-NXBWRCJVSA-N   \n",
       "\n",
       "                                               inchi  \n",
       "0  InChI=1S/C59H84N18O14/c1-31(2)22-40(49(82)68-3...  \n",
       "1  InChI=1S/C46H64N14O12S2/c47-35(62)15-14-29-40(...  "
      ]
     },
     "execution_count": 7,
     "metadata": {},
     "output_type": "execute_result"
    }
   ],
   "source": [
    "commit = '3e87872db5fca5ac427ce27464ab945c0ceb4ec6'\n",
    "url = rawgit('dhimmel', 'drugbank', commit, 'data/drugbank-slim.tsv')\n",
    "compound_df = pandas.read_table(url)\n",
    "compound_df.head(2)"
   ]
  },
  {
   "cell_type": "code",
   "execution_count": 8,
   "metadata": {
    "collapsed": false
   },
   "outputs": [],
   "source": [
    "for i, row in compound_df.iterrows():\n",
    "    url = 'http://www.drugbank.ca/drugs/' + row.drugbank_id\n",
    "    data = {\n",
    "        'source': 'DrugBank',\n",
    "        'inchikey': row.inchikey,\n",
    "        'inchi': row.inchi, 'url': url,\n",
    "        'license': 'CC BY-NC 4.0',\n",
    "    }\n",
    "    graph.add_node(kind='Compound', identifier=row.drugbank_id, name=row['name'], data=data)"
   ]
  },
  {
   "cell_type": "markdown",
   "metadata": {},
   "source": [
    "## Anotomy nodes"
   ]
  },
  {
   "cell_type": "code",
   "execution_count": 9,
   "metadata": {
    "collapsed": false
   },
   "outputs": [
    {
     "data": {
      "text/html": [
       "<div>\n",
       "<table border=\"1\" class=\"dataframe\">\n",
       "  <thead>\n",
       "    <tr style=\"text-align: right;\">\n",
       "      <th></th>\n",
       "      <th>uberon_id</th>\n",
       "      <th>uberon_name</th>\n",
       "      <th>mesh_id</th>\n",
       "      <th>mesh_name</th>\n",
       "      <th>bto_id</th>\n",
       "    </tr>\n",
       "  </thead>\n",
       "  <tbody>\n",
       "    <tr>\n",
       "      <th>0</th>\n",
       "      <td>UBERON:0000002</td>\n",
       "      <td>uterine cervix</td>\n",
       "      <td>D002584</td>\n",
       "      <td>Cervix Uteri</td>\n",
       "      <td>BTO:0001421</td>\n",
       "    </tr>\n",
       "    <tr>\n",
       "      <th>1</th>\n",
       "      <td>UBERON:0000004</td>\n",
       "      <td>nose</td>\n",
       "      <td>D009666</td>\n",
       "      <td>Nose</td>\n",
       "      <td>BTO:0000840</td>\n",
       "    </tr>\n",
       "  </tbody>\n",
       "</table>\n",
       "</div>"
      ],
      "text/plain": [
       "        uberon_id     uberon_name  mesh_id     mesh_name       bto_id\n",
       "0  UBERON:0000002  uterine cervix  D002584  Cervix Uteri  BTO:0001421\n",
       "1  UBERON:0000004            nose  D009666          Nose  BTO:0000840"
      ]
     },
     "execution_count": 9,
     "metadata": {},
     "output_type": "execute_result"
    }
   ],
   "source": [
    "commit = '134f23479186abba03ba340fc6dc90e16c781920'\n",
    "url = rawgit('dhimmel', 'uberon', commit, 'data/hetio-slim.tsv')\n",
    "uberon_df = pandas.read_table(url)\n",
    "uberon_df.head(2)"
   ]
  },
  {
   "cell_type": "code",
   "execution_count": 10,
   "metadata": {
    "collapsed": true
   },
   "outputs": [],
   "source": [
    "for i, row in uberon_df.iterrows():\n",
    "    data = {\n",
    "        'source': 'Uberon',\n",
    "        'url': obo_iri(row['uberon_id']),\n",
    "        'license': 'CC BY 3.0',\n",
    "    }\n",
    "    for xref in 'mesh_id', 'bto_id':\n",
    "        if pandas.notnull(row[xref]):\n",
    "            data[xref] = row[xref]\n",
    "    graph.add_node(kind='Anatomy', identifier=row['uberon_id'], name=row['uberon_name'], data=data)"
   ]
  },
  {
   "cell_type": "markdown",
   "metadata": {},
   "source": [
    "## Symptom Nodes"
   ]
  },
  {
   "cell_type": "code",
   "execution_count": 11,
   "metadata": {
    "collapsed": false
   },
   "outputs": [
    {
     "data": {
      "text/html": [
       "<div>\n",
       "<table border=\"1\" class=\"dataframe\">\n",
       "  <thead>\n",
       "    <tr style=\"text-align: right;\">\n",
       "      <th></th>\n",
       "      <th>mesh_id</th>\n",
       "      <th>mesh_name</th>\n",
       "      <th>in_hsdn</th>\n",
       "    </tr>\n",
       "  </thead>\n",
       "  <tbody>\n",
       "    <tr>\n",
       "      <th>0</th>\n",
       "      <td>D000006</td>\n",
       "      <td>Abdomen, Acute</td>\n",
       "      <td>1</td>\n",
       "    </tr>\n",
       "    <tr>\n",
       "      <th>1</th>\n",
       "      <td>D000270</td>\n",
       "      <td>Adie Syndrome</td>\n",
       "      <td>0</td>\n",
       "    </tr>\n",
       "  </tbody>\n",
       "</table>\n",
       "</div>"
      ],
      "text/plain": [
       "   mesh_id       mesh_name  in_hsdn\n",
       "0  D000006  Abdomen, Acute        1\n",
       "1  D000270   Adie Syndrome        0"
      ]
     },
     "execution_count": 11,
     "metadata": {},
     "output_type": "execute_result"
    }
   ],
   "source": [
    "commit = 'a7036a37302973b15ab949aab4056d9bc062910e'\n",
    "url = rawgit('dhimmel', 'mesh', commit, 'data/symptoms.tsv')\n",
    "symptom_df = pandas.read_table(url)\n",
    "symptom_df.head(2)"
   ]
  },
  {
   "cell_type": "code",
   "execution_count": 12,
   "metadata": {
    "collapsed": true
   },
   "outputs": [],
   "source": [
    "for i, row in symptom_df.iterrows():\n",
    "    url = 'http://www.nlm.nih.gov/cgi/mesh/2015/MB_cgi?field=uid&term={}'.format(row.mesh_id)\n",
    "    data = {\n",
    "        'source': 'MeSH',\n",
    "        'url': url,\n",
    "        'license': 'CC0 1.0',\n",
    "    }\n",
    "    graph.add_node(kind='Symptom', identifier=row.mesh_id, name=row.mesh_name, data=data)"
   ]
  },
  {
   "cell_type": "markdown",
   "metadata": {
    "collapsed": true
   },
   "source": [
    "## Pathway Nodes and Edges"
   ]
  },
  {
   "cell_type": "code",
   "execution_count": 13,
   "metadata": {
    "collapsed": false
   },
   "outputs": [
    {
     "data": {
      "text/html": [
       "<div>\n",
       "<table border=\"1\" class=\"dataframe\">\n",
       "  <thead>\n",
       "    <tr style=\"text-align: right;\">\n",
       "      <th></th>\n",
       "      <th>identifier</th>\n",
       "      <th>name</th>\n",
       "      <th>url</th>\n",
       "      <th>n_genes</th>\n",
       "      <th>n_coding_genes</th>\n",
       "      <th>source</th>\n",
       "      <th>license</th>\n",
       "      <th>genes</th>\n",
       "      <th>coding_genes</th>\n",
       "    </tr>\n",
       "  </thead>\n",
       "  <tbody>\n",
       "    <tr>\n",
       "      <th>1622</th>\n",
       "      <td>WP80_r68938</td>\n",
       "      <td>Nucleotide GPCRs</td>\n",
       "      <td>http://www.wikipathways.org/instance/WP80_r68938</td>\n",
       "      <td>12</td>\n",
       "      <td>12</td>\n",
       "      <td>wikipathways</td>\n",
       "      <td>CC-BY 3.0</td>\n",
       "      <td>10161|1241|134|135|136|140|2846|5028|5029|5030...</td>\n",
       "      <td>10161|1241|134|135|136|140|2846|5028|5029|5030...</td>\n",
       "    </tr>\n",
       "    <tr>\n",
       "      <th>1623</th>\n",
       "      <td>WP98_r72088</td>\n",
       "      <td>Prostaglandin Synthesis and Regulation</td>\n",
       "      <td>http://www.wikipathways.org/instance/WP98_r72088</td>\n",
       "      <td>30</td>\n",
       "      <td>30</td>\n",
       "      <td>wikipathways</td>\n",
       "      <td>CC-BY 3.0</td>\n",
       "      <td>1583|1906|1909|1910|301|302|306|307|308|309|32...</td>\n",
       "      <td>1583|1906|1909|1910|301|302|306|307|308|309|32...</td>\n",
       "    </tr>\n",
       "  </tbody>\n",
       "</table>\n",
       "</div>"
      ],
      "text/plain": [
       "       identifier                                    name  \\\n",
       "1622  WP80_r68938                        Nucleotide GPCRs   \n",
       "1623  WP98_r72088  Prostaglandin Synthesis and Regulation   \n",
       "\n",
       "                                                   url  n_genes  \\\n",
       "1622  http://www.wikipathways.org/instance/WP80_r68938       12   \n",
       "1623  http://www.wikipathways.org/instance/WP98_r72088       30   \n",
       "\n",
       "      n_coding_genes        source    license  \\\n",
       "1622              12  wikipathways  CC-BY 3.0   \n",
       "1623              30  wikipathways  CC-BY 3.0   \n",
       "\n",
       "                                                  genes  \\\n",
       "1622  10161|1241|134|135|136|140|2846|5028|5029|5030...   \n",
       "1623  1583|1906|1909|1910|301|302|306|307|308|309|32...   \n",
       "\n",
       "                                           coding_genes  \n",
       "1622  10161|1241|134|135|136|140|2846|5028|5029|5030...  \n",
       "1623  1583|1906|1909|1910|301|302|306|307|308|309|32...  "
      ]
     },
     "execution_count": 13,
     "metadata": {},
     "output_type": "execute_result"
    }
   ],
   "source": [
    "commit = '4916b525722f94f61d59ed38cb67aa3052404610'\n",
    "url = rawgit('dhimmel', 'pathways', commit, 'data/pathways.tsv')\n",
    "pathway_df = pandas.read_table(url)\n",
    "pathway_df = pathway_df[pathway_df.n_coding_genes > 1]\n",
    "pathway_df.tail(2)"
   ]
  },
  {
   "cell_type": "code",
   "execution_count": 14,
   "metadata": {
    "collapsed": false
   },
   "outputs": [],
   "source": [
    "for i, row in pathway_df.iterrows():\n",
    "    pathway_id = row.identifier\n",
    "    data = {'url': row.url, 'license': row.license}\n",
    "    if row.source.lower() == 'wikipathways':\n",
    "        source = 'WikiPathways'\n",
    "    if row.source.lower() == 'msigdb':\n",
    "        source = 'MSigDB'\n",
    "    data['source'] = source\n",
    "    graph.add_node(kind='Pathway', identifier=pathway_id, name=row['name'], data=data)\n",
    "    \n",
    "    for gene in row.coding_genes.split('|'):\n",
    "        gene = int(gene)\n",
    "        source_id = 'Gene', gene\n",
    "        target_id = 'Pathway', pathway_id\n",
    "        data = {'source': source, 'unbiased': False, 'url': row.url, 'license': row.license}\n",
    "        graph.add_edge(source_id, target_id, 'participates', 'both', data)"
   ]
  },
  {
   "cell_type": "markdown",
   "metadata": {},
   "source": [
    "## Gene Ontology Domains"
   ]
  },
  {
   "cell_type": "code",
   "execution_count": 15,
   "metadata": {
    "collapsed": false
   },
   "outputs": [
    {
     "data": {
      "text/html": [
       "<div>\n",
       "<table border=\"1\" class=\"dataframe\">\n",
       "  <thead>\n",
       "    <tr style=\"text-align: right;\">\n",
       "      <th></th>\n",
       "      <th>go_id</th>\n",
       "      <th>go_name</th>\n",
       "      <th>go_domain</th>\n",
       "      <th>tax_id</th>\n",
       "      <th>annotation_type</th>\n",
       "      <th>size</th>\n",
       "      <th>gene_ids</th>\n",
       "      <th>gene_symbols</th>\n",
       "    </tr>\n",
       "  </thead>\n",
       "  <tbody>\n",
       "    <tr>\n",
       "      <th>0</th>\n",
       "      <td>GO:0000002</td>\n",
       "      <td>mitochondrial genome maintenance</td>\n",
       "      <td>biological_process</td>\n",
       "      <td>9606</td>\n",
       "      <td>inferred</td>\n",
       "      <td>25</td>\n",
       "      <td>142|291|1763|1890|3980|4205|4358|4976|5428|708...</td>\n",
       "      <td>PARP1|SLC25A4|DNA2|TYMP|LIG3|MEF2A|MPV17|OPA1|...</td>\n",
       "    </tr>\n",
       "    <tr>\n",
       "      <th>1</th>\n",
       "      <td>GO:0000003</td>\n",
       "      <td>reproduction</td>\n",
       "      <td>biological_process</td>\n",
       "      <td>9606</td>\n",
       "      <td>inferred</td>\n",
       "      <td>1333</td>\n",
       "      <td>18|49|51|90|91|92|100|109|113|116|117|133|150|...</td>\n",
       "      <td>ABAT|ACR|ACOX1|ACVR1|ACVR1B|ACVR2A|ADA|ADCY3|A...</td>\n",
       "    </tr>\n",
       "  </tbody>\n",
       "</table>\n",
       "</div>"
      ],
      "text/plain": [
       "        go_id                           go_name           go_domain  tax_id  \\\n",
       "0  GO:0000002  mitochondrial genome maintenance  biological_process    9606   \n",
       "1  GO:0000003                      reproduction  biological_process    9606   \n",
       "\n",
       "  annotation_type  size                                           gene_ids  \\\n",
       "0        inferred    25  142|291|1763|1890|3980|4205|4358|4976|5428|708...   \n",
       "1        inferred  1333  18|49|51|90|91|92|100|109|113|116|117|133|150|...   \n",
       "\n",
       "                                        gene_symbols  \n",
       "0  PARP1|SLC25A4|DNA2|TYMP|LIG3|MEF2A|MPV17|OPA1|...  \n",
       "1  ABAT|ACR|ACOX1|ACVR1|ACVR1B|ACVR2A|ADA|ADCY3|A...  "
      ]
     },
     "execution_count": 15,
     "metadata": {},
     "output_type": "execute_result"
    }
   ],
   "source": [
    "commit = '87bab297f55db283e65a7a984607316b409415ae'\n",
    "url = rawgit('dhimmel', 'gene-ontology', commit, 'annotations/taxid_9606/GO_annotations-9606-inferred-allev.tsv')\n",
    "go_df = pandas.read_table(url)\n",
    "go_df.head(2)"
   ]
  },
  {
   "cell_type": "code",
   "execution_count": 16,
   "metadata": {
    "collapsed": false
   },
   "outputs": [],
   "source": [
    "for i, row in go_df.iterrows():\n",
    "    genes = coding_genes & set(map(int, row.gene_ids.split('|')))\n",
    "    if 2 > len(genes) or len(genes) > 1000:\n",
    "        continue\n",
    "    kind = row['go_domain'].replace('_', ' ').title()\n",
    "    data = {'source': 'Gene Ontology', 'url': obo_iri(row.go_id), 'license': 'CC BY 4.0'}\n",
    "    target = graph.add_node(kind=kind, identifier=row['go_id'], name=row['go_name'], data=data)\n",
    "    target_id = target.get_id()\n",
    "    for gene in genes:\n",
    "        source_id = 'Gene', gene\n",
    "        data = {'source': 'NCBI gene2go', 'unbiased': False, 'license': 'CC BY 4.0'}\n",
    "        graph.add_edge(source_id, target_id, 'participates', 'both', data)"
   ]
  },
  {
   "cell_type": "markdown",
   "metadata": {},
   "source": [
    "## Disease-gene associations from compilation"
   ]
  },
  {
   "cell_type": "code",
   "execution_count": 17,
   "metadata": {
    "collapsed": false
   },
   "outputs": [
    {
     "data": {
      "text/html": [
       "<div>\n",
       "<table border=\"1\" class=\"dataframe\">\n",
       "  <thead>\n",
       "    <tr style=\"text-align: right;\">\n",
       "      <th></th>\n",
       "      <th>doid_id</th>\n",
       "      <th>doid_name</th>\n",
       "      <th>entrez_gene_id</th>\n",
       "      <th>gene_symbol</th>\n",
       "      <th>sources</th>\n",
       "      <th>license</th>\n",
       "    </tr>\n",
       "  </thead>\n",
       "  <tbody>\n",
       "    <tr>\n",
       "      <th>0</th>\n",
       "      <td>DOID:2531</td>\n",
       "      <td>Hematologic cancer</td>\n",
       "      <td>25</td>\n",
       "      <td>ABL1</td>\n",
       "      <td>DISEASES|DisGeNET</td>\n",
       "      <td>NaN</td>\n",
       "    </tr>\n",
       "    <tr>\n",
       "      <th>1</th>\n",
       "      <td>DOID:2531</td>\n",
       "      <td>Hematologic cancer</td>\n",
       "      <td>27</td>\n",
       "      <td>ABL2</td>\n",
       "      <td>DisGeNET</td>\n",
       "      <td>ODbL 1.0</td>\n",
       "    </tr>\n",
       "  </tbody>\n",
       "</table>\n",
       "</div>"
      ],
      "text/plain": [
       "     doid_id           doid_name  entrez_gene_id gene_symbol  \\\n",
       "0  DOID:2531  Hematologic cancer              25        ABL1   \n",
       "1  DOID:2531  Hematologic cancer              27        ABL2   \n",
       "\n",
       "             sources   license  \n",
       "0  DISEASES|DisGeNET       NaN  \n",
       "1           DisGeNET  ODbL 1.0  "
      ]
     },
     "execution_count": 17,
     "metadata": {},
     "output_type": "execute_result"
    }
   ],
   "source": [
    "association_df = pandas.read_table('compile/DaG-association.tsv')\n",
    "association_df.head(2)"
   ]
  },
  {
   "cell_type": "code",
   "execution_count": 18,
   "metadata": {
    "collapsed": true
   },
   "outputs": [],
   "source": [
    "for i, row in association_df.iterrows():\n",
    "    source_id = 'Disease', row.doid_id\n",
    "    target_id = 'Gene', row.entrez_gene_id\n",
    "    sources = sorted(row.sources.split('|'))\n",
    "    data = {'sources': sources, 'unbiased': 'GWAS Catalog' in sources}\n",
    "    if pandas.notnull(row['license']):\n",
    "        data['license'] = row['license']\n",
    "    graph.add_edge(source_id, target_id, 'associates', 'both', data)"
   ]
  },
  {
   "cell_type": "markdown",
   "metadata": {},
   "source": [
    "## Disease-gene differential expression"
   ]
  },
  {
   "cell_type": "code",
   "execution_count": 19,
   "metadata": {
    "collapsed": false
   },
   "outputs": [
    {
     "data": {
      "text/html": [
       "<div>\n",
       "<table border=\"1\" class=\"dataframe\">\n",
       "  <thead>\n",
       "    <tr style=\"text-align: right;\">\n",
       "      <th></th>\n",
       "      <th>slim_id</th>\n",
       "      <th>slim_name</th>\n",
       "      <th>entrez_gene_id</th>\n",
       "      <th>gene_symbol</th>\n",
       "      <th>direction</th>\n",
       "      <th>log2_fold_change</th>\n",
       "      <th>p_adjusted</th>\n",
       "    </tr>\n",
       "  </thead>\n",
       "  <tbody>\n",
       "    <tr>\n",
       "      <th>0</th>\n",
       "      <td>DOID:10652</td>\n",
       "      <td>Alzheimer's disease</td>\n",
       "      <td>65985</td>\n",
       "      <td>AACS</td>\n",
       "      <td>down</td>\n",
       "      <td>-0.036000</td>\n",
       "      <td>0</td>\n",
       "    </tr>\n",
       "    <tr>\n",
       "      <th>1</th>\n",
       "      <td>DOID:10652</td>\n",
       "      <td>Alzheimer's disease</td>\n",
       "      <td>79719</td>\n",
       "      <td>AAGAB</td>\n",
       "      <td>down</td>\n",
       "      <td>-0.051823</td>\n",
       "      <td>0</td>\n",
       "    </tr>\n",
       "  </tbody>\n",
       "</table>\n",
       "</div>"
      ],
      "text/plain": [
       "      slim_id            slim_name  entrez_gene_id gene_symbol direction  \\\n",
       "0  DOID:10652  Alzheimer's disease           65985        AACS      down   \n",
       "1  DOID:10652  Alzheimer's disease           79719       AAGAB      down   \n",
       "\n",
       "   log2_fold_change  p_adjusted  \n",
       "0         -0.036000           0  \n",
       "1         -0.051823           0  "
      ]
     },
     "execution_count": 19,
     "metadata": {},
     "output_type": "execute_result"
    }
   ],
   "source": [
    "commit = '1a11633b5e0095454453335be82012a9f0f482e4'\n",
    "url = rawgit('dhimmel', 'stargeo', commit, 'data/diffex.tsv')\n",
    "stargeo_df = pandas.read_table(url)\n",
    "stargeo_df.head(2)"
   ]
  },
  {
   "cell_type": "code",
   "execution_count": 20,
   "metadata": {
    "collapsed": false
   },
   "outputs": [],
   "source": [
    "for i, row in stargeo_df.iterrows():\n",
    "    source_id = 'Disease', row.slim_id\n",
    "    target_id = 'Gene', row.entrez_gene_id\n",
    "    kind = row.direction + 'regulates'\n",
    "    data = {'source': 'STARGEO', 'unbiased': True, 'license': 'CC0 1.0'}\n",
    "    graph.add_edge(source_id, target_id, kind, 'both', data)"
   ]
  },
  {
   "cell_type": "markdown",
   "metadata": {},
   "source": [
    "## Chemical similarity"
   ]
  },
  {
   "cell_type": "code",
   "execution_count": 21,
   "metadata": {
    "collapsed": false
   },
   "outputs": [
    {
     "data": {
      "text/html": [
       "<div>\n",
       "<table border=\"1\" class=\"dataframe\">\n",
       "  <thead>\n",
       "    <tr style=\"text-align: right;\">\n",
       "      <th></th>\n",
       "      <th>compound0</th>\n",
       "      <th>compound1</th>\n",
       "      <th>similarity</th>\n",
       "    </tr>\n",
       "  </thead>\n",
       "  <tbody>\n",
       "    <tr>\n",
       "      <th>1557</th>\n",
       "      <td>DB01489</td>\n",
       "      <td>DB00683</td>\n",
       "      <td>0.5362</td>\n",
       "    </tr>\n",
       "    <tr>\n",
       "      <th>1571</th>\n",
       "      <td>DB01489</td>\n",
       "      <td>DB01567</td>\n",
       "      <td>0.6260</td>\n",
       "    </tr>\n",
       "  </tbody>\n",
       "</table>\n",
       "</div>"
      ],
      "text/plain": [
       "     compound0 compound1  similarity\n",
       "1557   DB01489   DB00683      0.5362\n",
       "1571   DB01489   DB01567      0.6260"
      ]
     },
     "execution_count": 21,
     "metadata": {},
     "output_type": "execute_result"
    }
   ],
   "source": [
    "commit = '3e87872db5fca5ac427ce27464ab945c0ceb4ec6'\n",
    "url = rawgit('dhimmel', 'drugbank', commit, 'data/similarity-slim.tsv.gz')\n",
    "chemical_df = pandas.read_table(url, compression='gzip')\n",
    "chemical_df = chemical_df[chemical_df.similarity >= 0.5]\n",
    "chemical_df.head(2)"
   ]
  },
  {
   "cell_type": "code",
   "execution_count": 22,
   "metadata": {
    "collapsed": false
   },
   "outputs": [],
   "source": [
    "for i, row in chemical_df.iterrows():\n",
    "    source_id = 'Compound', row.compound0\n",
    "    target_id = 'Compound', row.compound1\n",
    "    data = {\n",
    "        'source': 'Dice similarity of ECFPs',\n",
    "        'similarity': round(row.similarity, 4),\n",
    "        'unbiased': True,\n",
    "        'license': 'CC0 1.0',\n",
    "    }\n",
    "    graph.add_edge(source_id, target_id, 'resembles', 'both', data)"
   ]
  },
  {
   "cell_type": "markdown",
   "metadata": {},
   "source": [
    "## MEDLINE cooccurrence data"
   ]
  },
  {
   "cell_type": "code",
   "execution_count": 23,
   "metadata": {
    "collapsed": true
   },
   "outputs": [],
   "source": [
    "medline_data = {\n",
    "    'source': 'MEDLINE cooccurrence',\n",
    "    'unbiased': False,\n",
    "    'license': 'CC0 1.0',\n",
    "}"
   ]
  },
  {
   "cell_type": "markdown",
   "metadata": {},
   "source": [
    "### Symptom edges"
   ]
  },
  {
   "cell_type": "code",
   "execution_count": 24,
   "metadata": {
    "collapsed": false
   },
   "outputs": [
    {
     "data": {
      "text/html": [
       "<div>\n",
       "<table border=\"1\" class=\"dataframe\">\n",
       "  <thead>\n",
       "    <tr style=\"text-align: right;\">\n",
       "      <th></th>\n",
       "      <th>doid_code</th>\n",
       "      <th>doid_name</th>\n",
       "      <th>mesh_id</th>\n",
       "      <th>mesh_name</th>\n",
       "      <th>cooccurrence</th>\n",
       "      <th>expected</th>\n",
       "      <th>enrichment</th>\n",
       "      <th>odds_ratio</th>\n",
       "      <th>p_fisher</th>\n",
       "    </tr>\n",
       "  </thead>\n",
       "  <tbody>\n",
       "    <tr>\n",
       "      <th>0</th>\n",
       "      <td>DOID:10652</td>\n",
       "      <td>Alzheimer's disease</td>\n",
       "      <td>D004314</td>\n",
       "      <td>Down Syndrome</td>\n",
       "      <td>800</td>\n",
       "      <td>35.619601</td>\n",
       "      <td>22.459544</td>\n",
       "      <td>39.918352</td>\n",
       "      <td>0</td>\n",
       "    </tr>\n",
       "    <tr>\n",
       "      <th>1</th>\n",
       "      <td>DOID:10652</td>\n",
       "      <td>Alzheimer's disease</td>\n",
       "      <td>D008569</td>\n",
       "      <td>Memory Disorders</td>\n",
       "      <td>1593</td>\n",
       "      <td>76.580532</td>\n",
       "      <td>20.801631</td>\n",
       "      <td>41.885877</td>\n",
       "      <td>0</td>\n",
       "    </tr>\n",
       "  </tbody>\n",
       "</table>\n",
       "</div>"
      ],
      "text/plain": [
       "    doid_code            doid_name  mesh_id         mesh_name  cooccurrence  \\\n",
       "0  DOID:10652  Alzheimer's disease  D004314     Down Syndrome           800   \n",
       "1  DOID:10652  Alzheimer's disease  D008569  Memory Disorders          1593   \n",
       "\n",
       "    expected  enrichment  odds_ratio  p_fisher  \n",
       "0  35.619601   22.459544   39.918352         0  \n",
       "1  76.580532   20.801631   41.885877         0  "
      ]
     },
     "execution_count": 24,
     "metadata": {},
     "output_type": "execute_result"
    }
   ],
   "source": [
    "commit = '60d611892bf387b5b23c5f2e2e3bc472cfce85f3'\n",
    "url = rawgit('dhimmel', 'medline', commit, 'data/disease-symptom-cooccurrence.tsv')\n",
    "disease_symptom_df = pandas.read_table(url)\n",
    "disease_symptom_df = disease_symptom_df[disease_symptom_df.p_fisher < 0.005]\n",
    "disease_symptom_df.head(2)"
   ]
  },
  {
   "cell_type": "code",
   "execution_count": 25,
   "metadata": {
    "collapsed": false
   },
   "outputs": [],
   "source": [
    "for i, row in disease_symptom_df.iterrows():\n",
    "    source_id = 'Disease', row.doid_code\n",
    "    target_id = 'Symptom', row.mesh_id\n",
    "    data = medline_data.copy()\n",
    "    graph.add_edge(source_id, target_id, 'presents', 'both', data)"
   ]
  },
  {
   "cell_type": "markdown",
   "metadata": {},
   "source": [
    "### Disease-localization edges"
   ]
  },
  {
   "cell_type": "code",
   "execution_count": 26,
   "metadata": {
    "collapsed": false
   },
   "outputs": [
    {
     "data": {
      "text/html": [
       "<div>\n",
       "<table border=\"1\" class=\"dataframe\">\n",
       "  <thead>\n",
       "    <tr style=\"text-align: right;\">\n",
       "      <th></th>\n",
       "      <th>doid_code</th>\n",
       "      <th>doid_name</th>\n",
       "      <th>uberon_id</th>\n",
       "      <th>uberon_name</th>\n",
       "      <th>cooccurrence</th>\n",
       "      <th>expected</th>\n",
       "      <th>enrichment</th>\n",
       "      <th>odds_ratio</th>\n",
       "      <th>p_fisher</th>\n",
       "    </tr>\n",
       "  </thead>\n",
       "  <tbody>\n",
       "    <tr>\n",
       "      <th>0</th>\n",
       "      <td>DOID:10652</td>\n",
       "      <td>Alzheimer's disease</td>\n",
       "      <td>UBERON:0000955</td>\n",
       "      <td>brain</td>\n",
       "      <td>11209</td>\n",
       "      <td>1182.634069</td>\n",
       "      <td>9.477995</td>\n",
       "      <td>74.210761</td>\n",
       "      <td>0.000000e+00</td>\n",
       "    </tr>\n",
       "    <tr>\n",
       "      <th>1</th>\n",
       "      <td>DOID:10652</td>\n",
       "      <td>Alzheimer's disease</td>\n",
       "      <td>UBERON:0001890</td>\n",
       "      <td>forebrain</td>\n",
       "      <td>114</td>\n",
       "      <td>7.326350</td>\n",
       "      <td>15.560272</td>\n",
       "      <td>21.733764</td>\n",
       "      <td>5.971023e-99</td>\n",
       "    </tr>\n",
       "  </tbody>\n",
       "</table>\n",
       "</div>"
      ],
      "text/plain": [
       "    doid_code            doid_name       uberon_id uberon_name  cooccurrence  \\\n",
       "0  DOID:10652  Alzheimer's disease  UBERON:0000955       brain         11209   \n",
       "1  DOID:10652  Alzheimer's disease  UBERON:0001890   forebrain           114   \n",
       "\n",
       "      expected  enrichment  odds_ratio      p_fisher  \n",
       "0  1182.634069    9.477995   74.210761  0.000000e+00  \n",
       "1     7.326350   15.560272   21.733764  5.971023e-99  "
      ]
     },
     "execution_count": 26,
     "metadata": {},
     "output_type": "execute_result"
    }
   ],
   "source": [
    "commit = '60d611892bf387b5b23c5f2e2e3bc472cfce85f3'\n",
    "url = rawgit('dhimmel', 'medline', commit, 'data/disease-uberon-cooccurrence.tsv')\n",
    "disease_anatomy_df = pandas.read_table(url)\n",
    "disease_anatomy_df = disease_anatomy_df[disease_anatomy_df.p_fisher < 0.005]\n",
    "disease_anatomy_df = disease_anatomy_df[disease_anatomy_df.uberon_id.isin(uberon_df['uberon_id'])]\n",
    "disease_anatomy_df.head(2)"
   ]
  },
  {
   "cell_type": "code",
   "execution_count": 27,
   "metadata": {
    "collapsed": false
   },
   "outputs": [],
   "source": [
    "for i, row in disease_anatomy_df.iterrows():\n",
    "    source_id = 'Disease', row.doid_code\n",
    "    target_id = 'Anatomy', row.uberon_id\n",
    "    data = medline_data.copy()\n",
    "    graph.add_edge(source_id, target_id, 'localizes', 'both', data)"
   ]
  },
  {
   "cell_type": "markdown",
   "metadata": {},
   "source": [
    "### Disease-disease similarity"
   ]
  },
  {
   "cell_type": "code",
   "execution_count": 28,
   "metadata": {
    "collapsed": false
   },
   "outputs": [
    {
     "data": {
      "text/html": [
       "<div>\n",
       "<table border=\"1\" class=\"dataframe\">\n",
       "  <thead>\n",
       "    <tr style=\"text-align: right;\">\n",
       "      <th></th>\n",
       "      <th>doid_code_0</th>\n",
       "      <th>doid_name_0</th>\n",
       "      <th>doid_code_1</th>\n",
       "      <th>doid_name_1</th>\n",
       "      <th>cooccurrence</th>\n",
       "      <th>expected</th>\n",
       "      <th>enrichment</th>\n",
       "      <th>odds_ratio</th>\n",
       "      <th>p_fisher</th>\n",
       "    </tr>\n",
       "  </thead>\n",
       "  <tbody>\n",
       "    <tr>\n",
       "      <th>0</th>\n",
       "      <td>DOID:10652</td>\n",
       "      <td>Alzheimer's disease</td>\n",
       "      <td>DOID:14330</td>\n",
       "      <td>Parkinson's disease</td>\n",
       "      <td>2760</td>\n",
       "      <td>827.098152</td>\n",
       "      <td>3.336968</td>\n",
       "      <td>3.577398</td>\n",
       "      <td>0.000000e+00</td>\n",
       "    </tr>\n",
       "    <tr>\n",
       "      <th>1</th>\n",
       "      <td>DOID:10652</td>\n",
       "      <td>Alzheimer's disease</td>\n",
       "      <td>DOID:11949</td>\n",
       "      <td>Creutzfeldt-Jakob disease</td>\n",
       "      <td>332</td>\n",
       "      <td>96.723002</td>\n",
       "      <td>3.432482</td>\n",
       "      <td>3.593306</td>\n",
       "      <td>3.377672e-80</td>\n",
       "    </tr>\n",
       "  </tbody>\n",
       "</table>\n",
       "</div>"
      ],
      "text/plain": [
       "  doid_code_0          doid_name_0 doid_code_1                doid_name_1  \\\n",
       "0  DOID:10652  Alzheimer's disease  DOID:14330        Parkinson's disease   \n",
       "1  DOID:10652  Alzheimer's disease  DOID:11949  Creutzfeldt-Jakob disease   \n",
       "\n",
       "   cooccurrence    expected  enrichment  odds_ratio      p_fisher  \n",
       "0          2760  827.098152    3.336968    3.577398  0.000000e+00  \n",
       "1           332   96.723002    3.432482    3.593306  3.377672e-80  "
      ]
     },
     "execution_count": 28,
     "metadata": {},
     "output_type": "execute_result"
    }
   ],
   "source": [
    "commit = '60d611892bf387b5b23c5f2e2e3bc472cfce85f3'\n",
    "url = rawgit('dhimmel', 'medline', commit, 'data/disease-disease-cooccurrence.tsv')\n",
    "disease_similarity_df = pandas.read_table(url)\n",
    "disease_similarity_df = disease_similarity_df[-disease_similarity_df[['doid_code_0', 'doid_code_1']].apply(frozenset, 1).duplicated()]\n",
    "disease_similarity_df = disease_similarity_df[disease_similarity_df.p_fisher < 0.005]\n",
    "disease_similarity_df.head(2)"
   ]
  },
  {
   "cell_type": "code",
   "execution_count": 29,
   "metadata": {
    "collapsed": true
   },
   "outputs": [],
   "source": [
    "for i, row in disease_similarity_df.iterrows():\n",
    "    source_id = 'Disease', row.doid_code_0\n",
    "    target_id = 'Disease', row.doid_code_1\n",
    "    data = medline_data.copy()\n",
    "    graph.add_edge(source_id, target_id, 'resembles', 'both', data)"
   ]
  },
  {
   "cell_type": "markdown",
   "metadata": {},
   "source": [
    "## Anatomy-gene expression presence"
   ]
  },
  {
   "cell_type": "code",
   "execution_count": 30,
   "metadata": {
    "collapsed": false
   },
   "outputs": [
    {
     "data": {
      "text/html": [
       "<div>\n",
       "<table border=\"1\" class=\"dataframe\">\n",
       "  <thead>\n",
       "    <tr style=\"text-align: right;\">\n",
       "      <th></th>\n",
       "      <th>uberon_id</th>\n",
       "      <th>entrez_gene_id</th>\n",
       "      <th>sources</th>\n",
       "      <th>unbiased</th>\n",
       "      <th>license</th>\n",
       "    </tr>\n",
       "  </thead>\n",
       "  <tbody>\n",
       "    <tr>\n",
       "      <th>41138</th>\n",
       "      <td>UBERON:0000002</td>\n",
       "      <td>2</td>\n",
       "      <td>Bgee</td>\n",
       "      <td>1</td>\n",
       "      <td>NaN</td>\n",
       "    </tr>\n",
       "    <tr>\n",
       "      <th>41139</th>\n",
       "      <td>UBERON:0000002</td>\n",
       "      <td>9</td>\n",
       "      <td>Bgee</td>\n",
       "      <td>1</td>\n",
       "      <td>NaN</td>\n",
       "    </tr>\n",
       "  </tbody>\n",
       "</table>\n",
       "</div>"
      ],
      "text/plain": [
       "            uberon_id  entrez_gene_id sources  unbiased license\n",
       "41138  UBERON:0000002               2    Bgee         1     NaN\n",
       "41139  UBERON:0000002               9    Bgee         1     NaN"
      ]
     },
     "execution_count": 30,
     "metadata": {},
     "output_type": "execute_result"
    }
   ],
   "source": [
    "expr_df = pandas.read_table('compile/AeG-expression.tsv.gz', low_memory=False)\n",
    "expr_df = expr_df[expr_df.uberon_id.isin(uberon_df.uberon_id) & expr_df.entrez_gene_id.isin(coding_genes)]\n",
    "expr_df.head(2)"
   ]
  },
  {
   "cell_type": "code",
   "execution_count": 31,
   "metadata": {
    "collapsed": false
   },
   "outputs": [],
   "source": [
    "for i, row in expr_df.iterrows():\n",
    "    source_id = 'Gene', row['entrez_gene_id']\n",
    "    target_id = 'Anatomy', row['uberon_id']\n",
    "    data = {'unbiased': bool(row['unbiased'])}\n",
    "    if pandas.notnull(row['license']):\n",
    "        data['license'] = row['license']\n",
    "    data['sources'] = row['sources'].split('|')\n",
    "    graph.add_edge(source_id, target_id, 'expresses', 'both', data)"
   ]
  },
  {
   "cell_type": "markdown",
   "metadata": {},
   "source": [
    "## Anatomy-gene differential expression"
   ]
  },
  {
   "cell_type": "code",
   "execution_count": 32,
   "metadata": {
    "collapsed": false
   },
   "outputs": [
    {
     "data": {
      "text/html": [
       "<div>\n",
       "<table border=\"1\" class=\"dataframe\">\n",
       "  <thead>\n",
       "    <tr style=\"text-align: right;\">\n",
       "      <th></th>\n",
       "      <th>GeneID</th>\n",
       "      <th>uberon_id</th>\n",
       "      <th>direction</th>\n",
       "    </tr>\n",
       "  </thead>\n",
       "  <tbody>\n",
       "    <tr>\n",
       "      <th>37241</th>\n",
       "      <td>2</td>\n",
       "      <td>UBERON:0000002</td>\n",
       "      <td>upregulates</td>\n",
       "    </tr>\n",
       "    <tr>\n",
       "      <th>37249</th>\n",
       "      <td>18</td>\n",
       "      <td>UBERON:0000002</td>\n",
       "      <td>downregulates</td>\n",
       "    </tr>\n",
       "  </tbody>\n",
       "</table>\n",
       "</div>"
      ],
      "text/plain": [
       "       GeneID       uberon_id      direction\n",
       "37241       2  UBERON:0000002    upregulates\n",
       "37249      18  UBERON:0000002  downregulates"
      ]
     },
     "execution_count": 32,
     "metadata": {},
     "output_type": "execute_result"
    }
   ],
   "source": [
    "commit = '08ba54e83ee8e28dec22b4351d29e23f1d034d30'\n",
    "url = rawgit('dhimmel', 'bgee', commit, 'data/diffex.tsv.gz')\n",
    "diffex_df = pandas.read_table(url, compression='gzip')\n",
    "diffex_df = pandas.melt(diffex_df, id_vars='GeneID', var_name='uberon_id', value_name='direction')\n",
    "diffex_df = diffex_df.query(\"direction != 0\")\n",
    "diffex_df = diffex_df[diffex_df.uberon_id.isin(uberon_df.uberon_id) & diffex_df.GeneID.isin(coding_genes)]\n",
    "diffex_df = diffex_df.replace({'direction': {-1: 'downregulates', 1: 'upregulates'}})\n",
    "diffex_df.head(2)"
   ]
  },
  {
   "cell_type": "code",
   "execution_count": 33,
   "metadata": {
    "collapsed": false
   },
   "outputs": [],
   "source": [
    "for i, row in diffex_df.iterrows():\n",
    "    source_id = 'Gene', row['GeneID']\n",
    "    target_id = 'Anatomy', row['uberon_id']\n",
    "    data = {'source': 'Bgee', 'unbiased': True}\n",
    "    graph.add_edge(source_id, target_id, row['direction'], 'both', data)"
   ]
  },
  {
   "cell_type": "markdown",
   "metadata": {},
   "source": [
    "## Compound bindings"
   ]
  },
  {
   "cell_type": "code",
   "execution_count": 34,
   "metadata": {
    "collapsed": false
   },
   "outputs": [
    {
     "data": {
      "text/html": [
       "<div>\n",
       "<table border=\"1\" class=\"dataframe\">\n",
       "  <thead>\n",
       "    <tr style=\"text-align: right;\">\n",
       "      <th></th>\n",
       "      <th>drugbank_id</th>\n",
       "      <th>entrez_gene_id</th>\n",
       "      <th>sources</th>\n",
       "      <th>pubmed_ids</th>\n",
       "      <th>actions</th>\n",
       "      <th>affinity_nM</th>\n",
       "      <th>license</th>\n",
       "    </tr>\n",
       "  </thead>\n",
       "  <tbody>\n",
       "    <tr>\n",
       "      <th>0</th>\n",
       "      <td>DB00014</td>\n",
       "      <td>2798</td>\n",
       "      <td>DrugBank (target)</td>\n",
       "      <td>20053189</td>\n",
       "      <td>agonist</td>\n",
       "      <td>NaN</td>\n",
       "      <td>NaN</td>\n",
       "    </tr>\n",
       "    <tr>\n",
       "      <th>1</th>\n",
       "      <td>DB00014</td>\n",
       "      <td>3973</td>\n",
       "      <td>DrugBank (target)</td>\n",
       "      <td>17016423|17139284|20053189</td>\n",
       "      <td>agonist</td>\n",
       "      <td>NaN</td>\n",
       "      <td>NaN</td>\n",
       "    </tr>\n",
       "  </tbody>\n",
       "</table>\n",
       "</div>"
      ],
      "text/plain": [
       "  drugbank_id  entrez_gene_id            sources                  pubmed_ids  \\\n",
       "0     DB00014            2798  DrugBank (target)                    20053189   \n",
       "1     DB00014            3973  DrugBank (target)  17016423|17139284|20053189   \n",
       "\n",
       "   actions  affinity_nM license  \n",
       "0  agonist          NaN     NaN  \n",
       "1  agonist          NaN     NaN  "
      ]
     },
     "execution_count": 34,
     "metadata": {},
     "output_type": "execute_result"
    }
   ],
   "source": [
    "binding_df = pandas.read_table('compile/CbG-binding.tsv')\n",
    "binding_df = binding_df.merge(compound_df[['drugbank_id']])\n",
    "binding_df = binding_df[binding_df.entrez_gene_id.isin(coding_genes)]\n",
    "binding_df.head(2)"
   ]
  },
  {
   "cell_type": "code",
   "execution_count": 35,
   "metadata": {
    "collapsed": false
   },
   "outputs": [],
   "source": [
    "for i, row in binding_df.iterrows():\n",
    "    source_id = 'Compound', row.drugbank_id\n",
    "    target_id = 'Gene', row.entrez_gene_id\n",
    "    data = {'unbiased': False}\n",
    "    # singular fields\n",
    "    for key in 'affinity_nM', 'license':\n",
    "        value = row[key]\n",
    "        if pandas.notnull(value):\n",
    "            data[key] = value\n",
    "    # compound fields\n",
    "    for key in 'sources', 'pubmed_ids', 'actions':\n",
    "        value = row[key]\n",
    "        if pandas.notnull(value):\n",
    "            data[key] = value.split('|')\n",
    "    graph.add_edge(source_id, target_id, 'binds', 'both', data)"
   ]
  },
  {
   "cell_type": "markdown",
   "metadata": {},
   "source": [
    "## Protein Interactions"
   ]
  },
  {
   "cell_type": "code",
   "execution_count": 36,
   "metadata": {
    "collapsed": false
   },
   "outputs": [
    {
     "data": {
      "text/html": [
       "<div>\n",
       "<table border=\"1\" class=\"dataframe\">\n",
       "  <thead>\n",
       "    <tr style=\"text-align: right;\">\n",
       "      <th></th>\n",
       "      <th>gene_0</th>\n",
       "      <th>gene_1</th>\n",
       "      <th>sources</th>\n",
       "      <th>unbiased</th>\n",
       "    </tr>\n",
       "  </thead>\n",
       "  <tbody>\n",
       "    <tr>\n",
       "      <th>0</th>\n",
       "      <td>1</td>\n",
       "      <td>310</td>\n",
       "      <td>hetio-dag</td>\n",
       "      <td>0</td>\n",
       "    </tr>\n",
       "    <tr>\n",
       "      <th>1</th>\n",
       "      <td>1</td>\n",
       "      <td>1026</td>\n",
       "      <td>hetio-dag</td>\n",
       "      <td>0</td>\n",
       "    </tr>\n",
       "  </tbody>\n",
       "</table>\n",
       "</div>"
      ],
      "text/plain": [
       "   gene_0  gene_1    sources  unbiased\n",
       "0       1     310  hetio-dag         0\n",
       "1       1    1026  hetio-dag         0"
      ]
     },
     "execution_count": 36,
     "metadata": {},
     "output_type": "execute_result"
    }
   ],
   "source": [
    "commit = 'f6a7edbc8de6ba2d7fe1ef3fee4d89e5b8d0b900'\n",
    "url = rawgit('dhimmel', 'ppi', commit, 'data/ppi-hetio-ind.tsv')\n",
    "ppi_df = pandas.read_table(url)\n",
    "ppi_df = ppi_df[ppi_df.gene_0.isin(coding_genes) & ppi_df.gene_1.isin(coding_genes)]\n",
    "ppi_df.head(2)"
   ]
  },
  {
   "cell_type": "code",
   "execution_count": 37,
   "metadata": {
    "collapsed": false
   },
   "outputs": [],
   "source": [
    "for i, row in ppi_df.iterrows():\n",
    "    source_id = 'Gene', row.gene_0\n",
    "    target_id = 'Gene', row.gene_1\n",
    "    data = {\n",
    "        'sources': row.sources.split('|'),\n",
    "        'unbiased': bool(row.unbiased),\n",
    "    }\n",
    "    graph.add_edge(source_id, target_id, 'interacts', 'both', data)"
   ]
  },
  {
   "cell_type": "markdown",
   "metadata": {},
   "source": [
    "## Evolutionary rate covariation"
   ]
  },
  {
   "cell_type": "code",
   "execution_count": 38,
   "metadata": {
    "collapsed": false
   },
   "outputs": [
    {
     "data": {
      "text/html": [
       "<div>\n",
       "<table border=\"1\" class=\"dataframe\">\n",
       "  <thead>\n",
       "    <tr style=\"text-align: right;\">\n",
       "      <th></th>\n",
       "      <th>source_entrez</th>\n",
       "      <th>target_entrez</th>\n",
       "      <th>correlation</th>\n",
       "      <th>n_ucsc_genes</th>\n",
       "    </tr>\n",
       "  </thead>\n",
       "  <tbody>\n",
       "    <tr>\n",
       "      <th>29</th>\n",
       "      <td>9</td>\n",
       "      <td>3295</td>\n",
       "      <td>0.77623</td>\n",
       "      <td>1</td>\n",
       "    </tr>\n",
       "    <tr>\n",
       "      <th>46</th>\n",
       "      <td>9</td>\n",
       "      <td>23313</td>\n",
       "      <td>0.79472</td>\n",
       "      <td>1</td>\n",
       "    </tr>\n",
       "  </tbody>\n",
       "</table>\n",
       "</div>"
      ],
      "text/plain": [
       "    source_entrez  target_entrez  correlation  n_ucsc_genes\n",
       "29              9           3295      0.77623             1\n",
       "46              9          23313      0.79472             1"
      ]
     },
     "execution_count": 38,
     "metadata": {},
     "output_type": "execute_result"
    }
   ],
   "source": [
    "commit = '757733f77a89499439c887acb88456e011c5322e'\n",
    "url = rawgit('dhimmel', 'erc', commit, 'data/erc_mam33-entrez-gt-0.6.tsv.gz')\n",
    "erc_df = pandas.read_table(url, compression='gzip')\n",
    "erc_df = erc_df[erc_df.correlation >= 0.75]\n",
    "erc_df = erc_df[erc_df.source_entrez.isin(coding_genes) & erc_df.target_entrez.isin(coding_genes)]\n",
    "erc_df.head(2)"
   ]
  },
  {
   "cell_type": "code",
   "execution_count": 39,
   "metadata": {
    "collapsed": false
   },
   "outputs": [],
   "source": [
    "for i, row in erc_df.iterrows():\n",
    "    source_id = 'Gene', row.source_entrez\n",
    "    target_id = 'Gene', row.target_entrez\n",
    "    data = {\n",
    "        'source': 'ERC',\n",
    "        'unbiased': True,\n",
    "    }\n",
    "    graph.add_edge(source_id, target_id, 'covaries', 'both', data)"
   ]
  },
  {
   "cell_type": "markdown",
   "metadata": {},
   "source": [
    "## MSigDB -- Perturbations"
   ]
  },
  {
   "cell_type": "code",
   "execution_count": 40,
   "metadata": {
    "collapsed": false
   },
   "outputs": [
    {
     "data": {
      "text/html": [
       "<div>\n",
       "<table border=\"1\" class=\"dataframe\">\n",
       "  <thead>\n",
       "    <tr style=\"text-align: right;\">\n",
       "      <th></th>\n",
       "      <th>collection</th>\n",
       "      <th>gene_set</th>\n",
       "      <th>url</th>\n",
       "      <th>genes</th>\n",
       "    </tr>\n",
       "  </thead>\n",
       "  <tbody>\n",
       "    <tr>\n",
       "      <th>0</th>\n",
       "      <td>c1.all</td>\n",
       "      <td>chr10p11</td>\n",
       "      <td>http://www.broadinstitute.org/gsea/msigdb/card...</td>\n",
       "      <td>58|1326|3688|3799|6840|6935|7581|7587|8325|845...</td>\n",
       "    </tr>\n",
       "    <tr>\n",
       "      <th>1</th>\n",
       "      <td>c1.all</td>\n",
       "      <td>chr10p12</td>\n",
       "      <td>http://www.broadinstitute.org/gsea/msigdb/card...</td>\n",
       "      <td>783|1390|4360|8028|8029|8559|8829|9317|10529|2...</td>\n",
       "    </tr>\n",
       "  </tbody>\n",
       "</table>\n",
       "</div>"
      ],
      "text/plain": [
       "  collection  gene_set                                                url  \\\n",
       "0     c1.all  chr10p11  http://www.broadinstitute.org/gsea/msigdb/card...   \n",
       "1     c1.all  chr10p12  http://www.broadinstitute.org/gsea/msigdb/card...   \n",
       "\n",
       "                                               genes  \n",
       "0  58|1326|3688|3799|6840|6935|7581|7587|8325|845...  \n",
       "1  783|1390|4360|8028|8029|8559|8829|9317|10529|2...  "
      ]
     },
     "execution_count": 40,
     "metadata": {},
     "output_type": "execute_result"
    }
   ],
   "source": [
    "commit = '019dc51bf24d79c035741b01b0641c52c10cfabc'\n",
    "url = rawgit('dhimmel', 'msigdb', commit, 'data/msigdb.tsv')\n",
    "msigdb_df = pandas.read_table(url)\n",
    "msigdb_df.head(2)"
   ]
  },
  {
   "cell_type": "code",
   "execution_count": 41,
   "metadata": {
    "collapsed": false
   },
   "outputs": [],
   "source": [
    "for i, row in msigdb_df[msigdb_df.collection == 'c2.cgp'].iterrows():\n",
    "    graph.add_node('Perturbation', row.gene_set, data={'url': row.url})\n",
    "    genes = [int(gene) for gene in row.genes.split('|')]\n",
    "    target_id = 'Perturbation', row.gene_set\n",
    "    for gene in genes:\n",
    "        source_id = 'Gene', gene\n",
    "        data = {\n",
    "            'source': 'MSigDB 5.1',\n",
    "            'unbiased': False,\n",
    "        }\n",
    "        graph.add_edge(source_id, target_id, 'regulates', 'both', data)"
   ]
  },
  {
   "cell_type": "markdown",
   "metadata": {},
   "source": [
    "## Indications from the PharmacotherapyDB"
   ]
  },
  {
   "cell_type": "code",
   "execution_count": 42,
   "metadata": {
    "collapsed": false
   },
   "outputs": [
    {
     "data": {
      "text/html": [
       "<div>\n",
       "<table border=\"1\" class=\"dataframe\">\n",
       "  <thead>\n",
       "    <tr style=\"text-align: right;\">\n",
       "      <th></th>\n",
       "      <th>doid_id</th>\n",
       "      <th>drugbank_id</th>\n",
       "      <th>disease</th>\n",
       "      <th>drug</th>\n",
       "      <th>category</th>\n",
       "      <th>n_curators</th>\n",
       "      <th>n_resources</th>\n",
       "      <th>kind</th>\n",
       "    </tr>\n",
       "  </thead>\n",
       "  <tbody>\n",
       "    <tr>\n",
       "      <th>0</th>\n",
       "      <td>DOID:10652</td>\n",
       "      <td>DB00843</td>\n",
       "      <td>Alzheimer's disease</td>\n",
       "      <td>Donepezil</td>\n",
       "      <td>DM</td>\n",
       "      <td>2</td>\n",
       "      <td>1</td>\n",
       "      <td>treats</td>\n",
       "    </tr>\n",
       "    <tr>\n",
       "      <th>1</th>\n",
       "      <td>DOID:10652</td>\n",
       "      <td>DB00674</td>\n",
       "      <td>Alzheimer's disease</td>\n",
       "      <td>Galantamine</td>\n",
       "      <td>DM</td>\n",
       "      <td>1</td>\n",
       "      <td>4</td>\n",
       "      <td>treats</td>\n",
       "    </tr>\n",
       "  </tbody>\n",
       "</table>\n",
       "</div>"
      ],
      "text/plain": [
       "      doid_id drugbank_id              disease         drug category  \\\n",
       "0  DOID:10652     DB00843  Alzheimer's disease    Donepezil       DM   \n",
       "1  DOID:10652     DB00674  Alzheimer's disease  Galantamine       DM   \n",
       "\n",
       "   n_curators  n_resources    kind  \n",
       "0           2            1  treats  \n",
       "1           1            4  treats  "
      ]
     },
     "execution_count": 42,
     "metadata": {},
     "output_type": "execute_result"
    }
   ],
   "source": [
    "commit = '11d535ba0884ee56c3cd5756fdfb4985f313bd80'\n",
    "url = rawgit('dhimmel', 'indications', commit, 'catalog/indications.tsv')\n",
    "indication_df = pandas.read_table(url)\n",
    "categories = {'DM', 'SYM'}\n",
    "indication_df = indication_df.query(\"category in @categories\").copy()\n",
    "indication_df['kind'] = indication_df.category.map({'DM': 'treats', 'SYM': 'palliates'})\n",
    "indication_df.head(2)"
   ]
  },
  {
   "cell_type": "code",
   "execution_count": 43,
   "metadata": {
    "collapsed": true
   },
   "outputs": [],
   "source": [
    "for i, row in indication_df.iterrows():\n",
    "    source_id = 'Disease', row.doid_id\n",
    "    target_id = 'Compound', row.drugbank_id\n",
    "    data = {'source': 'PharmacotherapyDB', 'unbiased': False, 'license': 'CC0 1.0'}\n",
    "    graph.add_edge(source_id, target_id, row['kind'], 'both', data)"
   ]
  },
  {
   "cell_type": "markdown",
   "metadata": {},
   "source": [
    "## LINCS compound-gene dysregulation"
   ]
  },
  {
   "cell_type": "code",
   "execution_count": 44,
   "metadata": {
    "collapsed": true
   },
   "outputs": [],
   "source": [
    "commit = 'abcb12f942f93e3ee839e5e3593f930df2c56845'"
   ]
  },
  {
   "cell_type": "code",
   "execution_count": 45,
   "metadata": {
    "collapsed": false
   },
   "outputs": [
    {
     "data": {
      "text/html": [
       "<div>\n",
       "<table border=\"1\" class=\"dataframe\">\n",
       "  <thead>\n",
       "    <tr style=\"text-align: right;\">\n",
       "      <th></th>\n",
       "      <th>perturbagen</th>\n",
       "      <th>entrez_gene_id</th>\n",
       "      <th>z_score</th>\n",
       "      <th>symbol</th>\n",
       "      <th>status</th>\n",
       "      <th>direction</th>\n",
       "      <th>nlog10_bonferroni_pval</th>\n",
       "    </tr>\n",
       "  </thead>\n",
       "  <tbody>\n",
       "    <tr>\n",
       "      <th>0</th>\n",
       "      <td>DB00014</td>\n",
       "      <td>6676</td>\n",
       "      <td>4.844</td>\n",
       "      <td>SPAG4</td>\n",
       "      <td>measured</td>\n",
       "      <td>up</td>\n",
       "      <td>2.905</td>\n",
       "    </tr>\n",
       "    <tr>\n",
       "      <th>1</th>\n",
       "      <td>DB00091</td>\n",
       "      <td>16</td>\n",
       "      <td>25.960</td>\n",
       "      <td>AARS</td>\n",
       "      <td>measured</td>\n",
       "      <td>up</td>\n",
       "      <td>144.863</td>\n",
       "    </tr>\n",
       "  </tbody>\n",
       "</table>\n",
       "</div>"
      ],
      "text/plain": [
       "  perturbagen  entrez_gene_id  z_score symbol    status direction  \\\n",
       "0     DB00014            6676    4.844  SPAG4  measured        up   \n",
       "1     DB00091              16   25.960   AARS  measured        up   \n",
       "\n",
       "   nlog10_bonferroni_pval  \n",
       "0                   2.905  \n",
       "1                 144.863  "
      ]
     },
     "execution_count": 45,
     "metadata": {},
     "output_type": "execute_result"
    }
   ],
   "source": [
    "url = rawgit('dhimmel', 'lincs', commit, 'data/consensi/signif/dysreg-drugbank.tsv')\n",
    "l1000_df = pandas.read_table(url)\n",
    "l1000_df = l1000_df.query(\"perturbagen in @compound_df.drugbank_id and entrez_gene_id in @coding_genes\")\n",
    "l1000_df.head(2)"
   ]
  },
  {
   "cell_type": "code",
   "execution_count": 46,
   "metadata": {
    "collapsed": false
   },
   "outputs": [],
   "source": [
    "mapper = {'up': 'upregulates', 'down': 'downregulates'}\n",
    "for i, row in l1000_df.iterrows():\n",
    "    source_id = 'Compound', row.perturbagen\n",
    "    target_id = 'Gene', row.entrez_gene_id\n",
    "    data = {\n",
    "        'source': 'LINCS L1000',\n",
    "        'z_score': round(row.z_score, 3),\n",
    "        'method': row.status,\n",
    "        'unbiased': True,\n",
    "    }\n",
    "    kind = mapper[row.direction]\n",
    "    graph.add_edge(source_id, target_id, kind, 'both', data)"
   ]
  },
  {
   "cell_type": "markdown",
   "metadata": {},
   "source": [
    "## LINCS genetic perturbations"
   ]
  },
  {
   "cell_type": "code",
   "execution_count": 47,
   "metadata": {
    "collapsed": true
   },
   "outputs": [],
   "source": [
    "url = rawgit('dhimmel', 'lincs', commit, 'data/consensi/signif/dysreg-knockdown.tsv')\n",
    "l1000_kd_df = pandas.read_table(url)\n",
    "\n",
    "url = rawgit('dhimmel', 'lincs', commit, 'data/consensi/signif/dysreg-overexpression.tsv')\n",
    "l1000_oe_df = pandas.read_table(url)"
   ]
  },
  {
   "cell_type": "code",
   "execution_count": 48,
   "metadata": {
    "collapsed": false
   },
   "outputs": [
    {
     "data": {
      "text/html": [
       "<div>\n",
       "<table border=\"1\" class=\"dataframe\">\n",
       "  <thead>\n",
       "    <tr style=\"text-align: right;\">\n",
       "      <th></th>\n",
       "      <th>perturbagen</th>\n",
       "      <th>entrez_gene_id</th>\n",
       "      <th>z_score</th>\n",
       "      <th>symbol</th>\n",
       "      <th>status</th>\n",
       "      <th>direction</th>\n",
       "      <th>nlog10_bonferroni_pval</th>\n",
       "      <th>kind</th>\n",
       "    </tr>\n",
       "  </thead>\n",
       "  <tbody>\n",
       "    <tr>\n",
       "      <th>0</th>\n",
       "      <td>2</td>\n",
       "      <td>133</td>\n",
       "      <td>-5.495</td>\n",
       "      <td>ADM</td>\n",
       "      <td>imputed</td>\n",
       "      <td>down</td>\n",
       "      <td>3.596</td>\n",
       "      <td>knockdown downregulates</td>\n",
       "    </tr>\n",
       "    <tr>\n",
       "      <th>1</th>\n",
       "      <td>2</td>\n",
       "      <td>501</td>\n",
       "      <td>-4.317</td>\n",
       "      <td>ALDH7A1</td>\n",
       "      <td>measured</td>\n",
       "      <td>down</td>\n",
       "      <td>1.811</td>\n",
       "      <td>knockdown downregulates</td>\n",
       "    </tr>\n",
       "  </tbody>\n",
       "</table>\n",
       "</div>"
      ],
      "text/plain": [
       "   perturbagen  entrez_gene_id  z_score   symbol    status direction  \\\n",
       "0            2             133   -5.495      ADM   imputed      down   \n",
       "1            2             501   -4.317  ALDH7A1  measured      down   \n",
       "\n",
       "   nlog10_bonferroni_pval                     kind  \n",
       "0                   3.596  knockdown downregulates  \n",
       "1                   1.811  knockdown downregulates  "
      ]
     },
     "execution_count": 48,
     "metadata": {},
     "output_type": "execute_result"
    }
   ],
   "source": [
    "mapper = {'up': 'knockdown upregulates', 'down': 'knockdown downregulates'}\n",
    "l1000_kd_df['kind'] = l1000_kd_df.direction.map(lambda x: mapper[x])\n",
    "\n",
    "mapper = {'up': 'overexpression upregulates', 'down': 'overexpression downregulates'}\n",
    "l1000_oe_df['kind'] = l1000_oe_df.direction.map(lambda x: mapper[x])\n",
    "\n",
    "l1000_genetic_df = pandas.concat([l1000_kd_df, l1000_oe_df])\n",
    "l1000_genetic_df = l1000_genetic_df.query('perturbagen in @coding_genes and entrez_gene_id in @coding_genes')\n",
    "l1000_genetic_df = l1000_genetic_df.query('perturbagen != entrez_gene_id')\n",
    "\n",
    "l1000_genetic_df.head(2)"
   ]
  },
  {
   "cell_type": "code",
   "execution_count": 49,
   "metadata": {
    "collapsed": false
   },
   "outputs": [],
   "source": [
    "for (pert, gene), df in l1000_genetic_df.groupby(['perturbagen', 'entrez_gene_id'], sort=False):\n",
    "    source_id = 'Gene', pert\n",
    "    target_id = 'Gene', gene\n",
    "    method, = df.status.unique()\n",
    "    data = {'source': 'LINCS L1000', 'subtypes': list(df.kind), 'method': method, 'unbiased': True}\n",
    "    graph.add_edge(source_id, target_id, 'regulates', 'forward', data)"
   ]
  },
  {
   "cell_type": "markdown",
   "metadata": {},
   "source": [
    "## Side Effects - SIDER"
   ]
  },
  {
   "cell_type": "code",
   "execution_count": 50,
   "metadata": {
    "collapsed": false
   },
   "outputs": [
    {
     "data": {
      "text/html": [
       "<div>\n",
       "<table border=\"1\" class=\"dataframe\">\n",
       "  <thead>\n",
       "    <tr style=\"text-align: right;\">\n",
       "      <th></th>\n",
       "      <th>umls_cui_from_meddra</th>\n",
       "      <th>side_effect_name</th>\n",
       "    </tr>\n",
       "  </thead>\n",
       "  <tbody>\n",
       "    <tr>\n",
       "      <th>0</th>\n",
       "      <td>C0863129</td>\n",
       "      <td>AGEP</td>\n",
       "    </tr>\n",
       "    <tr>\n",
       "      <th>1</th>\n",
       "      <td>C0001849</td>\n",
       "      <td>AIDS dementia complex</td>\n",
       "    </tr>\n",
       "  </tbody>\n",
       "</table>\n",
       "</div>"
      ],
      "text/plain": [
       "  umls_cui_from_meddra       side_effect_name\n",
       "0             C0863129                   AGEP\n",
       "1             C0001849  AIDS dementia complex"
      ]
     },
     "execution_count": 50,
     "metadata": {},
     "output_type": "execute_result"
    }
   ],
   "source": [
    "commit = 'be3adebc0d845baaddb907a880890cb5e85f5801'\n",
    "url = rawgit('dhimmel', 'SIDER4', commit, 'data/side-effect-terms.tsv')\n",
    "side_effect_df = pandas.read_table(url)\n",
    "side_effect_df.head(2)"
   ]
  },
  {
   "cell_type": "code",
   "execution_count": 51,
   "metadata": {
    "collapsed": false
   },
   "outputs": [],
   "source": [
    "for i, row in side_effect_df.iterrows():\n",
    "    umls_id = row['umls_cui_from_meddra']\n",
    "    data = {\n",
    "        'source': 'UMLS via SIDER 4.1',\n",
    "        'url': 'http://identifiers.org/umls/{}'.format(umls_id),\n",
    "        'license': 'CC BY-NC-SA 4.0',\n",
    "    }\n",
    "    graph.add_node(kind='Side Effect', identifier=umls_id, name=row['side_effect_name'], data=data)"
   ]
  },
  {
   "cell_type": "code",
   "execution_count": 52,
   "metadata": {
    "collapsed": false
   },
   "outputs": [
    {
     "data": {
      "text/html": [
       "<div>\n",
       "<table border=\"1\" class=\"dataframe\">\n",
       "  <thead>\n",
       "    <tr style=\"text-align: right;\">\n",
       "      <th></th>\n",
       "      <th>drugbank_id</th>\n",
       "      <th>drugbank_name</th>\n",
       "      <th>umls_cui_from_meddra</th>\n",
       "      <th>side_effect_name</th>\n",
       "    </tr>\n",
       "  </thead>\n",
       "  <tbody>\n",
       "    <tr>\n",
       "      <th>6398</th>\n",
       "      <td>DB01048</td>\n",
       "      <td>Abacavir</td>\n",
       "      <td>C0001849</td>\n",
       "      <td>AIDS dementia complex</td>\n",
       "    </tr>\n",
       "    <tr>\n",
       "      <th>6399</th>\n",
       "      <td>DB01048</td>\n",
       "      <td>Abacavir</td>\n",
       "      <td>C0232487</td>\n",
       "      <td>Abdominal discomfort</td>\n",
       "    </tr>\n",
       "  </tbody>\n",
       "</table>\n",
       "</div>"
      ],
      "text/plain": [
       "     drugbank_id drugbank_name umls_cui_from_meddra       side_effect_name\n",
       "6398     DB01048      Abacavir             C0001849  AIDS dementia complex\n",
       "6399     DB01048      Abacavir             C0232487   Abdominal discomfort"
      ]
     },
     "execution_count": 52,
     "metadata": {},
     "output_type": "execute_result"
    }
   ],
   "source": [
    "url = rawgit('dhimmel', 'SIDER4', commit, 'data/side-effects.tsv')\n",
    "sider_df = pandas.read_table(url)\n",
    "sider_df = sider_df[sider_df.drugbank_id.isin(compound_df.drugbank_id)]\n",
    "sider_df.head(2)"
   ]
  },
  {
   "cell_type": "code",
   "execution_count": 53,
   "metadata": {
    "collapsed": false
   },
   "outputs": [],
   "source": [
    "for i, row in sider_df.iterrows():\n",
    "    umls_id = row.umls_cui_from_meddra\n",
    "    source_id = 'Compound', row.drugbank_id\n",
    "    target_id = 'Side Effect', umls_id\n",
    "    data = {\n",
    "        'source': 'SIDER 4.1',\n",
    "        'url': 'http://sideeffects.embl.de/se/{}/'.format(umls_id),\n",
    "        'unbiased': False,\n",
    "        'license': 'CC BY-NC-SA 4.0',\n",
    "    }\n",
    "    graph.add_edge(source_id, target_id, 'causes', 'both', data)"
   ]
  },
  {
   "cell_type": "markdown",
   "metadata": {},
   "source": [
    "## Network visualizations and stats"
   ]
  },
  {
   "cell_type": "code",
   "execution_count": 54,
   "metadata": {
    "collapsed": false
   },
   "outputs": [],
   "source": [
    "# Export node degree tables\n",
    "hetio.stats.degrees_to_excel(graph, 'data/summary/degrees.xlsx')"
   ]
  },
  {
   "cell_type": "code",
   "execution_count": 55,
   "metadata": {
    "collapsed": false
   },
   "outputs": [],
   "source": [
    "# Create and save degree distribution vizualizations\n",
    "hetio.stats.plot_degrees(graph, 'viz/degrees.pdf')"
   ]
  },
  {
   "cell_type": "code",
   "execution_count": 56,
   "metadata": {
    "collapsed": false
   },
   "outputs": [
    {
     "data": {
      "text/html": [
       "<div>\n",
       "<table border=\"1\" class=\"dataframe\">\n",
       "  <thead>\n",
       "    <tr style=\"text-align: right;\">\n",
       "      <th></th>\n",
       "      <th>metanode</th>\n",
       "      <th>abbreviation</th>\n",
       "      <th>metaedges</th>\n",
       "      <th>nodes</th>\n",
       "      <th>unconnected_nodes</th>\n",
       "    </tr>\n",
       "  </thead>\n",
       "  <tbody>\n",
       "    <tr>\n",
       "      <th>1</th>\n",
       "      <td>Anatomy</td>\n",
       "      <td>A</td>\n",
       "      <td>4</td>\n",
       "      <td>402</td>\n",
       "      <td>2</td>\n",
       "    </tr>\n",
       "    <tr>\n",
       "      <th>0</th>\n",
       "      <td>Biological Process</td>\n",
       "      <td>BP</td>\n",
       "      <td>1</td>\n",
       "      <td>11381</td>\n",
       "      <td>0</td>\n",
       "    </tr>\n",
       "    <tr>\n",
       "      <th>9</th>\n",
       "      <td>Cellular Component</td>\n",
       "      <td>CC</td>\n",
       "      <td>1</td>\n",
       "      <td>1391</td>\n",
       "      <td>0</td>\n",
       "    </tr>\n",
       "    <tr>\n",
       "      <th>7</th>\n",
       "      <td>Compound</td>\n",
       "      <td>C</td>\n",
       "      <td>7</td>\n",
       "      <td>1552</td>\n",
       "      <td>18</td>\n",
       "    </tr>\n",
       "    <tr>\n",
       "      <th>3</th>\n",
       "      <td>Disease</td>\n",
       "      <td>D</td>\n",
       "      <td>8</td>\n",
       "      <td>137</td>\n",
       "      <td>1</td>\n",
       "    </tr>\n",
       "    <tr>\n",
       "      <th>2</th>\n",
       "      <td>Gene</td>\n",
       "      <td>G</td>\n",
       "      <td>17</td>\n",
       "      <td>20945</td>\n",
       "      <td>1540</td>\n",
       "    </tr>\n",
       "    <tr>\n",
       "      <th>8</th>\n",
       "      <td>Molecular Function</td>\n",
       "      <td>MF</td>\n",
       "      <td>1</td>\n",
       "      <td>2884</td>\n",
       "      <td>0</td>\n",
       "    </tr>\n",
       "    <tr>\n",
       "      <th>6</th>\n",
       "      <td>Pathway</td>\n",
       "      <td>PW</td>\n",
       "      <td>1</td>\n",
       "      <td>1620</td>\n",
       "      <td>0</td>\n",
       "    </tr>\n",
       "    <tr>\n",
       "      <th>4</th>\n",
       "      <td>Perturbation</td>\n",
       "      <td>PB</td>\n",
       "      <td>1</td>\n",
       "      <td>3396</td>\n",
       "      <td>0</td>\n",
       "    </tr>\n",
       "    <tr>\n",
       "      <th>5</th>\n",
       "      <td>Side Effect</td>\n",
       "      <td>SE</td>\n",
       "      <td>1</td>\n",
       "      <td>5734</td>\n",
       "      <td>33</td>\n",
       "    </tr>\n",
       "    <tr>\n",
       "      <th>10</th>\n",
       "      <td>Symptom</td>\n",
       "      <td>S</td>\n",
       "      <td>1</td>\n",
       "      <td>438</td>\n",
       "      <td>23</td>\n",
       "    </tr>\n",
       "  </tbody>\n",
       "</table>\n",
       "</div>"
      ],
      "text/plain": [
       "              metanode abbreviation  metaedges  nodes  unconnected_nodes\n",
       "1              Anatomy            A          4    402                  2\n",
       "0   Biological Process           BP          1  11381                  0\n",
       "9   Cellular Component           CC          1   1391                  0\n",
       "7             Compound            C          7   1552                 18\n",
       "3              Disease            D          8    137                  1\n",
       "2                 Gene            G         17  20945               1540\n",
       "8   Molecular Function           MF          1   2884                  0\n",
       "6              Pathway           PW          1   1620                  0\n",
       "4         Perturbation           PB          1   3396                  0\n",
       "5          Side Effect           SE          1   5734                 33\n",
       "10             Symptom            S          1    438                 23"
      ]
     },
     "execution_count": 56,
     "metadata": {},
     "output_type": "execute_result"
    }
   ],
   "source": [
    "# Summary of metanodes and cooresponding nodes\n",
    "metanode_df = hetio.stats.get_metanode_df(graph)\n",
    "metanode_df.to_csv('data/summary/metanodes.tsv', sep='\\t', index=False)\n",
    "metanode_df"
   ]
  },
  {
   "cell_type": "code",
   "execution_count": 57,
   "metadata": {
    "collapsed": false
   },
   "outputs": [
    {
     "data": {
      "text/plain": [
       "49880"
      ]
     },
     "execution_count": 57,
     "metadata": {},
     "output_type": "execute_result"
    }
   ],
   "source": [
    "# Total number of nodes\n",
    "metanode_df.nodes.sum()"
   ]
  },
  {
   "cell_type": "code",
   "execution_count": 58,
   "metadata": {
    "collapsed": false
   },
   "outputs": [
    {
     "data": {
      "text/html": [
       "<div>\n",
       "<table border=\"1\" class=\"dataframe\">\n",
       "  <thead>\n",
       "    <tr style=\"text-align: right;\">\n",
       "      <th></th>\n",
       "      <th>metaedge</th>\n",
       "      <th>abbreviation</th>\n",
       "      <th>edges</th>\n",
       "      <th>source_nodes</th>\n",
       "      <th>target_nodes</th>\n",
       "      <th>unbiased</th>\n",
       "    </tr>\n",
       "  </thead>\n",
       "  <tbody>\n",
       "    <tr>\n",
       "      <th>0</th>\n",
       "      <td>Anatomy - downregulates - Gene</td>\n",
       "      <td>AdG</td>\n",
       "      <td>102240</td>\n",
       "      <td>36</td>\n",
       "      <td>15097</td>\n",
       "      <td>102240</td>\n",
       "    </tr>\n",
       "    <tr>\n",
       "      <th>1</th>\n",
       "      <td>Anatomy - expresses - Gene</td>\n",
       "      <td>AeG</td>\n",
       "      <td>526407</td>\n",
       "      <td>241</td>\n",
       "      <td>18094</td>\n",
       "      <td>453477</td>\n",
       "    </tr>\n",
       "    <tr>\n",
       "      <th>2</th>\n",
       "      <td>Anatomy - upregulates - Gene</td>\n",
       "      <td>AuG</td>\n",
       "      <td>97848</td>\n",
       "      <td>36</td>\n",
       "      <td>15929</td>\n",
       "      <td>97848</td>\n",
       "    </tr>\n",
       "    <tr>\n",
       "      <th>3</th>\n",
       "      <td>Compound - binds - Gene</td>\n",
       "      <td>CbG</td>\n",
       "      <td>10747</td>\n",
       "      <td>1377</td>\n",
       "      <td>1586</td>\n",
       "      <td>0</td>\n",
       "    </tr>\n",
       "    <tr>\n",
       "      <th>4</th>\n",
       "      <td>Compound - causes - Side Effect</td>\n",
       "      <td>CcSE</td>\n",
       "      <td>138944</td>\n",
       "      <td>1071</td>\n",
       "      <td>5701</td>\n",
       "      <td>0</td>\n",
       "    </tr>\n",
       "    <tr>\n",
       "      <th>5</th>\n",
       "      <td>Compound - downregulates - Gene</td>\n",
       "      <td>CdG</td>\n",
       "      <td>36396</td>\n",
       "      <td>734</td>\n",
       "      <td>4762</td>\n",
       "      <td>36396</td>\n",
       "    </tr>\n",
       "    <tr>\n",
       "      <th>6</th>\n",
       "      <td>Compound - palliates - Disease</td>\n",
       "      <td>CpD</td>\n",
       "      <td>390</td>\n",
       "      <td>221</td>\n",
       "      <td>50</td>\n",
       "      <td>0</td>\n",
       "    </tr>\n",
       "    <tr>\n",
       "      <th>7</th>\n",
       "      <td>Compound - resembles - Compound</td>\n",
       "      <td>CrC</td>\n",
       "      <td>6486</td>\n",
       "      <td>1042</td>\n",
       "      <td>1054</td>\n",
       "      <td>6486</td>\n",
       "    </tr>\n",
       "    <tr>\n",
       "      <th>8</th>\n",
       "      <td>Compound - treats - Disease</td>\n",
       "      <td>CtD</td>\n",
       "      <td>755</td>\n",
       "      <td>387</td>\n",
       "      <td>77</td>\n",
       "      <td>0</td>\n",
       "    </tr>\n",
       "    <tr>\n",
       "      <th>9</th>\n",
       "      <td>Compound - upregulates - Gene</td>\n",
       "      <td>CuG</td>\n",
       "      <td>32069</td>\n",
       "      <td>703</td>\n",
       "      <td>4951</td>\n",
       "      <td>32069</td>\n",
       "    </tr>\n",
       "    <tr>\n",
       "      <th>10</th>\n",
       "      <td>Disease - associates - Gene</td>\n",
       "      <td>DaG</td>\n",
       "      <td>12623</td>\n",
       "      <td>134</td>\n",
       "      <td>5392</td>\n",
       "      <td>1284</td>\n",
       "    </tr>\n",
       "    <tr>\n",
       "      <th>11</th>\n",
       "      <td>Disease - downregulates - Gene</td>\n",
       "      <td>DdG</td>\n",
       "      <td>48688</td>\n",
       "      <td>46</td>\n",
       "      <td>16530</td>\n",
       "      <td>48688</td>\n",
       "    </tr>\n",
       "    <tr>\n",
       "      <th>12</th>\n",
       "      <td>Disease - localizes - Anatomy</td>\n",
       "      <td>DlA</td>\n",
       "      <td>3602</td>\n",
       "      <td>133</td>\n",
       "      <td>398</td>\n",
       "      <td>0</td>\n",
       "    </tr>\n",
       "    <tr>\n",
       "      <th>13</th>\n",
       "      <td>Disease - presents - Symptom</td>\n",
       "      <td>DpS</td>\n",
       "      <td>3357</td>\n",
       "      <td>133</td>\n",
       "      <td>415</td>\n",
       "      <td>0</td>\n",
       "    </tr>\n",
       "    <tr>\n",
       "      <th>14</th>\n",
       "      <td>Disease - resembles - Disease</td>\n",
       "      <td>DrD</td>\n",
       "      <td>543</td>\n",
       "      <td>112</td>\n",
       "      <td>106</td>\n",
       "      <td>0</td>\n",
       "    </tr>\n",
       "    <tr>\n",
       "      <th>15</th>\n",
       "      <td>Disease - upregulates - Gene</td>\n",
       "      <td>DuG</td>\n",
       "      <td>50287</td>\n",
       "      <td>46</td>\n",
       "      <td>16195</td>\n",
       "      <td>50287</td>\n",
       "    </tr>\n",
       "    <tr>\n",
       "      <th>16</th>\n",
       "      <td>Gene - covaries - Gene</td>\n",
       "      <td>GcG</td>\n",
       "      <td>61690</td>\n",
       "      <td>9043</td>\n",
       "      <td>9532</td>\n",
       "      <td>61690</td>\n",
       "    </tr>\n",
       "    <tr>\n",
       "      <th>17</th>\n",
       "      <td>Gene - interacts - Gene</td>\n",
       "      <td>GiG</td>\n",
       "      <td>147164</td>\n",
       "      <td>9526</td>\n",
       "      <td>14084</td>\n",
       "      <td>15517</td>\n",
       "    </tr>\n",
       "    <tr>\n",
       "      <th>18</th>\n",
       "      <td>Gene - participates - Biological Process</td>\n",
       "      <td>GpBP</td>\n",
       "      <td>559504</td>\n",
       "      <td>14772</td>\n",
       "      <td>11381</td>\n",
       "      <td>0</td>\n",
       "    </tr>\n",
       "    <tr>\n",
       "      <th>19</th>\n",
       "      <td>Gene - participates - Cellular Component</td>\n",
       "      <td>GpCC</td>\n",
       "      <td>73566</td>\n",
       "      <td>10580</td>\n",
       "      <td>1391</td>\n",
       "      <td>0</td>\n",
       "    </tr>\n",
       "    <tr>\n",
       "      <th>20</th>\n",
       "      <td>Gene - participates - Molecular Function</td>\n",
       "      <td>GpMF</td>\n",
       "      <td>97222</td>\n",
       "      <td>13063</td>\n",
       "      <td>2884</td>\n",
       "      <td>0</td>\n",
       "    </tr>\n",
       "    <tr>\n",
       "      <th>21</th>\n",
       "      <td>Gene - participates - Pathway</td>\n",
       "      <td>GpPW</td>\n",
       "      <td>78045</td>\n",
       "      <td>9419</td>\n",
       "      <td>1620</td>\n",
       "      <td>0</td>\n",
       "    </tr>\n",
       "    <tr>\n",
       "      <th>22</th>\n",
       "      <td>Gene &gt; regulates &gt; Gene</td>\n",
       "      <td>Gr&gt;G</td>\n",
       "      <td>362310</td>\n",
       "      <td>4634</td>\n",
       "      <td>7373</td>\n",
       "      <td>362310</td>\n",
       "    </tr>\n",
       "    <tr>\n",
       "      <th>23</th>\n",
       "      <td>Perturbation - regulates - Gene</td>\n",
       "      <td>PBrG</td>\n",
       "      <td>366520</td>\n",
       "      <td>3396</td>\n",
       "      <td>18245</td>\n",
       "      <td>0</td>\n",
       "    </tr>\n",
       "  </tbody>\n",
       "</table>\n",
       "</div>"
      ],
      "text/plain": [
       "                                    metaedge abbreviation   edges  \\\n",
       "0             Anatomy - downregulates - Gene          AdG  102240   \n",
       "1                 Anatomy - expresses - Gene          AeG  526407   \n",
       "2               Anatomy - upregulates - Gene          AuG   97848   \n",
       "3                    Compound - binds - Gene          CbG   10747   \n",
       "4            Compound - causes - Side Effect         CcSE  138944   \n",
       "5            Compound - downregulates - Gene          CdG   36396   \n",
       "6             Compound - palliates - Disease          CpD     390   \n",
       "7            Compound - resembles - Compound          CrC    6486   \n",
       "8                Compound - treats - Disease          CtD     755   \n",
       "9              Compound - upregulates - Gene          CuG   32069   \n",
       "10               Disease - associates - Gene          DaG   12623   \n",
       "11            Disease - downregulates - Gene          DdG   48688   \n",
       "12             Disease - localizes - Anatomy          DlA    3602   \n",
       "13              Disease - presents - Symptom          DpS    3357   \n",
       "14             Disease - resembles - Disease          DrD     543   \n",
       "15              Disease - upregulates - Gene          DuG   50287   \n",
       "16                    Gene - covaries - Gene          GcG   61690   \n",
       "17                   Gene - interacts - Gene          GiG  147164   \n",
       "18  Gene - participates - Biological Process         GpBP  559504   \n",
       "19  Gene - participates - Cellular Component         GpCC   73566   \n",
       "20  Gene - participates - Molecular Function         GpMF   97222   \n",
       "21             Gene - participates - Pathway         GpPW   78045   \n",
       "22                   Gene > regulates > Gene         Gr>G  362310   \n",
       "23           Perturbation - regulates - Gene         PBrG  366520   \n",
       "\n",
       "    source_nodes  target_nodes  unbiased  \n",
       "0             36         15097    102240  \n",
       "1            241         18094    453477  \n",
       "2             36         15929     97848  \n",
       "3           1377          1586         0  \n",
       "4           1071          5701         0  \n",
       "5            734          4762     36396  \n",
       "6            221            50         0  \n",
       "7           1042          1054      6486  \n",
       "8            387            77         0  \n",
       "9            703          4951     32069  \n",
       "10           134          5392      1284  \n",
       "11            46         16530     48688  \n",
       "12           133           398         0  \n",
       "13           133           415         0  \n",
       "14           112           106         0  \n",
       "15            46         16195     50287  \n",
       "16          9043          9532     61690  \n",
       "17          9526         14084     15517  \n",
       "18         14772         11381         0  \n",
       "19         10580          1391         0  \n",
       "20         13063          2884         0  \n",
       "21          9419          1620         0  \n",
       "22          4634          7373    362310  \n",
       "23          3396         18245         0  "
      ]
     },
     "execution_count": 58,
     "metadata": {},
     "output_type": "execute_result"
    }
   ],
   "source": [
    "# Summary of metaedges and cooresponding edges\n",
    "metaedge_df = hetio.stats.get_metaedge_df(graph)\n",
    "\n",
    "# Calculate number of unbiased edges\n",
    "rows = list()\n",
    "for metaedge, edges in graph.get_metaedge_to_edges(exclude_inverts=True).items():\n",
    "    unbiased = sum(edge.data['unbiased'] for edge in edges)\n",
    "    rows.append({'metaedge': str(metaedge), 'unbiased': unbiased})\n",
    "\n",
    "metaedge_df = metaedge_df.merge(pandas.DataFrame(rows))\n",
    "metaedge_df.to_csv('data/summary/metaedges.tsv', sep='\\t', index=False)\n",
    "metaedge_df"
   ]
  },
  {
   "cell_type": "code",
   "execution_count": 59,
   "metadata": {
    "collapsed": false,
    "scrolled": true
   },
   "outputs": [
    {
     "data": {
      "text/plain": [
       "2817403"
      ]
     },
     "execution_count": 59,
     "metadata": {},
     "output_type": "execute_result"
    }
   ],
   "source": [
    "# Number of edges in the network\n",
    "metaedge_df.edges.sum()"
   ]
  },
  {
   "cell_type": "markdown",
   "metadata": {
    "collapsed": true
   },
   "source": [
    "## Save graph"
   ]
  },
  {
   "cell_type": "code",
   "execution_count": 60,
   "metadata": {
    "collapsed": false
   },
   "outputs": [],
   "source": [
    "# Write nodes to a table\n",
    "path = 'data/nodes.tsv'\n",
    "hetio.readwrite.write_nodetable(graph, path)\n",
    "\n",
    "# Write edges to a table\n",
    "path = 'data/edges.sif.gz'\n",
    "hetio.readwrite.write_sif(graph, path)"
   ]
  },
  {
   "cell_type": "code",
   "execution_count": 61,
   "metadata": {
    "collapsed": true
   },
   "outputs": [],
   "source": [
    "# Write a subset of edges to a table\n",
    "path = 'data/edges-10.sif'\n",
    "hetio.readwrite.write_sif(graph, path, max_edges=10)\n",
    "\n",
    "path = 'data/edges-5k.sif.gz'\n",
    "hetio.readwrite.write_sif(graph, path, max_edges=5000)"
   ]
  },
  {
   "cell_type": "code",
   "execution_count": 62,
   "metadata": {
    "collapsed": true
   },
   "outputs": [],
   "source": [
    "# Write metagraph as json\n",
    "path = 'data/metagraph.json'\n",
    "hetio.readwrite.write_metagraph(metagraph, path)"
   ]
  },
  {
   "cell_type": "code",
   "execution_count": 63,
   "metadata": {
    "collapsed": false
   },
   "outputs": [],
   "source": [
    "# Write graph as json\n",
    "path = 'data/hetnet.json.bz2'\n",
    "hetio.readwrite.write_graph(graph, path)"
   ]
  },
  {
   "cell_type": "code",
   "execution_count": 64,
   "metadata": {
    "collapsed": false
   },
   "outputs": [
    {
     "name": "stdout",
     "output_type": "stream",
     "text": [
      "fce22f2daba9d7c50c4ee80509a68db8bfb52dfcec503d54de79821fc6fdcb29  data/hetnet.json.bz2\r\n"
     ]
    }
   ],
   "source": [
    "! sha256sum data/hetnet.json.bz2"
   ]
  },
  {
   "cell_type": "markdown",
   "metadata": {},
   "source": [
    "## Barplots of metaedge and metanode counts"
   ]
  },
  {
   "cell_type": "code",
   "execution_count": 65,
   "metadata": {
    "collapsed": true
   },
   "outputs": [],
   "source": [
    "%matplotlib inline"
   ]
  },
  {
   "cell_type": "code",
   "execution_count": 66,
   "metadata": {
    "collapsed": false
   },
   "outputs": [
    {
     "data": {
      "image/png": "[encoded data removed]",
      "text/plain": [
       "<matplotlib.figure.Figure at 0x7f7203c207b8>"
      ]
     },
     "metadata": {},
     "output_type": "display_data"
    }
   ],
   "source": [
    "ax = seaborn.barplot(x='metanode', y='nodes', data=metanode_df.sort_values('nodes'))\n",
    "for tick in ax.get_xticklabels():\n",
    "    tick.set_rotation(90)\n",
    "ax.set_xlabel(''); ax.set_ylabel('nodes');"
   ]
  },
  {
   "cell_type": "code",
   "execution_count": 67,
   "metadata": {
    "collapsed": false
   },
   "outputs": [
    {
     "data": {
      "image/png": "[encoded data removed]",
      "text/plain": [
       "<matplotlib.figure.Figure at 0x7f7203e51b00>"
      ]
     },
     "metadata": {},
     "output_type": "display_data"
    }
   ],
   "source": [
    "ax = seaborn.barplot(x='metaedge', y='edges', data=metaedge_df.sort_values('edges'))\n",
    "for tick in ax.get_xticklabels():\n",
    "    tick.set_rotation(90)\n",
    "ax.set_xlabel(''); ax.set_ylabel('edges');"
   ]
  }
 ],
 "metadata": {
  "kernelspec": {
   "display_name": "Python 3",
   "language": "python",
   "name": "python3"
  },
  "language_info": {
   "codemirror_mode": {
    "name": "ipython",
    "version": 3
   },
   "file_extension": ".py",
   "mimetype": "text/x-python",
   "name": "python",
   "nbconvert_exporter": "python",
   "pygments_lexer": "ipython3",
   "version": "3.5.1"
  }
 },
 "nbformat": 4,
 "nbformat_minor": 0
}