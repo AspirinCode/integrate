{
 "cells": [
  {
   "cell_type": "code",
   "execution_count": 2,
   "metadata": {
    "collapsed": false
   },
   "outputs": [],
   "source": [
    "import pandas\n",
    "import scipy.stats\n",
    "\n",
    "import hetio.hetnet\n",
    "import hetio.readwrite\n",
    "import hetio.stats\n",
    "\n",
    "from utils import rawgit, open_gz_url, obo_iri"
   ]
  },
  {
   "cell_type": "markdown",
   "metadata": {
    "collapsed": false
   },
   "source": [
    "## Define the metagraph and instantiate the graph"
   ]
  },
  {
   "cell_type": "code",
   "execution_count": 3,
   "metadata": {
    "collapsed": false
   },
   "outputs": [],
   "source": [
    "kind_to_abbev = {\n",
    "    \n",
    "    # metanodes\n",
    "    'compound': 'C',\n",
    "    'disease': 'D',\n",
    "    'gene': 'G',\n",
    "    'anatomy': 'A',\n",
    "    'symptom': 'S',\n",
    "    'side effect': 'SE',\n",
    "    'pathway': 'PW',\n",
    "    'perturbation': 'PB',\n",
    "    'biological process': 'BP',\n",
    "    'cellular component': 'CC',\n",
    "    'molecular function': 'MF',\n",
    "    \n",
    "    # metaedges\n",
    "    'indication': 'i',\n",
    "    'binding': 'b',\n",
    "    'expression': 'e',\n",
    "    'regulation': 'r',\n",
    "    'upregulation': 'u',\n",
    "    'downregulation': 'd',\n",
    "    'interaction': 'i',\n",
    "    'evolution': 'e',\n",
    "    'knockdown downregulation': 'kd',\n",
    "    'knockdown upregulation': 'ku',\n",
    "    'overexpression downregulation': 'od',\n",
    "    'overexpression upregulation': 'ou',\n",
    "    'participation': 'p',\n",
    "    'similarity': 's',\n",
    "    'association': 'a',\n",
    "    'function': 'f',\n",
    "    'localization': 'l',\n",
    "    'presence': 'p',\n",
    "    'causation': 'c',\n",
    "}\n",
    "\n",
    "metaedge_tuples = [\n",
    "    ('compound', 'disease', 'indication', 'both'),\n",
    "    ('compound', 'gene', 'binding', 'both'),\n",
    "    ('compound', 'gene', 'upregulation', 'both'),\n",
    "    ('compound', 'gene', 'downregulation', 'both'),\n",
    "    ('compound', 'compound', 'similarity', 'both'),\n",
    "    ('compound', 'side effect', 'causation', 'both'),\n",
    "    ('gene', 'anatomy', 'expression', 'both'),\n",
    "    ('gene', 'anatomy', 'upregulation', 'both'),\n",
    "    ('gene', 'anatomy', 'downregulation', 'both'),\n",
    "    ('gene', 'gene', 'interaction', 'both'),\n",
    "    ('gene', 'gene', 'evolution', 'both'),\n",
    "    ('gene', 'gene', 'knockdown downregulation', 'forward'),\n",
    "    ('gene', 'gene', 'knockdown upregulation', 'forward'),\n",
    "    ('gene', 'gene', 'overexpression downregulation', 'forward'),\n",
    "    ('gene', 'gene', 'overexpression upregulation', 'forward'),\n",
    "    ('gene', 'pathway', 'participation', 'both'),\n",
    "    ('gene', 'perturbation', 'regulation', 'both'),\n",
    "    ('gene', 'biological process', 'participation', 'both'),\n",
    "    ('gene', 'cellular component', 'participation', 'both'),\n",
    "    ('gene', 'molecular function', 'participation', 'both'),\n",
    "    ('disease', 'disease', 'similarity', 'both'),\n",
    "    ('disease', 'gene', 'association', 'both'),\n",
    "    ('disease', 'gene', 'upregulation', 'both'),\n",
    "    ('disease', 'gene', 'downregulation', 'both'),\n",
    "    ('disease', 'anatomy', 'localization', 'both'),\n",
    "    ('disease', 'symptom', 'presence', 'both'),\n",
    "]\n",
    "metagraph = hetio.hetnet.MetaGraph.from_edge_tuples(metaedge_tuples, kind_to_abbev)\n",
    "graph = hetio.hetnet.Graph(metagraph)"
   ]
  },
  {
   "cell_type": "markdown",
   "metadata": {},
   "source": [
    "## Gene Nodes"
   ]
  },
  {
   "cell_type": "code",
   "execution_count": 4,
   "metadata": {
    "collapsed": false
   },
   "outputs": [
    {
     "data": {
      "text/html": [
       "<div>\n",
       "<table border=\"1\" class=\"dataframe\">\n",
       "  <thead>\n",
       "    <tr style=\"text-align: right;\">\n",
       "      <th></th>\n",
       "      <th>tax_id</th>\n",
       "      <th>GeneID</th>\n",
       "      <th>Symbol</th>\n",
       "      <th>chromosome</th>\n",
       "      <th>map_location</th>\n",
       "      <th>type_of_gene</th>\n",
       "      <th>description</th>\n",
       "    </tr>\n",
       "  </thead>\n",
       "  <tbody>\n",
       "    <tr>\n",
       "      <th>0</th>\n",
       "      <td>9606</td>\n",
       "      <td>1</td>\n",
       "      <td>A1BG</td>\n",
       "      <td>19</td>\n",
       "      <td>19q13.4</td>\n",
       "      <td>protein-coding</td>\n",
       "      <td>alpha-1-B glycoprotein</td>\n",
       "    </tr>\n",
       "    <tr>\n",
       "      <th>1</th>\n",
       "      <td>9606</td>\n",
       "      <td>2</td>\n",
       "      <td>A2M</td>\n",
       "      <td>12</td>\n",
       "      <td>12p13.31</td>\n",
       "      <td>protein-coding</td>\n",
       "      <td>alpha-2-macroglobulin</td>\n",
       "    </tr>\n",
       "  </tbody>\n",
       "</table>\n",
       "</div>"
      ],
      "text/plain": [
       "   tax_id  GeneID Symbol chromosome map_location    type_of_gene  \\\n",
       "0    9606       1   A1BG         19      19q13.4  protein-coding   \n",
       "1    9606       2    A2M         12     12p13.31  protein-coding   \n",
       "\n",
       "              description  \n",
       "0  alpha-1-B glycoprotein  \n",
       "1   alpha-2-macroglobulin  "
      ]
     },
     "execution_count": 4,
     "metadata": {},
     "output_type": "execute_result"
    }
   ],
   "source": [
    "commit = '5352b31e04ec136e99d25a0ba63e8867aa71b69f'\n",
    "url = rawgit('dhimmel', 'entrez-gene', commit, 'data/genes-human.tsv')\n",
    "gene_df = pandas.read_table(url)\n",
    "gene_df = gene_df[gene_df.type_of_gene == 'protein-coding']\n",
    "symbol_to_gene_id = dict(zip(gene_df.Symbol, gene_df.GeneID))\n",
    "coding_genes = set(gene_df.GeneID)\n",
    "gene_df.head(2)"
   ]
  },
  {
   "cell_type": "code",
   "execution_count": 5,
   "metadata": {
    "collapsed": false
   },
   "outputs": [],
   "source": [
    "for i, row in gene_df.iterrows():\n",
    "    if row.type_of_gene != 'protein-coding':\n",
    "        continue\n",
    "    data = {'url': 'http://identifiers.org/ncbigene/{}'.format(row.GeneID), 'license': 'CC0 1.0'}\n",
    "    graph.add_node(kind = 'gene', identifier=row.GeneID, name=row.Symbol, data=data)"
   ]
  },
  {
   "cell_type": "markdown",
   "metadata": {},
   "source": [
    "## Disease Nodes"
   ]
  },
  {
   "cell_type": "code",
   "execution_count": 6,
   "metadata": {
    "collapsed": false
   },
   "outputs": [
    {
     "data": {
      "text/html": [
       "<div>\n",
       "<table border=\"1\" class=\"dataframe\">\n",
       "  <thead>\n",
       "    <tr style=\"text-align: right;\">\n",
       "      <th></th>\n",
       "      <th>doid</th>\n",
       "      <th>name</th>\n",
       "      <th>source</th>\n",
       "      <th>pathophysiology</th>\n",
       "    </tr>\n",
       "  </thead>\n",
       "  <tbody>\n",
       "    <tr>\n",
       "      <th>0</th>\n",
       "      <td>DOID:2531</td>\n",
       "      <td>Hematologic cancer</td>\n",
       "      <td>DOcancerslim</td>\n",
       "      <td>neoplastic</td>\n",
       "    </tr>\n",
       "    <tr>\n",
       "      <th>1</th>\n",
       "      <td>DOID:1319</td>\n",
       "      <td>Brain cancer</td>\n",
       "      <td>DOcancerslim</td>\n",
       "      <td>neoplastic</td>\n",
       "    </tr>\n",
       "  </tbody>\n",
       "</table>\n",
       "</div>"
      ],
      "text/plain": [
       "        doid                name        source pathophysiology\n",
       "0  DOID:2531  Hematologic cancer  DOcancerslim      neoplastic\n",
       "1  DOID:1319        Brain cancer  DOcancerslim      neoplastic"
      ]
     },
     "execution_count": 6,
     "metadata": {},
     "output_type": "execute_result"
    }
   ],
   "source": [
    "commit = '72614ade9f1cc5a5317b8f6836e1e464b31d5587'\n",
    "url = rawgit('dhimmel', 'disease-ontology', commit, 'data/slim-terms.tsv')\n",
    "disease_df = pandas.read_table(url)\n",
    "disease_df.head(2)"
   ]
  },
  {
   "cell_type": "code",
   "execution_count": 7,
   "metadata": {
    "collapsed": false
   },
   "outputs": [],
   "source": [
    "for i, row in disease_df.iterrows():\n",
    "    data = {'url': obo_iri(row.doid), 'license': 'CC-BY 3.0'}\n",
    "    graph.add_node(kind='disease', identifier=row.doid, name=row['name'], data=data)"
   ]
  },
  {
   "cell_type": "markdown",
   "metadata": {},
   "source": [
    "## Compound Nodes"
   ]
  },
  {
   "cell_type": "code",
   "execution_count": 8,
   "metadata": {
    "collapsed": false
   },
   "outputs": [
    {
     "data": {
      "text/html": [
       "<div>\n",
       "<table border=\"1\" class=\"dataframe\">\n",
       "  <thead>\n",
       "    <tr style=\"text-align: right;\">\n",
       "      <th></th>\n",
       "      <th>drugbank_id</th>\n",
       "      <th>name</th>\n",
       "      <th>type</th>\n",
       "      <th>groups</th>\n",
       "      <th>atc_codes</th>\n",
       "      <th>categories</th>\n",
       "      <th>inchikey</th>\n",
       "      <th>inchi</th>\n",
       "    </tr>\n",
       "  </thead>\n",
       "  <tbody>\n",
       "    <tr>\n",
       "      <th>0</th>\n",
       "      <td>DB00014</td>\n",
       "      <td>Goserelin</td>\n",
       "      <td>small molecule</td>\n",
       "      <td>approved</td>\n",
       "      <td>L02AE03</td>\n",
       "      <td>NaN</td>\n",
       "      <td>InChIKey=BLCLNMBMMGCOAS-URPVMXJPSA-N</td>\n",
       "      <td>InChI=1S/C59H84N18O14/c1-31(2)22-40(49(82)68-3...</td>\n",
       "    </tr>\n",
       "    <tr>\n",
       "      <th>1</th>\n",
       "      <td>DB00035</td>\n",
       "      <td>Desmopressin</td>\n",
       "      <td>small molecule</td>\n",
       "      <td>approved</td>\n",
       "      <td>H01BA02</td>\n",
       "      <td>Antidiuretic Agents|Hemostatics|Renal Agents</td>\n",
       "      <td>InChIKey=NFLWUMRGJYTJIN-NXBWRCJVSA-N</td>\n",
       "      <td>InChI=1S/C46H64N14O12S2/c47-35(62)15-14-29-40(...</td>\n",
       "    </tr>\n",
       "  </tbody>\n",
       "</table>\n",
       "</div>"
      ],
      "text/plain": [
       "  drugbank_id          name            type    groups atc_codes  \\\n",
       "0     DB00014     Goserelin  small molecule  approved   L02AE03   \n",
       "1     DB00035  Desmopressin  small molecule  approved   H01BA02   \n",
       "\n",
       "                                     categories  \\\n",
       "0                                           NaN   \n",
       "1  Antidiuretic Agents|Hemostatics|Renal Agents   \n",
       "\n",
       "                               inchikey  \\\n",
       "0  InChIKey=BLCLNMBMMGCOAS-URPVMXJPSA-N   \n",
       "1  InChIKey=NFLWUMRGJYTJIN-NXBWRCJVSA-N   \n",
       "\n",
       "                                               inchi  \n",
       "0  InChI=1S/C59H84N18O14/c1-31(2)22-40(49(82)68-3...  \n",
       "1  InChI=1S/C46H64N14O12S2/c47-35(62)15-14-29-40(...  "
      ]
     },
     "execution_count": 8,
     "metadata": {},
     "output_type": "execute_result"
    }
   ],
   "source": [
    "commit = '3e87872db5fca5ac427ce27464ab945c0ceb4ec6'\n",
    "url = rawgit('dhimmel', 'drugbank', commit, 'data/drugbank-slim.tsv')\n",
    "compound_df = pandas.read_table(url)\n",
    "compound_df.head(2)"
   ]
  },
  {
   "cell_type": "code",
   "execution_count": 9,
   "metadata": {
    "collapsed": false
   },
   "outputs": [],
   "source": [
    "for i, row in compound_df.iterrows():\n",
    "    url = 'http://www.drugbank.ca/drugs/' + row.drugbank_id\n",
    "    data = {'inchikey': row.inchikey, 'inchi': row.inchi, 'url': url, 'license': 'CC-BY-NC 4.0'}\n",
    "    graph.add_node(kind='compound', identifier=row.drugbank_id, name=row['name'], data=data)"
   ]
  },
  {
   "cell_type": "markdown",
   "metadata": {},
   "source": [
    "## Anotomy nodes"
   ]
  },
  {
   "cell_type": "code",
   "execution_count": 10,
   "metadata": {
    "collapsed": false
   },
   "outputs": [
    {
     "data": {
      "text/html": [
       "<div>\n",
       "<table border=\"1\" class=\"dataframe\">\n",
       "  <thead>\n",
       "    <tr style=\"text-align: right;\">\n",
       "      <th></th>\n",
       "      <th>uberon_id</th>\n",
       "      <th>uberon_name</th>\n",
       "      <th>mesh_id</th>\n",
       "      <th>mesh_name</th>\n",
       "      <th>bto_id</th>\n",
       "    </tr>\n",
       "  </thead>\n",
       "  <tbody>\n",
       "    <tr>\n",
       "      <th>0</th>\n",
       "      <td>UBERON:0000002</td>\n",
       "      <td>uterine cervix</td>\n",
       "      <td>D002584</td>\n",
       "      <td>Cervix Uteri</td>\n",
       "      <td>BTO:0001421</td>\n",
       "    </tr>\n",
       "    <tr>\n",
       "      <th>1</th>\n",
       "      <td>UBERON:0000004</td>\n",
       "      <td>nose</td>\n",
       "      <td>D009666</td>\n",
       "      <td>Nose</td>\n",
       "      <td>BTO:0000840</td>\n",
       "    </tr>\n",
       "  </tbody>\n",
       "</table>\n",
       "</div>"
      ],
      "text/plain": [
       "        uberon_id     uberon_name  mesh_id     mesh_name       bto_id\n",
       "0  UBERON:0000002  uterine cervix  D002584  Cervix Uteri  BTO:0001421\n",
       "1  UBERON:0000004            nose  D009666          Nose  BTO:0000840"
      ]
     },
     "execution_count": 10,
     "metadata": {},
     "output_type": "execute_result"
    }
   ],
   "source": [
    "commit = '134f23479186abba03ba340fc6dc90e16c781920'\n",
    "url = rawgit('dhimmel', 'uberon', commit, 'data/hetio-slim.tsv')\n",
    "uberon_df = pandas.read_table(url)\n",
    "uberon_df.head(2)"
   ]
  },
  {
   "cell_type": "code",
   "execution_count": 11,
   "metadata": {
    "collapsed": true
   },
   "outputs": [],
   "source": [
    "for i, row in uberon_df.iterrows():\n",
    "    data = {'url': obo_iri(row['uberon_id']), 'license': 'CC-BY 3.0'}\n",
    "    for xref in 'mesh_id', 'bto_id':\n",
    "        if pandas.notnull(row[xref]):\n",
    "            data[xref] = row[xref]\n",
    "    graph.add_node(kind='anatomy', identifier=row['uberon_id'], name=row['uberon_name'], data=data)"
   ]
  },
  {
   "cell_type": "markdown",
   "metadata": {},
   "source": [
    "## Symptom Nodes"
   ]
  },
  {
   "cell_type": "code",
   "execution_count": 12,
   "metadata": {
    "collapsed": false
   },
   "outputs": [
    {
     "data": {
      "text/html": [
       "<div>\n",
       "<table border=\"1\" class=\"dataframe\">\n",
       "  <thead>\n",
       "    <tr style=\"text-align: right;\">\n",
       "      <th></th>\n",
       "      <th>mesh_id</th>\n",
       "      <th>mesh_name</th>\n",
       "      <th>in_hsdn</th>\n",
       "    </tr>\n",
       "  </thead>\n",
       "  <tbody>\n",
       "    <tr>\n",
       "      <th>0</th>\n",
       "      <td>D000006</td>\n",
       "      <td>Abdomen, Acute</td>\n",
       "      <td>1</td>\n",
       "    </tr>\n",
       "    <tr>\n",
       "      <th>1</th>\n",
       "      <td>D000270</td>\n",
       "      <td>Adie Syndrome</td>\n",
       "      <td>0</td>\n",
       "    </tr>\n",
       "  </tbody>\n",
       "</table>\n",
       "</div>"
      ],
      "text/plain": [
       "   mesh_id       mesh_name  in_hsdn\n",
       "0  D000006  Abdomen, Acute        1\n",
       "1  D000270   Adie Syndrome        0"
      ]
     },
     "execution_count": 12,
     "metadata": {},
     "output_type": "execute_result"
    }
   ],
   "source": [
    "commit = 'a7036a37302973b15ab949aab4056d9bc062910e'\n",
    "url = rawgit('dhimmel', 'mesh', commit, 'data/symptoms.tsv')\n",
    "symptom_df = pandas.read_table(url)\n",
    "symptom_df.head(2)"
   ]
  },
  {
   "cell_type": "code",
   "execution_count": 13,
   "metadata": {
    "collapsed": true
   },
   "outputs": [],
   "source": [
    "for i, row in symptom_df.iterrows():\n",
    "    url = 'http://www.nlm.nih.gov/cgi/mesh/2015/MB_cgi?field=uid&term={}'.format(row.mesh_id)\n",
    "    data = {'url': url, 'license': 'CC0 1.0'}\n",
    "    graph.add_node(kind='symptom', identifier=row.mesh_id, name=row.mesh_name, data=data)"
   ]
  },
  {
   "cell_type": "markdown",
   "metadata": {
    "collapsed": true
   },
   "source": [
    "## Pathway Nodes and Edges"
   ]
  },
  {
   "cell_type": "code",
   "execution_count": 14,
   "metadata": {
    "collapsed": false
   },
   "outputs": [
    {
     "data": {
      "text/html": [
       "<div>\n",
       "<table border=\"1\" class=\"dataframe\">\n",
       "  <thead>\n",
       "    <tr style=\"text-align: right;\">\n",
       "      <th></th>\n",
       "      <th>identifier</th>\n",
       "      <th>name</th>\n",
       "      <th>url</th>\n",
       "      <th>n_genes</th>\n",
       "      <th>n_coding_genes</th>\n",
       "      <th>source</th>\n",
       "      <th>license</th>\n",
       "      <th>genes</th>\n",
       "      <th>coding_genes</th>\n",
       "    </tr>\n",
       "  </thead>\n",
       "  <tbody>\n",
       "    <tr>\n",
       "      <th>1615</th>\n",
       "      <td>NABA_BASEMENT_MEMBRANES</td>\n",
       "      <td>NABA_BASEMENT_MEMBRANES</td>\n",
       "      <td>http://www.broadinstitute.org/gsea/msigdb/card...</td>\n",
       "      <td>40</td>\n",
       "      <td>40</td>\n",
       "      <td>msigdb</td>\n",
       "      <td>http://www.broadinstitute.org/cancer/software/...</td>\n",
       "      <td>1293|256076|3914|4811|1288|3918|84628|89932|39...</td>\n",
       "      <td>1293|256076|3914|4811|1288|3918|84628|89932|39...</td>\n",
       "    </tr>\n",
       "    <tr>\n",
       "      <th>1616</th>\n",
       "      <td>NABA_MATRISOME</td>\n",
       "      <td>NABA_MATRISOME</td>\n",
       "      <td>http://www.broadinstitute.org/gsea/msigdb/card...</td>\n",
       "      <td>1028</td>\n",
       "      <td>1028</td>\n",
       "      <td>msigdb</td>\n",
       "      <td>http://www.broadinstitute.org/cancer/software/...</td>\n",
       "      <td>4312|10507|140576|7422|1302|1298|1509|56955|87...</td>\n",
       "      <td>4312|10507|140576|7422|1302|79812|1298|165257|...</td>\n",
       "    </tr>\n",
       "  </tbody>\n",
       "</table>\n",
       "</div>"
      ],
      "text/plain": [
       "                   identifier                     name  \\\n",
       "1615  NABA_BASEMENT_MEMBRANES  NABA_BASEMENT_MEMBRANES   \n",
       "1616           NABA_MATRISOME           NABA_MATRISOME   \n",
       "\n",
       "                                                    url  n_genes  \\\n",
       "1615  http://www.broadinstitute.org/gsea/msigdb/card...       40   \n",
       "1616  http://www.broadinstitute.org/gsea/msigdb/card...     1028   \n",
       "\n",
       "      n_coding_genes  source  \\\n",
       "1615              40  msigdb   \n",
       "1616            1028  msigdb   \n",
       "\n",
       "                                                license  \\\n",
       "1615  http://www.broadinstitute.org/cancer/software/...   \n",
       "1616  http://www.broadinstitute.org/cancer/software/...   \n",
       "\n",
       "                                                  genes  \\\n",
       "1615  1293|256076|3914|4811|1288|3918|84628|89932|39...   \n",
       "1616  4312|10507|140576|7422|1302|1298|1509|56955|87...   \n",
       "\n",
       "                                           coding_genes  \n",
       "1615  1293|256076|3914|4811|1288|3918|84628|89932|39...  \n",
       "1616  4312|10507|140576|7422|1302|79812|1298|165257|...  "
      ]
     },
     "execution_count": 14,
     "metadata": {},
     "output_type": "execute_result"
    }
   ],
   "source": [
    "commit = '1dc7c744d0d1a8fa17a079f739195e6d3c15117e'\n",
    "url = rawgit('dhimmel', 'pathways', commit, 'data/pathways.tsv')\n",
    "pathway_df = pandas.read_table(url)\n",
    "pathway_df = pathway_df[pathway_df.n_coding_genes > 1]\n",
    "pathway_df.tail(2)"
   ]
  },
  {
   "cell_type": "code",
   "execution_count": 15,
   "metadata": {
    "collapsed": false
   },
   "outputs": [],
   "source": [
    "for i, row in pathway_df.iterrows():\n",
    "    pathway_id = row.identifier\n",
    "    data = {'url': row.url, 'license': row.license}\n",
    "    graph.add_node(kind='pathway', identifier=pathway_id, name=row['name'], data=data)\n",
    "    \n",
    "    for gene in row.coding_genes.split('|'):\n",
    "        gene = int(gene)\n",
    "        source_id = 'gene', gene\n",
    "        target_id = 'pathway', pathway_id\n",
    "        data = {'unbiased': False, 'url': row.url, 'license': row.license}\n",
    "        graph.add_edge(source_id, target_id, 'participation', 'both', data)"
   ]
  },
  {
   "cell_type": "markdown",
   "metadata": {},
   "source": [
    "## Gene Ontology Domains"
   ]
  },
  {
   "cell_type": "code",
   "execution_count": 16,
   "metadata": {
    "collapsed": false
   },
   "outputs": [
    {
     "data": {
      "text/html": [
       "<div>\n",
       "<table border=\"1\" class=\"dataframe\">\n",
       "  <thead>\n",
       "    <tr style=\"text-align: right;\">\n",
       "      <th></th>\n",
       "      <th>go_id</th>\n",
       "      <th>go_name</th>\n",
       "      <th>go_domain</th>\n",
       "      <th>tax_id</th>\n",
       "      <th>annotation_type</th>\n",
       "      <th>size</th>\n",
       "      <th>gene_ids</th>\n",
       "      <th>gene_symbols</th>\n",
       "    </tr>\n",
       "  </thead>\n",
       "  <tbody>\n",
       "    <tr>\n",
       "      <th>0</th>\n",
       "      <td>GO:0000002</td>\n",
       "      <td>mitochondrial genome maintenance</td>\n",
       "      <td>biological_process</td>\n",
       "      <td>9606</td>\n",
       "      <td>inferred</td>\n",
       "      <td>24</td>\n",
       "      <td>142|291|1763|1890|3980|4205|4358|4976|5428|708...</td>\n",
       "      <td>PARP1|SLC25A4|DNA2|TYMP|LIG3|MEF2A|MPV17|OPA1|...</td>\n",
       "    </tr>\n",
       "    <tr>\n",
       "      <th>1</th>\n",
       "      <td>GO:0000003</td>\n",
       "      <td>reproduction</td>\n",
       "      <td>biological_process</td>\n",
       "      <td>9606</td>\n",
       "      <td>inferred</td>\n",
       "      <td>1272</td>\n",
       "      <td>18|49|51|90|91|92|100|109|113|116|117|133|150|...</td>\n",
       "      <td>ABAT|ACR|ACOX1|ACVR1|ACVR1B|ACVR2A|ADA|ADCY3|A...</td>\n",
       "    </tr>\n",
       "  </tbody>\n",
       "</table>\n",
       "</div>"
      ],
      "text/plain": [
       "        go_id                           go_name           go_domain  tax_id  \\\n",
       "0  GO:0000002  mitochondrial genome maintenance  biological_process    9606   \n",
       "1  GO:0000003                      reproduction  biological_process    9606   \n",
       "\n",
       "  annotation_type  size                                           gene_ids  \\\n",
       "0        inferred    24  142|291|1763|1890|3980|4205|4358|4976|5428|708...   \n",
       "1        inferred  1272  18|49|51|90|91|92|100|109|113|116|117|133|150|...   \n",
       "\n",
       "                                        gene_symbols  \n",
       "0  PARP1|SLC25A4|DNA2|TYMP|LIG3|MEF2A|MPV17|OPA1|...  \n",
       "1  ABAT|ACR|ACOX1|ACVR1|ACVR1B|ACVR2A|ADA|ADCY3|A...  "
      ]
     },
     "execution_count": 16,
     "metadata": {},
     "output_type": "execute_result"
    }
   ],
   "source": [
    "commit = '1e5caed07a65a230e533123f847fcc7fbc112e72'\n",
    "url = rawgit('dhimmel', 'gene-ontology', commit, 'annotations/taxid_9606/GO_annotations-9606-inferred-allev.tsv')\n",
    "go_df = pandas.read_table(url)\n",
    "go_df.head(2)"
   ]
  },
  {
   "cell_type": "code",
   "execution_count": 17,
   "metadata": {
    "collapsed": false
   },
   "outputs": [],
   "source": [
    "for i, row in go_df.iterrows():\n",
    "    genes = coding_genes & set(map(int, row.gene_ids.split('|')))\n",
    "    if 2 > len(genes) or len(genes) > 1000:\n",
    "        continue\n",
    "    kind = row['go_domain'].replace('_', ' ')\n",
    "    data = {'url': obo_iri(row.go_id), 'license': 'CC-BY 4.0'}\n",
    "    target = graph.add_node(kind=kind, identifier=row['go_id'], name=row['go_name'], data=data)\n",
    "    target_id = target.get_id()\n",
    "    for gene in genes:\n",
    "        source_id = 'gene', gene\n",
    "        data = {'unbiased': False, 'license': 'CC-BY 4.0'}\n",
    "        graph.add_edge(source_id, target_id, 'participation', 'both', data)"
   ]
  },
  {
   "cell_type": "markdown",
   "metadata": {},
   "source": [
    "## Disease-gene associations from compilation"
   ]
  },
  {
   "cell_type": "code",
   "execution_count": 18,
   "metadata": {
    "collapsed": false
   },
   "outputs": [
    {
     "data": {
      "text/html": [
       "<div>\n",
       "<table border=\"1\" class=\"dataframe\">\n",
       "  <thead>\n",
       "    <tr style=\"text-align: right;\">\n",
       "      <th></th>\n",
       "      <th>doid_id</th>\n",
       "      <th>doid_name</th>\n",
       "      <th>entrez_gene_id</th>\n",
       "      <th>gene_symbol</th>\n",
       "      <th>sources</th>\n",
       "      <th>license</th>\n",
       "    </tr>\n",
       "  </thead>\n",
       "  <tbody>\n",
       "    <tr>\n",
       "      <th>0</th>\n",
       "      <td>DOID:2531</td>\n",
       "      <td>Hematologic cancer</td>\n",
       "      <td>25</td>\n",
       "      <td>ABL1</td>\n",
       "      <td>DISEASES|DisGeNET</td>\n",
       "      <td>NaN</td>\n",
       "    </tr>\n",
       "    <tr>\n",
       "      <th>1</th>\n",
       "      <td>DOID:2531</td>\n",
       "      <td>Hematologic cancer</td>\n",
       "      <td>27</td>\n",
       "      <td>ABL2</td>\n",
       "      <td>DisGeNET</td>\n",
       "      <td>ODbL 1.0</td>\n",
       "    </tr>\n",
       "  </tbody>\n",
       "</table>\n",
       "</div>"
      ],
      "text/plain": [
       "     doid_id           doid_name  entrez_gene_id gene_symbol  \\\n",
       "0  DOID:2531  Hematologic cancer              25        ABL1   \n",
       "1  DOID:2531  Hematologic cancer              27        ABL2   \n",
       "\n",
       "             sources   license  \n",
       "0  DISEASES|DisGeNET       NaN  \n",
       "1           DisGeNET  ODbL 1.0  "
      ]
     },
     "execution_count": 18,
     "metadata": {},
     "output_type": "execute_result"
    }
   ],
   "source": [
    "association_df = pandas.read_table('compile/DaG-association.tsv')\n",
    "association_df.head(2)"
   ]
  },
  {
   "cell_type": "code",
   "execution_count": 19,
   "metadata": {
    "collapsed": true
   },
   "outputs": [],
   "source": [
    "for i, row in association_df.iterrows():\n",
    "    source_id = 'disease', row.doid_id\n",
    "    target_id = 'gene', row.entrez_gene_id\n",
    "    sources = sorted(row.sources.split('|'))\n",
    "    data = {'sources': sources, 'unbiased': 'GWAS Catalog' in sources}\n",
    "    if pandas.notnull(row['license']):\n",
    "        data['license'] = row['license']\n",
    "    graph.add_edge(source_id, target_id, 'association', 'both', data)"
   ]
  },
  {
   "cell_type": "markdown",
   "metadata": {},
   "source": [
    "## Disease-gene differential expression"
   ]
  },
  {
   "cell_type": "code",
   "execution_count": 20,
   "metadata": {
    "collapsed": false
   },
   "outputs": [
    {
     "data": {
      "text/html": [
       "<div>\n",
       "<table border=\"1\" class=\"dataframe\">\n",
       "  <thead>\n",
       "    <tr style=\"text-align: right;\">\n",
       "      <th></th>\n",
       "      <th>slim_id</th>\n",
       "      <th>slim_name</th>\n",
       "      <th>entrez_gene_id</th>\n",
       "      <th>Gene</th>\n",
       "      <th>direction</th>\n",
       "    </tr>\n",
       "  </thead>\n",
       "  <tbody>\n",
       "    <tr>\n",
       "      <th>0</th>\n",
       "      <td>DOID:1324</td>\n",
       "      <td>lung cancer</td>\n",
       "      <td>10970</td>\n",
       "      <td>CKAP4</td>\n",
       "      <td>up</td>\n",
       "    </tr>\n",
       "    <tr>\n",
       "      <th>1</th>\n",
       "      <td>DOID:1324</td>\n",
       "      <td>lung cancer</td>\n",
       "      <td>10978</td>\n",
       "      <td>CLP1</td>\n",
       "      <td>up</td>\n",
       "    </tr>\n",
       "  </tbody>\n",
       "</table>\n",
       "</div>"
      ],
      "text/plain": [
       "     slim_id    slim_name  entrez_gene_id   Gene direction\n",
       "0  DOID:1324  lung cancer           10970  CKAP4        up\n",
       "1  DOID:1324  lung cancer           10978   CLP1        up"
      ]
     },
     "execution_count": 20,
     "metadata": {},
     "output_type": "execute_result"
    }
   ],
   "source": [
    "commit = '4169d25bbc99177d88d0cbd428ae02e886a2d2f9'\n",
    "url = rawgit('dhimmel', 'adeptus', commit, 'data/gene-sets-slim.tsv')\n",
    "adeptus_df = pandas.read_table(url)\n",
    "adeptus_df.head(2)"
   ]
  },
  {
   "cell_type": "code",
   "execution_count": 21,
   "metadata": {
    "collapsed": false
   },
   "outputs": [],
   "source": [
    "for i, row in adeptus_df.iterrows():\n",
    "    source_id = 'disease', row.slim_id\n",
    "    target_id = 'gene', row.entrez_gene_id\n",
    "    kind = row.direction + 'regulation'\n",
    "    data = {'unbiased': True}\n",
    "    graph.add_edge(source_id, target_id, kind, 'both', data)"
   ]
  },
  {
   "cell_type": "markdown",
   "metadata": {},
   "source": [
    "## Chemical similarity"
   ]
  },
  {
   "cell_type": "code",
   "execution_count": 22,
   "metadata": {
    "collapsed": false
   },
   "outputs": [
    {
     "data": {
      "text/html": [
       "<div>\n",
       "<table border=\"1\" class=\"dataframe\">\n",
       "  <thead>\n",
       "    <tr style=\"text-align: right;\">\n",
       "      <th></th>\n",
       "      <th>compound0</th>\n",
       "      <th>compound1</th>\n",
       "      <th>similarity</th>\n",
       "    </tr>\n",
       "  </thead>\n",
       "  <tbody>\n",
       "    <tr>\n",
       "      <th>1557</th>\n",
       "      <td>DB01489</td>\n",
       "      <td>DB00683</td>\n",
       "      <td>0.5362</td>\n",
       "    </tr>\n",
       "    <tr>\n",
       "      <th>1571</th>\n",
       "      <td>DB01489</td>\n",
       "      <td>DB01567</td>\n",
       "      <td>0.6260</td>\n",
       "    </tr>\n",
       "  </tbody>\n",
       "</table>\n",
       "</div>"
      ],
      "text/plain": [
       "     compound0 compound1  similarity\n",
       "1557   DB01489   DB00683      0.5362\n",
       "1571   DB01489   DB01567      0.6260"
      ]
     },
     "execution_count": 22,
     "metadata": {},
     "output_type": "execute_result"
    }
   ],
   "source": [
    "commit = '3e87872db5fca5ac427ce27464ab945c0ceb4ec6'\n",
    "url = rawgit('dhimmel', 'drugbank', commit, 'data/similarity-slim.tsv.gz')\n",
    "chemical_df = pandas.read_table(open_gz_url(url))\n",
    "chemical_df = chemical_df[chemical_df.similarity >= 0.5]\n",
    "chemical_df.head(2)"
   ]
  },
  {
   "cell_type": "code",
   "execution_count": 23,
   "metadata": {
    "collapsed": false
   },
   "outputs": [],
   "source": [
    "for i, row in chemical_df.iterrows():\n",
    "    source_id = 'compound', row.compound0\n",
    "    target_id = 'compound', row.compound1\n",
    "    data = {'similarity': row.similarity, 'unbiased': True, 'license': 'CC0 1.0'}\n",
    "    graph.add_edge(source_id, target_id, 'similarity', 'both', data)"
   ]
  },
  {
   "cell_type": "markdown",
   "metadata": {},
   "source": [
    "## Symptom edges"
   ]
  },
  {
   "cell_type": "code",
   "execution_count": 24,
   "metadata": {
    "collapsed": false
   },
   "outputs": [
    {
     "data": {
      "text/html": [
       "<div>\n",
       "<table border=\"1\" class=\"dataframe\">\n",
       "  <thead>\n",
       "    <tr style=\"text-align: right;\">\n",
       "      <th></th>\n",
       "      <th>doid_code</th>\n",
       "      <th>doid_name</th>\n",
       "      <th>mesh_id</th>\n",
       "      <th>mesh_name</th>\n",
       "      <th>cooccurrence</th>\n",
       "      <th>expected</th>\n",
       "      <th>enrichment</th>\n",
       "      <th>odds_ratio</th>\n",
       "      <th>p_fisher</th>\n",
       "    </tr>\n",
       "  </thead>\n",
       "  <tbody>\n",
       "    <tr>\n",
       "      <th>0</th>\n",
       "      <td>DOID:10652</td>\n",
       "      <td>Alzheimer's disease</td>\n",
       "      <td>D004314</td>\n",
       "      <td>Down Syndrome</td>\n",
       "      <td>800</td>\n",
       "      <td>35.619601</td>\n",
       "      <td>22.459544</td>\n",
       "      <td>39.918352</td>\n",
       "      <td>0</td>\n",
       "    </tr>\n",
       "    <tr>\n",
       "      <th>1</th>\n",
       "      <td>DOID:10652</td>\n",
       "      <td>Alzheimer's disease</td>\n",
       "      <td>D008569</td>\n",
       "      <td>Memory Disorders</td>\n",
       "      <td>1593</td>\n",
       "      <td>76.580532</td>\n",
       "      <td>20.801631</td>\n",
       "      <td>41.885877</td>\n",
       "      <td>0</td>\n",
       "    </tr>\n",
       "  </tbody>\n",
       "</table>\n",
       "</div>"
      ],
      "text/plain": [
       "    doid_code            doid_name  mesh_id         mesh_name  cooccurrence  \\\n",
       "0  DOID:10652  Alzheimer's disease  D004314     Down Syndrome           800   \n",
       "1  DOID:10652  Alzheimer's disease  D008569  Memory Disorders          1593   \n",
       "\n",
       "    expected  enrichment  odds_ratio  p_fisher  \n",
       "0  35.619601   22.459544   39.918352         0  \n",
       "1  76.580532   20.801631   41.885877         0  "
      ]
     },
     "execution_count": 24,
     "metadata": {},
     "output_type": "execute_result"
    }
   ],
   "source": [
    "commit = '60d611892bf387b5b23c5f2e2e3bc472cfce85f3'\n",
    "url = rawgit('dhimmel', 'medline', commit, 'data/disease-symptom-cooccurrence.tsv')\n",
    "disease_symptom_df = pandas.read_table(url)\n",
    "disease_symptom_df = disease_symptom_df[disease_symptom_df.p_fisher < 0.005]\n",
    "disease_symptom_df.head(2)"
   ]
  },
  {
   "cell_type": "code",
   "execution_count": 25,
   "metadata": {
    "collapsed": false
   },
   "outputs": [],
   "source": [
    "for i, row in disease_symptom_df.iterrows():\n",
    "    source_id = 'disease', row.doid_code\n",
    "    target_id = 'symptom', row.mesh_id\n",
    "    data = {'unbiased': False, 'license': 'CC0 1.0'}\n",
    "    graph.add_edge(source_id, target_id, 'presence', 'both', data)"
   ]
  },
  {
   "cell_type": "markdown",
   "metadata": {},
   "source": [
    "## Disease-localization edges"
   ]
  },
  {
   "cell_type": "code",
   "execution_count": 26,
   "metadata": {
    "collapsed": false
   },
   "outputs": [],
   "source": [
    "commit = '60d611892bf387b5b23c5f2e2e3bc472cfce85f3'\n",
    "url = rawgit('dhimmel', 'medline', commit, 'data/disease-uberon-cooccurrence.tsv')\n",
    "disease_anatomy_df = pandas.read_table(url)\n",
    "disease_anatomy_df = disease_anatomy_df[disease_anatomy_df.p_fisher < 0.005]\n",
    "disease_anatomy_df = disease_anatomy_df[disease_anatomy_df.uberon_id.isin(uberon_df['uberon_id'])]"
   ]
  },
  {
   "cell_type": "code",
   "execution_count": 27,
   "metadata": {
    "collapsed": false
   },
   "outputs": [
    {
     "data": {
      "text/html": [
       "<div>\n",
       "<table border=\"1\" class=\"dataframe\">\n",
       "  <thead>\n",
       "    <tr style=\"text-align: right;\">\n",
       "      <th></th>\n",
       "      <th>doid_code</th>\n",
       "      <th>doid_name</th>\n",
       "      <th>uberon_id</th>\n",
       "      <th>uberon_name</th>\n",
       "      <th>cooccurrence</th>\n",
       "      <th>expected</th>\n",
       "      <th>enrichment</th>\n",
       "      <th>odds_ratio</th>\n",
       "      <th>p_fisher</th>\n",
       "    </tr>\n",
       "  </thead>\n",
       "  <tbody>\n",
       "    <tr>\n",
       "      <th>0</th>\n",
       "      <td>DOID:10652</td>\n",
       "      <td>Alzheimer's disease</td>\n",
       "      <td>UBERON:0000955</td>\n",
       "      <td>brain</td>\n",
       "      <td>11209</td>\n",
       "      <td>1182.634069</td>\n",
       "      <td>9.477995</td>\n",
       "      <td>74.210761</td>\n",
       "      <td>0.000000e+00</td>\n",
       "    </tr>\n",
       "    <tr>\n",
       "      <th>1</th>\n",
       "      <td>DOID:10652</td>\n",
       "      <td>Alzheimer's disease</td>\n",
       "      <td>UBERON:0001890</td>\n",
       "      <td>forebrain</td>\n",
       "      <td>114</td>\n",
       "      <td>7.326350</td>\n",
       "      <td>15.560272</td>\n",
       "      <td>21.733764</td>\n",
       "      <td>5.971023e-99</td>\n",
       "    </tr>\n",
       "  </tbody>\n",
       "</table>\n",
       "</div>"
      ],
      "text/plain": [
       "    doid_code            doid_name       uberon_id uberon_name  cooccurrence  \\\n",
       "0  DOID:10652  Alzheimer's disease  UBERON:0000955       brain         11209   \n",
       "1  DOID:10652  Alzheimer's disease  UBERON:0001890   forebrain           114   \n",
       "\n",
       "      expected  enrichment  odds_ratio      p_fisher  \n",
       "0  1182.634069    9.477995   74.210761  0.000000e+00  \n",
       "1     7.326350   15.560272   21.733764  5.971023e-99  "
      ]
     },
     "execution_count": 27,
     "metadata": {},
     "output_type": "execute_result"
    }
   ],
   "source": [
    "disease_anatomy_df.head(2)"
   ]
  },
  {
   "cell_type": "code",
   "execution_count": 28,
   "metadata": {
    "collapsed": false
   },
   "outputs": [],
   "source": [
    "for i, row in disease_anatomy_df.iterrows():\n",
    "    source_id = 'disease', row.doid_code\n",
    "    target_id = 'anatomy', row.uberon_id\n",
    "    data = {'unbiased': False, 'license': 'CC0 1.0'}\n",
    "    graph.add_edge(source_id, target_id, 'localization', 'both', data)"
   ]
  },
  {
   "cell_type": "markdown",
   "metadata": {},
   "source": [
    "## Disease-disease similarity"
   ]
  },
  {
   "cell_type": "code",
   "execution_count": 29,
   "metadata": {
    "collapsed": false
   },
   "outputs": [
    {
     "data": {
      "text/html": [
       "<div>\n",
       "<table border=\"1\" class=\"dataframe\">\n",
       "  <thead>\n",
       "    <tr style=\"text-align: right;\">\n",
       "      <th></th>\n",
       "      <th>doid_code_0</th>\n",
       "      <th>doid_name_0</th>\n",
       "      <th>doid_code_1</th>\n",
       "      <th>doid_name_1</th>\n",
       "      <th>cooccurrence</th>\n",
       "      <th>expected</th>\n",
       "      <th>enrichment</th>\n",
       "      <th>odds_ratio</th>\n",
       "      <th>p_fisher</th>\n",
       "    </tr>\n",
       "  </thead>\n",
       "  <tbody>\n",
       "    <tr>\n",
       "      <th>0</th>\n",
       "      <td>DOID:10652</td>\n",
       "      <td>Alzheimer's disease</td>\n",
       "      <td>DOID:14330</td>\n",
       "      <td>Parkinson's disease</td>\n",
       "      <td>2760</td>\n",
       "      <td>827.098152</td>\n",
       "      <td>3.336968</td>\n",
       "      <td>3.577398</td>\n",
       "      <td>0.000000e+00</td>\n",
       "    </tr>\n",
       "    <tr>\n",
       "      <th>1</th>\n",
       "      <td>DOID:10652</td>\n",
       "      <td>Alzheimer's disease</td>\n",
       "      <td>DOID:11949</td>\n",
       "      <td>Creutzfeldt-Jakob disease</td>\n",
       "      <td>332</td>\n",
       "      <td>96.723002</td>\n",
       "      <td>3.432482</td>\n",
       "      <td>3.593306</td>\n",
       "      <td>3.377672e-80</td>\n",
       "    </tr>\n",
       "  </tbody>\n",
       "</table>\n",
       "</div>"
      ],
      "text/plain": [
       "  doid_code_0          doid_name_0 doid_code_1                doid_name_1  \\\n",
       "0  DOID:10652  Alzheimer's disease  DOID:14330        Parkinson's disease   \n",
       "1  DOID:10652  Alzheimer's disease  DOID:11949  Creutzfeldt-Jakob disease   \n",
       "\n",
       "   cooccurrence    expected  enrichment  odds_ratio      p_fisher  \n",
       "0          2760  827.098152    3.336968    3.577398  0.000000e+00  \n",
       "1           332   96.723002    3.432482    3.593306  3.377672e-80  "
      ]
     },
     "execution_count": 29,
     "metadata": {},
     "output_type": "execute_result"
    }
   ],
   "source": [
    "commit = '60d611892bf387b5b23c5f2e2e3bc472cfce85f3'\n",
    "url = rawgit('dhimmel', 'medline', commit, 'data/disease-disease-cooccurrence.tsv')\n",
    "disease_similarity_df = pandas.read_table(url)\n",
    "disease_similarity_df = disease_similarity_df[-disease_similarity_df[['doid_code_0', 'doid_code_1']].apply(frozenset, 1).duplicated()]\n",
    "disease_similarity_df = disease_similarity_df[disease_similarity_df.p_fisher < 0.005]\n",
    "disease_similarity_df.head(2)"
   ]
  },
  {
   "cell_type": "code",
   "execution_count": 30,
   "metadata": {
    "collapsed": true
   },
   "outputs": [],
   "source": [
    "for i, row in disease_similarity_df.iterrows():\n",
    "    source_id = 'disease', row.doid_code_0\n",
    "    target_id = 'disease', row.doid_code_1\n",
    "    data = {'unbiased': False, 'license': 'CC0 1.0'}\n",
    "    graph.add_edge(source_id, target_id, 'similarity', 'both', data)"
   ]
  },
  {
   "cell_type": "markdown",
   "metadata": {},
   "source": [
    "## Anatomy-gene expression presence"
   ]
  },
  {
   "cell_type": "code",
   "execution_count": 31,
   "metadata": {
    "collapsed": false
   },
   "outputs": [
    {
     "data": {
      "text/html": [
       "<div>\n",
       "<table border=\"1\" class=\"dataframe\">\n",
       "  <thead>\n",
       "    <tr style=\"text-align: right;\">\n",
       "      <th></th>\n",
       "      <th>uberon_id</th>\n",
       "      <th>entrez_gene_id</th>\n",
       "      <th>sources</th>\n",
       "      <th>unbiased</th>\n",
       "      <th>license</th>\n",
       "    </tr>\n",
       "  </thead>\n",
       "  <tbody>\n",
       "    <tr>\n",
       "      <th>218662</th>\n",
       "      <td>UBERON:0000002</td>\n",
       "      <td>2</td>\n",
       "      <td>Bgee</td>\n",
       "      <td>1</td>\n",
       "      <td>NaN</td>\n",
       "    </tr>\n",
       "    <tr>\n",
       "      <th>218663</th>\n",
       "      <td>UBERON:0000002</td>\n",
       "      <td>9</td>\n",
       "      <td>Bgee</td>\n",
       "      <td>1</td>\n",
       "      <td>NaN</td>\n",
       "    </tr>\n",
       "  </tbody>\n",
       "</table>\n",
       "</div>"
      ],
      "text/plain": [
       "             uberon_id  entrez_gene_id sources  unbiased license\n",
       "218662  UBERON:0000002               2    Bgee         1     NaN\n",
       "218663  UBERON:0000002               9    Bgee         1     NaN"
      ]
     },
     "execution_count": 31,
     "metadata": {},
     "output_type": "execute_result"
    }
   ],
   "source": [
    "expr_df = pandas.read_table('compile/GeT-expression.tsv.gz', low_memory=False)\n",
    "expr_df = expr_df[expr_df.uberon_id.isin(uberon_df.uberon_id) & expr_df.entrez_gene_id.isin(coding_genes)]\n",
    "expr_df.head(2)"
   ]
  },
  {
   "cell_type": "code",
   "execution_count": 32,
   "metadata": {
    "collapsed": false
   },
   "outputs": [],
   "source": [
    "for i, row in expr_df.iterrows():\n",
    "    source_id = 'gene', row['entrez_gene_id']\n",
    "    target_id = 'anatomy', row['uberon_id']\n",
    "    data = {'unbiased': bool(row['unbiased'])}\n",
    "    if pandas.notnull(row['license']):\n",
    "        data['license'] = row['license']\n",
    "    graph.add_edge(source_id, target_id, 'expression', 'both', data)"
   ]
  },
  {
   "cell_type": "markdown",
   "metadata": {},
   "source": [
    "## Anatomy-gene differential expression"
   ]
  },
  {
   "cell_type": "code",
   "execution_count": 33,
   "metadata": {
    "collapsed": false
   },
   "outputs": [
    {
     "data": {
      "text/html": [
       "<div>\n",
       "<table border=\"1\" class=\"dataframe\">\n",
       "  <thead>\n",
       "    <tr style=\"text-align: right;\">\n",
       "      <th></th>\n",
       "      <th>GeneID</th>\n",
       "      <th>uberon_id</th>\n",
       "      <th>direction</th>\n",
       "    </tr>\n",
       "  </thead>\n",
       "  <tbody>\n",
       "    <tr>\n",
       "      <th>37241</th>\n",
       "      <td>2</td>\n",
       "      <td>UBERON:0000002</td>\n",
       "      <td>upregulation</td>\n",
       "    </tr>\n",
       "    <tr>\n",
       "      <th>37249</th>\n",
       "      <td>18</td>\n",
       "      <td>UBERON:0000002</td>\n",
       "      <td>downregulation</td>\n",
       "    </tr>\n",
       "  </tbody>\n",
       "</table>\n",
       "</div>"
      ],
      "text/plain": [
       "       GeneID       uberon_id       direction\n",
       "37241       2  UBERON:0000002    upregulation\n",
       "37249      18  UBERON:0000002  downregulation"
      ]
     },
     "execution_count": 33,
     "metadata": {},
     "output_type": "execute_result"
    }
   ],
   "source": [
    "commit = '4ceb60f91cd942199ea5453bb14f6b76df4dc158'\n",
    "url = rawgit('dhimmel', 'bgee', commit, 'data/diffex.tsv.gz')\n",
    "diffex_df = pandas.read_table(open_gz_url(url))\n",
    "diffex_df = pandas.melt(diffex_df, id_vars='GeneID', var_name='uberon_id', value_name='direction')\n",
    "diffex_df = diffex_df.query(\"direction != 0\")\n",
    "diffex_df = diffex_df[diffex_df.uberon_id.isin(uberon_df.uberon_id) & diffex_df.GeneID.isin(coding_genes)]\n",
    "diffex_df = diffex_df.replace({'direction': {-1: 'downregulation', 1: 'upregulation'}})\n",
    "diffex_df.head(2)"
   ]
  },
  {
   "cell_type": "code",
   "execution_count": 34,
   "metadata": {
    "collapsed": false
   },
   "outputs": [],
   "source": [
    "for i, row in diffex_df.iterrows():\n",
    "    source_id = 'gene', row['GeneID']\n",
    "    target_id = 'anatomy', row['uberon_id']\n",
    "    data = {'unbiased': True}\n",
    "    graph.add_edge(source_id, target_id, row['direction'], 'both', data)"
   ]
  },
  {
   "cell_type": "markdown",
   "metadata": {},
   "source": [
    "## Compound bindings"
   ]
  },
  {
   "cell_type": "code",
   "execution_count": 35,
   "metadata": {
    "collapsed": false
   },
   "outputs": [
    {
     "data": {
      "text/html": [
       "<div>\n",
       "<table border=\"1\" class=\"dataframe\">\n",
       "  <thead>\n",
       "    <tr style=\"text-align: right;\">\n",
       "      <th></th>\n",
       "      <th>drugbank_id</th>\n",
       "      <th>entrez_gene_id</th>\n",
       "      <th>sources</th>\n",
       "      <th>pubmed_ids</th>\n",
       "      <th>actions</th>\n",
       "      <th>affinity_nM</th>\n",
       "      <th>license</th>\n",
       "    </tr>\n",
       "  </thead>\n",
       "  <tbody>\n",
       "    <tr>\n",
       "      <th>0</th>\n",
       "      <td>DB00014</td>\n",
       "      <td>2798</td>\n",
       "      <td>DrugBank (target)</td>\n",
       "      <td>20053189</td>\n",
       "      <td>agonist</td>\n",
       "      <td>NaN</td>\n",
       "      <td>NaN</td>\n",
       "    </tr>\n",
       "    <tr>\n",
       "      <th>1</th>\n",
       "      <td>DB00014</td>\n",
       "      <td>3973</td>\n",
       "      <td>DrugBank (target)</td>\n",
       "      <td>17016423|17139284|20053189</td>\n",
       "      <td>agonist</td>\n",
       "      <td>NaN</td>\n",
       "      <td>NaN</td>\n",
       "    </tr>\n",
       "  </tbody>\n",
       "</table>\n",
       "</div>"
      ],
      "text/plain": [
       "  drugbank_id  entrez_gene_id            sources                  pubmed_ids  \\\n",
       "0     DB00014            2798  DrugBank (target)                    20053189   \n",
       "1     DB00014            3973  DrugBank (target)  17016423|17139284|20053189   \n",
       "\n",
       "   actions  affinity_nM license  \n",
       "0  agonist          NaN     NaN  \n",
       "1  agonist          NaN     NaN  "
      ]
     },
     "execution_count": 35,
     "metadata": {},
     "output_type": "execute_result"
    }
   ],
   "source": [
    "binding_df = pandas.read_table('compile/CbG-binding.tsv')\n",
    "binding_df = binding_df.merge(compound_df[['drugbank_id']])\n",
    "binding_df = binding_df[binding_df.entrez_gene_id.isin(coding_genes)]\n",
    "binding_df.head(2)"
   ]
  },
  {
   "cell_type": "code",
   "execution_count": 36,
   "metadata": {
    "collapsed": false
   },
   "outputs": [],
   "source": [
    "for i, row in binding_df.iterrows():\n",
    "    source_id = 'compound', row.drugbank_id\n",
    "    target_id = 'gene', row.entrez_gene_id\n",
    "    data = {'unbiased': False}\n",
    "    # singular fields\n",
    "    for key in 'affinity_nM', 'license':\n",
    "        value = row[key]\n",
    "        if pandas.notnull(value):\n",
    "            data[key] = value\n",
    "    # compound fields\n",
    "    for key in 'sources', 'pubmed_ids', 'actions':\n",
    "        value = row[key]\n",
    "        if pandas.notnull(value):\n",
    "            data[key] = value.split('|')\n",
    "    graph.add_edge(source_id, target_id, 'binding', 'both', data)"
   ]
  },
  {
   "cell_type": "markdown",
   "metadata": {},
   "source": [
    "## Protein Interactions"
   ]
  },
  {
   "cell_type": "code",
   "execution_count": 37,
   "metadata": {
    "collapsed": false
   },
   "outputs": [
    {
     "data": {
      "text/html": [
       "<div>\n",
       "<table border=\"1\" class=\"dataframe\">\n",
       "  <thead>\n",
       "    <tr style=\"text-align: right;\">\n",
       "      <th></th>\n",
       "      <th>gene_0</th>\n",
       "      <th>gene_1</th>\n",
       "      <th>sources</th>\n",
       "      <th>unbiased</th>\n",
       "    </tr>\n",
       "  </thead>\n",
       "  <tbody>\n",
       "    <tr>\n",
       "      <th>0</th>\n",
       "      <td>1</td>\n",
       "      <td>310</td>\n",
       "      <td>1</td>\n",
       "      <td>0</td>\n",
       "    </tr>\n",
       "    <tr>\n",
       "      <th>1</th>\n",
       "      <td>1</td>\n",
       "      <td>1026</td>\n",
       "      <td>1</td>\n",
       "      <td>0</td>\n",
       "    </tr>\n",
       "  </tbody>\n",
       "</table>\n",
       "</div>"
      ],
      "text/plain": [
       "   gene_0  gene_1  sources  unbiased\n",
       "0       1     310        1         0\n",
       "1       1    1026        1         0"
      ]
     },
     "execution_count": 37,
     "metadata": {},
     "output_type": "execute_result"
    }
   ],
   "source": [
    "commit = '4012fe7af1699222539844256e3639782ae72695'\n",
    "url = rawgit('dhimmel', 'ppi', commit, 'data/ppi-hetio-ind.tsv')\n",
    "ppi_df = pandas.read_table(url)\n",
    "ppi_df = ppi_df[ppi_df.gene_0.isin(coding_genes) & ppi_df.gene_1.isin(coding_genes)]\n",
    "ppi_df.head(2)"
   ]
  },
  {
   "cell_type": "code",
   "execution_count": 38,
   "metadata": {
    "collapsed": false
   },
   "outputs": [],
   "source": [
    "for i, row in ppi_df.iterrows():\n",
    "    source_id = 'gene', row.gene_0\n",
    "    target_id = 'gene', row.gene_1\n",
    "    data = {'unbiased': bool(row.unbiased)}\n",
    "    graph.add_edge(source_id, target_id, 'interaction', 'both', data)"
   ]
  },
  {
   "cell_type": "markdown",
   "metadata": {},
   "source": [
    "## Evolutionary rate covariation"
   ]
  },
  {
   "cell_type": "code",
   "execution_count": 39,
   "metadata": {
    "collapsed": false
   },
   "outputs": [
    {
     "data": {
      "text/html": [
       "<div>\n",
       "<table border=\"1\" class=\"dataframe\">\n",
       "  <thead>\n",
       "    <tr style=\"text-align: right;\">\n",
       "      <th></th>\n",
       "      <th>source_entrez</th>\n",
       "      <th>target_entrez</th>\n",
       "      <th>correlation</th>\n",
       "      <th>n_ucsc_genes</th>\n",
       "    </tr>\n",
       "  </thead>\n",
       "  <tbody>\n",
       "    <tr>\n",
       "      <th>29</th>\n",
       "      <td>9</td>\n",
       "      <td>3295</td>\n",
       "      <td>0.77623</td>\n",
       "      <td>1</td>\n",
       "    </tr>\n",
       "    <tr>\n",
       "      <th>46</th>\n",
       "      <td>9</td>\n",
       "      <td>23313</td>\n",
       "      <td>0.79472</td>\n",
       "      <td>1</td>\n",
       "    </tr>\n",
       "  </tbody>\n",
       "</table>\n",
       "</div>"
      ],
      "text/plain": [
       "    source_entrez  target_entrez  correlation  n_ucsc_genes\n",
       "29              9           3295      0.77623             1\n",
       "46              9          23313      0.79472             1"
      ]
     },
     "execution_count": 39,
     "metadata": {},
     "output_type": "execute_result"
    }
   ],
   "source": [
    "commit = '757733f77a89499439c887acb88456e011c5322e'\n",
    "url = rawgit('dhimmel', 'erc', commit, 'data/erc_mam33-entrez-gt-0.6.tsv.gz')\n",
    "erc_df = pandas.read_table(open_gz_url(url))\n",
    "erc_df = erc_df[erc_df.correlation >= 0.75]\n",
    "erc_df = erc_df[erc_df.source_entrez.isin(coding_genes) & erc_df.target_entrez.isin(coding_genes)]\n",
    "erc_df.head(2)"
   ]
  },
  {
   "cell_type": "code",
   "execution_count": 40,
   "metadata": {
    "collapsed": false
   },
   "outputs": [],
   "source": [
    "for i, row in erc_df.iterrows():\n",
    "    source_id = 'gene', row.source_entrez\n",
    "    target_id = 'gene', row.target_entrez\n",
    "    data = {'unbiased': True}\n",
    "    graph.add_edge(source_id, target_id, 'evolution', 'both', data)"
   ]
  },
  {
   "cell_type": "markdown",
   "metadata": {},
   "source": [
    "## MSigDB -- Perturbations"
   ]
  },
  {
   "cell_type": "code",
   "execution_count": 41,
   "metadata": {
    "collapsed": false
   },
   "outputs": [
    {
     "data": {
      "text/html": [
       "<div>\n",
       "<table border=\"1\" class=\"dataframe\">\n",
       "  <thead>\n",
       "    <tr style=\"text-align: right;\">\n",
       "      <th></th>\n",
       "      <th>collection</th>\n",
       "      <th>gene_set</th>\n",
       "      <th>url</th>\n",
       "      <th>genes</th>\n",
       "    </tr>\n",
       "  </thead>\n",
       "  <tbody>\n",
       "    <tr>\n",
       "      <th>0</th>\n",
       "      <td>c4.all</td>\n",
       "      <td>MORF_ATRX</td>\n",
       "      <td>http://www.broadinstitute.org/gsea/msigdb/card...</td>\n",
       "      <td>109|128|267|362|473|546|596|670|672|686|783|81...</td>\n",
       "    </tr>\n",
       "    <tr>\n",
       "      <th>1</th>\n",
       "      <td>c4.all</td>\n",
       "      <td>MORF_ATOX1</td>\n",
       "      <td>http://www.broadinstitute.org/gsea/msigdb/card...</td>\n",
       "      <td>381|475|821|1059|1173|1175|1201|1476|1781|2029...</td>\n",
       "    </tr>\n",
       "  </tbody>\n",
       "</table>\n",
       "</div>"
      ],
      "text/plain": [
       "  collection    gene_set                                                url  \\\n",
       "0     c4.all   MORF_ATRX  http://www.broadinstitute.org/gsea/msigdb/card...   \n",
       "1     c4.all  MORF_ATOX1  http://www.broadinstitute.org/gsea/msigdb/card...   \n",
       "\n",
       "                                               genes  \n",
       "0  109|128|267|362|473|546|596|670|672|686|783|81...  \n",
       "1  381|475|821|1059|1173|1175|1201|1476|1781|2029...  "
      ]
     },
     "execution_count": 41,
     "metadata": {},
     "output_type": "execute_result"
    }
   ],
   "source": [
    "commit = 'e8d73491d6b6e8860b73c641dd05d7db1b749467'\n",
    "url = rawgit('dhimmel', 'msigdb', commit, 'data/msigdb_v5.0.tsv')\n",
    "msigdb_df = pandas.read_table(url)\n",
    "msigdb_df.head(2)"
   ]
  },
  {
   "cell_type": "code",
   "execution_count": 42,
   "metadata": {
    "collapsed": false
   },
   "outputs": [],
   "source": [
    "for i, row in msigdb_df[msigdb_df.collection == 'c2.cgp'].iterrows():\n",
    "    graph.add_node('perturbation', row.gene_set, data={'url': row.url})\n",
    "    genes = [int(gene) for gene in row.genes.split('|')]\n",
    "    target_id = 'perturbation', row.gene_set\n",
    "    for gene in genes:\n",
    "        source_id = 'gene', gene\n",
    "        data = {'unbiased': False}\n",
    "        graph.add_edge(source_id, target_id, 'regulation', 'both', data)"
   ]
  },
  {
   "cell_type": "markdown",
   "metadata": {},
   "source": [
    "## Indications"
   ]
  },
  {
   "cell_type": "code",
   "execution_count": 43,
   "metadata": {
    "collapsed": false
   },
   "outputs": [
    {
     "data": {
      "text/html": [
       "<div>\n",
       "<table border=\"1\" class=\"dataframe\">\n",
       "  <thead>\n",
       "    <tr style=\"text-align: right;\">\n",
       "      <th></th>\n",
       "      <th>doid_code</th>\n",
       "      <th>drugbank_id</th>\n",
       "      <th>doid_name</th>\n",
       "      <th>drugbank_name</th>\n",
       "      <th>n_hc_resources</th>\n",
       "      <th>n_lc_resources</th>\n",
       "      <th>confidence</th>\n",
       "    </tr>\n",
       "  </thead>\n",
       "  <tbody>\n",
       "    <tr>\n",
       "      <th>0</th>\n",
       "      <td>DOID:0050156</td>\n",
       "      <td>DB00860</td>\n",
       "      <td>idiopathic pulmonary fibrosis</td>\n",
       "      <td>Prednisolone</td>\n",
       "      <td>1</td>\n",
       "      <td>1</td>\n",
       "      <td>high</td>\n",
       "    </tr>\n",
       "    <tr>\n",
       "      <th>1</th>\n",
       "      <td>DOID:0050425</td>\n",
       "      <td>DB00190</td>\n",
       "      <td>restless legs syndrome</td>\n",
       "      <td>Carbidopa</td>\n",
       "      <td>1</td>\n",
       "      <td>0</td>\n",
       "      <td>high</td>\n",
       "    </tr>\n",
       "  </tbody>\n",
       "</table>\n",
       "</div>"
      ],
      "text/plain": [
       "      doid_code drugbank_id                      doid_name drugbank_name  \\\n",
       "0  DOID:0050156     DB00860  idiopathic pulmonary fibrosis  Prednisolone   \n",
       "1  DOID:0050425     DB00190         restless legs syndrome     Carbidopa   \n",
       "\n",
       "   n_hc_resources  n_lc_resources confidence  \n",
       "0               1               1       high  \n",
       "1               1               0       high  "
      ]
     },
     "execution_count": 43,
     "metadata": {},
     "output_type": "execute_result"
    }
   ],
   "source": [
    "commit = '7c2b17f463babafcf4ec441e720b831340b186fe'\n",
    "url = rawgit('dhimmel', 'indications', commit, 'data/indications.tsv')\n",
    "indication_df = pandas.read_table(url)\n",
    "indication_df = indication_df[indication_df.confidence == 'high']\n",
    "indication_df.head(2)"
   ]
  },
  {
   "cell_type": "code",
   "execution_count": 44,
   "metadata": {
    "collapsed": true
   },
   "outputs": [],
   "source": [
    "for i, row in indication_df.iterrows():\n",
    "    source_id = 'disease', row.doid_code\n",
    "    target_id = 'compound', row.drugbank_id\n",
    "    data = {'unbiased': False}\n",
    "    graph.add_edge(source_id, target_id, 'indication', 'both', data)"
   ]
  },
  {
   "cell_type": "markdown",
   "metadata": {},
   "source": [
    "## LINCS compound-gene expression"
   ]
  },
  {
   "cell_type": "code",
   "execution_count": 45,
   "metadata": {
    "collapsed": false
   },
   "outputs": [
    {
     "data": {
      "text/plain": [
       "4.0172036963027322"
      ]
     },
     "execution_count": 45,
     "metadata": {},
     "output_type": "execute_result"
    }
   ],
   "source": [
    "commit = '6eebb4fecc4ae3195fbbc39c8c0f1f4b22b3d79d'\n",
    "url = rawgit('dhimmel', 'lincs', commit, 'data/consensi/consensi-drugbank.tsv.gz')\n",
    "l1000_df = pandas.read_table(open_gz_url(url), index_col=0)\n",
    "l1000_df = l1000_df[l1000_df.index.isin(compound_df.drugbank_id)]\n",
    "# Bonferroni cutoff\n",
    "z_cutoff = scipy.stats.norm.ppf(1 - 0.05 / len(l1000_df) / 2)\n",
    "z_cutoff"
   ]
  },
  {
   "cell_type": "code",
   "execution_count": 46,
   "metadata": {
    "collapsed": false
   },
   "outputs": [],
   "source": [
    "for drugbank_id, row in l1000_df.iterrows():\n",
    "    upregs = row[row >= z_cutoff]\n",
    "    downregs = row[row <= -z_cutoff]\n",
    "    for kind, series in ('upregulation', upregs), ('downregulation', downregs):\n",
    "        for gene, zscore in series.items():\n",
    "            source_id = 'compound', drugbank_id\n",
    "            target_id = 'gene', int(gene)\n",
    "            data = {'z_score': zscore, 'unbiased': True}\n",
    "            graph.add_edge(source_id, target_id, kind, 'both', data)"
   ]
  },
  {
   "cell_type": "markdown",
   "metadata": {},
   "source": [
    "## LINCS knockdowns"
   ]
  },
  {
   "cell_type": "code",
   "execution_count": 47,
   "metadata": {
    "collapsed": false
   },
   "outputs": [],
   "source": [
    "url = rawgit('dhimmel', 'lincs', commit, 'data/consensi/consensi-knockdown.tsv.gz')\n",
    "l1000_kd_df = pandas.read_table(open_gz_url(url), index_col=0)\n",
    "l1000_kd_df = l1000_kd_df.groupby(symbol_to_gene_id).mean()"
   ]
  },
  {
   "cell_type": "code",
   "execution_count": 48,
   "metadata": {
    "collapsed": false
   },
   "outputs": [],
   "source": [
    "for knockdown, row in l1000_kd_df.iterrows():\n",
    "    upregs = row[row >= z_cutoff]\n",
    "    downregs = row[row <= -z_cutoff]\n",
    "    for kind, series in ('knockdown upregulation', upregs), ('knockdown downregulation', downregs):\n",
    "        for gene, zscore in series.items():\n",
    "            source_id = 'gene', int(knockdown)\n",
    "            target_id = 'gene', int(gene)\n",
    "            if source_id == target_id:\n",
    "                continue\n",
    "            data = {'z_score': zscore, 'unbiased': True}\n",
    "            graph.add_edge(source_id, target_id, kind, 'forward', data)"
   ]
  },
  {
   "cell_type": "markdown",
   "metadata": {},
   "source": [
    "## LINCS overexpressions"
   ]
  },
  {
   "cell_type": "code",
   "execution_count": 49,
   "metadata": {
    "collapsed": true
   },
   "outputs": [],
   "source": [
    "url = rawgit('dhimmel', 'lincs', commit, 'data/consensi/consensi-overexpression.tsv.gz')\n",
    "l1000_oe_df = pandas.read_table(open_gz_url(url), index_col=0)\n",
    "l1000_oe_df = l1000_oe_df.groupby(symbol_to_gene_id).mean()"
   ]
  },
  {
   "cell_type": "code",
   "execution_count": 50,
   "metadata": {
    "collapsed": true
   },
   "outputs": [],
   "source": [
    "for overexpression, row in l1000_oe_df.iterrows():\n",
    "    upregs = row[row >= z_cutoff]\n",
    "    downregs = row[row <= -z_cutoff]\n",
    "    for kind, series in ('overexpression upregulation', upregs), ('overexpression downregulation', downregs):\n",
    "        for gene, zscore in series.items():\n",
    "            source_id = 'gene', int(overexpression)\n",
    "            target_id = 'gene', int(gene)\n",
    "            if source_id == target_id:\n",
    "                continue\n",
    "            data = {'z_score': zscore, 'unbiased': True}\n",
    "            graph.add_edge(source_id, target_id, kind, 'forward', data)"
   ]
  },
  {
   "cell_type": "markdown",
   "metadata": {},
   "source": [
    "## Side Effects - SIDER"
   ]
  },
  {
   "cell_type": "code",
   "execution_count": 51,
   "metadata": {
    "collapsed": false
   },
   "outputs": [
    {
     "data": {
      "text/html": [
       "<div>\n",
       "<table border=\"1\" class=\"dataframe\">\n",
       "  <thead>\n",
       "    <tr style=\"text-align: right;\">\n",
       "      <th></th>\n",
       "      <th>umls_cui_from_meddra</th>\n",
       "      <th>side_effect_name</th>\n",
       "    </tr>\n",
       "  </thead>\n",
       "  <tbody>\n",
       "    <tr>\n",
       "      <th>0</th>\n",
       "      <td>C0001231</td>\n",
       "      <td>ACTH Syndrome, Ectopic</td>\n",
       "    </tr>\n",
       "    <tr>\n",
       "      <th>1</th>\n",
       "      <td>C0863129</td>\n",
       "      <td>AGEP</td>\n",
       "    </tr>\n",
       "  </tbody>\n",
       "</table>\n",
       "</div>"
      ],
      "text/plain": [
       "  umls_cui_from_meddra        side_effect_name\n",
       "0             C0001231  ACTH Syndrome, Ectopic\n",
       "1             C0863129                    AGEP"
      ]
     },
     "execution_count": 51,
     "metadata": {},
     "output_type": "execute_result"
    }
   ],
   "source": [
    "commit = '2acca0b065e736bc99702906024efd4718e502ee'\n",
    "url = rawgit('dhimmel', 'SIDER4', commit, 'data/side-effect-terms.tsv')\n",
    "side_effect_df = pandas.read_table(url)\n",
    "side_effect_df.head(2)"
   ]
  },
  {
   "cell_type": "code",
   "execution_count": 52,
   "metadata": {
    "collapsed": false
   },
   "outputs": [],
   "source": [
    "for i, row in side_effect_df.iterrows():\n",
    "    umls_id = row['umls_cui_from_meddra']\n",
    "    data = {'url': 'http://sideeffects.embl.de/se/{}/'.format(umls_id), 'license': 'CC-BY-NC-SA 4.0'}\n",
    "    graph.add_node(kind='side effect', identifier=umls_id, name=row['side_effect_name'])"
   ]
  },
  {
   "cell_type": "code",
   "execution_count": 53,
   "metadata": {
    "collapsed": false
   },
   "outputs": [
    {
     "data": {
      "text/html": [
       "<div>\n",
       "<table border=\"1\" class=\"dataframe\">\n",
       "  <thead>\n",
       "    <tr style=\"text-align: right;\">\n",
       "      <th></th>\n",
       "      <th>drugbank_id</th>\n",
       "      <th>drugbank_name</th>\n",
       "      <th>umls_cui_from_meddra</th>\n",
       "      <th>side_effect_name</th>\n",
       "    </tr>\n",
       "  </thead>\n",
       "  <tbody>\n",
       "    <tr>\n",
       "      <th>6415</th>\n",
       "      <td>DB01048</td>\n",
       "      <td>Abacavir</td>\n",
       "      <td>C0001849</td>\n",
       "      <td>AIDS Dementia Complex</td>\n",
       "    </tr>\n",
       "    <tr>\n",
       "      <th>6416</th>\n",
       "      <td>DB01048</td>\n",
       "      <td>Abacavir</td>\n",
       "      <td>C0000737</td>\n",
       "      <td>Abdominal Pain</td>\n",
       "    </tr>\n",
       "  </tbody>\n",
       "</table>\n",
       "</div>"
      ],
      "text/plain": [
       "     drugbank_id drugbank_name umls_cui_from_meddra       side_effect_name\n",
       "6415     DB01048      Abacavir             C0001849  AIDS Dementia Complex\n",
       "6416     DB01048      Abacavir             C0000737         Abdominal Pain"
      ]
     },
     "execution_count": 53,
     "metadata": {},
     "output_type": "execute_result"
    }
   ],
   "source": [
    "url = rawgit('dhimmel', 'SIDER4', commit, 'data/side-effects.tsv')\n",
    "sider_df = pandas.read_table(url)\n",
    "sider_df = sider_df[sider_df.drugbank_id.isin(compound_df.drugbank_id)]\n",
    "sider_df.head(2)"
   ]
  },
  {
   "cell_type": "code",
   "execution_count": 54,
   "metadata": {
    "collapsed": false
   },
   "outputs": [],
   "source": [
    "for i, row in sider_df.iterrows():\n",
    "    source_id = 'compound', row.drugbank_id\n",
    "    target_id = 'side effect', row.umls_cui_from_meddra\n",
    "    data = {'unbiased': False, 'license': 'CC-BY-NC-SA 4.0'}\n",
    "    graph.add_edge(source_id, target_id, 'causation', 'both', data)"
   ]
  },
  {
   "cell_type": "markdown",
   "metadata": {},
   "source": [
    "## Summary"
   ]
  },
  {
   "cell_type": "code",
   "execution_count": 55,
   "metadata": {
    "collapsed": false
   },
   "outputs": [
    {
     "name": "stdout",
     "output_type": "stream",
     "text": [
      "symptom 438\n",
      "disease 137\n",
      "perturbation 3395\n",
      "anatomy 402\n",
      "compound 1552\n",
      "gene 20945\n",
      "biological process 11157\n",
      "cellular component 1368\n",
      "side effect 5745\n",
      "pathway 1613\n",
      "molecular function 2865\n"
     ]
    }
   ],
   "source": [
    "metanode_to_nodes = graph.get_metanode_to_nodes()\n",
    "for metanode, nodes in metanode_to_nodes.items():\n",
    "    print(metanode, len(nodes))"
   ]
  },
  {
   "cell_type": "code",
   "execution_count": 56,
   "metadata": {
    "collapsed": false
   },
   "outputs": [
    {
     "name": "stdout",
     "output_type": "stream",
     "text": [
      "gene > overexpression downregulation > gene 14904\n",
      "gene > knockdown downregulation > gene 140140\n",
      "compound - downregulation - gene 20312\n",
      "gene - participation - pathway 77753\n",
      "disease - similarity - disease 543\n",
      "gene - expression - anatomy 1006278\n",
      "gene - evolution - gene 61690\n",
      "disease - localization - anatomy 3602\n",
      "gene - regulation - perturbation 366502\n",
      "gene - participation - cellular component 67966\n",
      "gene > knockdown upregulation > gene 78750\n",
      "disease - upregulation - gene 910\n",
      "gene - downregulation - anatomy 102240\n",
      "gene - interaction - gene 147164\n",
      "gene > overexpression upregulation > gene 15174\n",
      "disease - association - gene 12623\n",
      "compound - similarity - compound 6486\n",
      "compound - upregulation - gene 17261\n",
      "compound - indication - disease 1388\n",
      "compound - binding - gene 10747\n",
      "gene - upregulation - anatomy 97848\n",
      "disease - downregulation - gene 674\n",
      "compound - causation - side effect 139235\n",
      "gene - participation - molecular function 95960\n",
      "gene - participation - biological process 546460\n",
      "disease - presence - symptom 3357\n"
     ]
    }
   ],
   "source": [
    "metaedge_to_edges = graph.get_metaedge_to_edges(exclude_inverts=True)\n",
    "for metaedge, edges in metaedge_to_edges.items():\n",
    "    print(metaedge, len(edges))"
   ]
  },
  {
   "cell_type": "markdown",
   "metadata": {
    "collapsed": true
   },
   "source": [
    "## Save graph"
   ]
  },
  {
   "cell_type": "code",
   "execution_count": 57,
   "metadata": {
    "collapsed": false
   },
   "outputs": [],
   "source": [
    "# Write nodes to a table\n",
    "path = 'data/nodes.tsv'\n",
    "hetio.readwrite.write_nodetable(graph, path)\n",
    "\n",
    "# Write edges to a table\n",
    "path = 'data/edges.sif.gz'\n",
    "hetio.readwrite.write_sif(graph, path)"
   ]
  },
  {
   "cell_type": "code",
   "execution_count": 58,
   "metadata": {
    "collapsed": true
   },
   "outputs": [],
   "source": [
    "# Write a subset of edges to a table\n",
    "path = 'data/edges-10.sif'\n",
    "hetio.readwrite.write_sif(graph, path, max_edges=10)\n",
    "\n",
    "path = 'data/edges-5k.sif.gz'\n",
    "hetio.readwrite.write_sif(graph, path, max_edges=5000)"
   ]
  },
  {
   "cell_type": "code",
   "execution_count": 59,
   "metadata": {
    "collapsed": false
   },
   "outputs": [],
   "source": [
    "# Write metagraph as json\n",
    "path = 'data/metagraph.json'\n",
    "hetio.readwrite.write_metagraph(metagraph, path)\n",
    "\n",
    "# Write graph as json\n",
    "path = 'data/hetnet.json.gz'\n",
    "hetio.readwrite.write_graph(graph, path)"
   ]
  },
  {
   "cell_type": "code",
   "execution_count": 60,
   "metadata": {
    "collapsed": false
   },
   "outputs": [
    {
     "name": "stdout",
     "output_type": "stream",
     "text": [
      "96aebabd106d1309466be5cab6757c242f4e4b667a9afd9c5349a4faf4f72c1b  data/hetnet.json.gz\r\n"
     ]
    }
   ],
   "source": [
    "! sha256sum data/hetnet.json.gz"
   ]
  },
  {
   "cell_type": "markdown",
   "metadata": {},
   "source": [
    "# Network visualizations and stats"
   ]
  },
  {
   "cell_type": "code",
   "execution_count": 61,
   "metadata": {
    "collapsed": false
   },
   "outputs": [],
   "source": [
    "# import imp\n",
    "# imp.reload(hetio.hetnet)\n",
    "# imp.reload(hetio.stats)"
   ]
  },
  {
   "cell_type": "code",
   "execution_count": 62,
   "metadata": {
    "collapsed": false
   },
   "outputs": [
    {
     "name": "stderr",
     "output_type": "stream",
     "text": [
      "/home/dhimmels/Documents/github/hetio/hetio/stats.py:18: FutureWarning: sort(columns=....) is deprecated, use sort_values(by=.....)\n",
      "  return df.sort(['node_name', 'metaedge'])\n",
      "/home/dhimmels/anaconda3/envs/py35/lib/python3.5/site-packages/matplotlib/__init__.py:892: UserWarning: axes.color_cycle is deprecated and replaced with axes.prop_cycle; please use the latter.\n",
      "  warnings.warn(self.msg_depr % (key, alt_key))\n"
     ]
    },
    {
     "ename": "ValueError",
     "evalue": "operands could not be broadcast together with shapes (11,) (12,) (11,) ",
     "output_type": "error",
     "traceback": [
      "\u001b[1;31m---------------------------------------------------------------------------\u001b[0m",
      "\u001b[1;31mValueError\u001b[0m                                Traceback (most recent call last)",
      "\u001b[1;32m<ipython-input-62-751bc6cb7cec>\u001b[0m in \u001b[0;36m<module>\u001b[1;34m()\u001b[0m\n\u001b[0;32m      1\u001b[0m \u001b[1;31m# Create and save degree distribution vizualizations\u001b[0m\u001b[1;33m\u001b[0m\u001b[1;33m\u001b[0m\u001b[0m\n\u001b[1;32m----> 2\u001b[1;33m \u001b[0mhetio\u001b[0m\u001b[1;33m.\u001b[0m\u001b[0mstats\u001b[0m\u001b[1;33m.\u001b[0m\u001b[0mplot_degrees\u001b[0m\u001b[1;33m(\u001b[0m\u001b[0mgraph\u001b[0m\u001b[1;33m,\u001b[0m \u001b[1;34m'viz/degrees.pdf'\u001b[0m\u001b[1;33m)\u001b[0m\u001b[1;33m\u001b[0m\u001b[0m\n\u001b[0m",
      "\u001b[1;32m/home/dhimmels/Documents/github/hetio/hetio/stats.py\u001b[0m in \u001b[0;36mplot_degrees\u001b[1;34m(graph, path)\u001b[0m\n\u001b[0;32m     40\u001b[0m     \u001b[0mpdf_pages\u001b[0m \u001b[1;33m=\u001b[0m \u001b[0mmatplotlib\u001b[0m\u001b[1;33m.\u001b[0m\u001b[0mbackends\u001b[0m\u001b[1;33m.\u001b[0m\u001b[0mbackend_pdf\u001b[0m\u001b[1;33m.\u001b[0m\u001b[0mPdfPages\u001b[0m\u001b[1;33m(\u001b[0m\u001b[0mpath\u001b[0m\u001b[1;33m)\u001b[0m\u001b[1;33m\u001b[0m\u001b[0m\n\u001b[0;32m     41\u001b[0m     \u001b[1;32mfor\u001b[0m \u001b[0mmetanode\u001b[0m \u001b[1;32min\u001b[0m \u001b[0mgraph\u001b[0m\u001b[1;33m.\u001b[0m\u001b[0mmetagraph\u001b[0m\u001b[1;33m.\u001b[0m\u001b[0mget_nodes\u001b[0m\u001b[1;33m(\u001b[0m\u001b[1;33m)\u001b[0m\u001b[1;33m:\u001b[0m\u001b[1;33m\u001b[0m\u001b[0m\n\u001b[1;32m---> 42\u001b[1;33m         \u001b[0mgrid\u001b[0m \u001b[1;33m=\u001b[0m \u001b[0mplot_degrees_for_metanode\u001b[0m\u001b[1;33m(\u001b[0m\u001b[0mgraph\u001b[0m\u001b[1;33m,\u001b[0m \u001b[0mmetanode\u001b[0m\u001b[1;33m)\u001b[0m\u001b[1;33m\u001b[0m\u001b[0m\n\u001b[0m\u001b[0;32m     43\u001b[0m         \u001b[0mgrid\u001b[0m\u001b[1;33m.\u001b[0m\u001b[0msavefig\u001b[0m\u001b[1;33m(\u001b[0m\u001b[0mpdf_pages\u001b[0m\u001b[1;33m,\u001b[0m \u001b[0mformat\u001b[0m\u001b[1;33m=\u001b[0m\u001b[1;34m'pdf'\u001b[0m\u001b[1;33m)\u001b[0m\u001b[1;33m\u001b[0m\u001b[0m\n\u001b[0;32m     44\u001b[0m     \u001b[0mpdf_pages\u001b[0m\u001b[1;33m.\u001b[0m\u001b[0mclose\u001b[0m\u001b[1;33m(\u001b[0m\u001b[1;33m)\u001b[0m\u001b[1;33m\u001b[0m\u001b[0m\n",
      "\u001b[1;32m/home/dhimmels/Documents/github/hetio/hetio/stats.py\u001b[0m in \u001b[0;36mplot_degrees_for_metanode\u001b[1;34m(graph, metanode, col_wrap, facet_height)\u001b[0m\n\u001b[0;32m     26\u001b[0m     \u001b[0mdegree_df\u001b[0m \u001b[1;33m=\u001b[0m \u001b[0mget_degrees_for_metanode\u001b[0m\u001b[1;33m(\u001b[0m\u001b[0mgraph\u001b[0m\u001b[1;33m,\u001b[0m \u001b[0mmetanode\u001b[0m\u001b[1;33m)\u001b[0m\u001b[1;33m\u001b[0m\u001b[0m\n\u001b[0;32m     27\u001b[0m     \u001b[0mgrid\u001b[0m \u001b[1;33m=\u001b[0m \u001b[0mseaborn\u001b[0m\u001b[1;33m.\u001b[0m\u001b[0mFacetGrid\u001b[0m\u001b[1;33m(\u001b[0m\u001b[0mdegree_df\u001b[0m\u001b[1;33m,\u001b[0m \u001b[0mcol\u001b[0m\u001b[1;33m=\u001b[0m\u001b[1;34m'metaedge'\u001b[0m\u001b[1;33m,\u001b[0m \u001b[0msharex\u001b[0m\u001b[1;33m=\u001b[0m\u001b[1;32mFalse\u001b[0m\u001b[1;33m,\u001b[0m \u001b[0msharey\u001b[0m\u001b[1;33m=\u001b[0m\u001b[1;32mFalse\u001b[0m\u001b[1;33m,\u001b[0m \u001b[0mcol_wrap\u001b[0m\u001b[1;33m=\u001b[0m\u001b[0mcol_wrap\u001b[0m\u001b[1;33m,\u001b[0m \u001b[0msize\u001b[0m\u001b[1;33m=\u001b[0m\u001b[0mfacet_height\u001b[0m\u001b[1;33m)\u001b[0m\u001b[1;33m\u001b[0m\u001b[0m\n\u001b[1;32m---> 28\u001b[1;33m     \u001b[0mgrid\u001b[0m\u001b[1;33m.\u001b[0m\u001b[0mmap\u001b[0m\u001b[1;33m(\u001b[0m\u001b[0mseaborn\u001b[0m\u001b[1;33m.\u001b[0m\u001b[0mdistplot\u001b[0m\u001b[1;33m,\u001b[0m \u001b[1;34m'degree'\u001b[0m\u001b[1;33m,\u001b[0m \u001b[0mkde\u001b[0m\u001b[1;33m=\u001b[0m\u001b[1;32mFalse\u001b[0m\u001b[1;33m)\u001b[0m\u001b[1;33m\u001b[0m\u001b[0m\n\u001b[0m\u001b[0;32m     29\u001b[0m     \u001b[0mgrid\u001b[0m\u001b[1;33m.\u001b[0m\u001b[0mset_titles\u001b[0m\u001b[1;33m(\u001b[0m\u001b[1;34m'{col_name}'\u001b[0m\u001b[1;33m)\u001b[0m\u001b[1;33m\u001b[0m\u001b[0m\n\u001b[0;32m     30\u001b[0m     \u001b[1;32mreturn\u001b[0m \u001b[0mgrid\u001b[0m\u001b[1;33m\u001b[0m\u001b[0m\n",
      "\u001b[1;32m/home/dhimmels/anaconda3/envs/py35/lib/python3.5/site-packages/seaborn/axisgrid.py\u001b[0m in \u001b[0;36mmap\u001b[1;34m(self, func, *args, **kwargs)\u001b[0m\n\u001b[0;32m    724\u001b[0m \u001b[1;33m\u001b[0m\u001b[0m\n\u001b[0;32m    725\u001b[0m             \u001b[1;31m# Draw the plot\u001b[0m\u001b[1;33m\u001b[0m\u001b[1;33m\u001b[0m\u001b[0m\n\u001b[1;32m--> 726\u001b[1;33m             \u001b[0mself\u001b[0m\u001b[1;33m.\u001b[0m\u001b[0m_facet_plot\u001b[0m\u001b[1;33m(\u001b[0m\u001b[0mfunc\u001b[0m\u001b[1;33m,\u001b[0m \u001b[0max\u001b[0m\u001b[1;33m,\u001b[0m \u001b[0mplot_args\u001b[0m\u001b[1;33m,\u001b[0m \u001b[0mkwargs\u001b[0m\u001b[1;33m)\u001b[0m\u001b[1;33m\u001b[0m\u001b[0m\n\u001b[0m\u001b[0;32m    727\u001b[0m \u001b[1;33m\u001b[0m\u001b[0m\n\u001b[0;32m    728\u001b[0m         \u001b[1;31m# Finalize the annotations and layout\u001b[0m\u001b[1;33m\u001b[0m\u001b[1;33m\u001b[0m\u001b[0m\n",
      "\u001b[1;32m/home/dhimmels/anaconda3/envs/py35/lib/python3.5/site-packages/seaborn/axisgrid.py\u001b[0m in \u001b[0;36m_facet_plot\u001b[1;34m(self, func, ax, plot_args, plot_kwargs)\u001b[0m\n\u001b[0;32m    808\u001b[0m \u001b[1;33m\u001b[0m\u001b[0m\n\u001b[0;32m    809\u001b[0m         \u001b[1;31m# Draw the plot\u001b[0m\u001b[1;33m\u001b[0m\u001b[1;33m\u001b[0m\u001b[0m\n\u001b[1;32m--> 810\u001b[1;33m         \u001b[0mfunc\u001b[0m\u001b[1;33m(\u001b[0m\u001b[1;33m*\u001b[0m\u001b[0mplot_args\u001b[0m\u001b[1;33m,\u001b[0m \u001b[1;33m**\u001b[0m\u001b[0mplot_kwargs\u001b[0m\u001b[1;33m)\u001b[0m\u001b[1;33m\u001b[0m\u001b[0m\n\u001b[0m\u001b[0;32m    811\u001b[0m \u001b[1;33m\u001b[0m\u001b[0m\n\u001b[0;32m    812\u001b[0m         \u001b[1;31m# Sort out the supporting information\u001b[0m\u001b[1;33m\u001b[0m\u001b[1;33m\u001b[0m\u001b[0m\n",
      "\u001b[1;32m/home/dhimmels/anaconda3/envs/py35/lib/python3.5/site-packages/seaborn/distributions.py\u001b[0m in \u001b[0;36mdistplot\u001b[1;34m(a, bins, hist, kde, rug, fit, hist_kws, kde_kws, rug_kws, fit_kws, color, vertical, norm_hist, axlabel, label, ax)\u001b[0m\n\u001b[0;32m    210\u001b[0m         \u001b[0mhist_color\u001b[0m \u001b[1;33m=\u001b[0m \u001b[0mhist_kws\u001b[0m\u001b[1;33m.\u001b[0m\u001b[0mpop\u001b[0m\u001b[1;33m(\u001b[0m\u001b[1;34m\"color\"\u001b[0m\u001b[1;33m,\u001b[0m \u001b[0mcolor\u001b[0m\u001b[1;33m)\u001b[0m\u001b[1;33m\u001b[0m\u001b[0m\n\u001b[0;32m    211\u001b[0m         ax.hist(a, bins, orientation=orientation,\n\u001b[1;32m--> 212\u001b[1;33m                 color=hist_color, **hist_kws)\n\u001b[0m\u001b[0;32m    213\u001b[0m         \u001b[1;32mif\u001b[0m \u001b[0mhist_color\u001b[0m \u001b[1;33m!=\u001b[0m \u001b[0mcolor\u001b[0m\u001b[1;33m:\u001b[0m\u001b[1;33m\u001b[0m\u001b[0m\n\u001b[0;32m    214\u001b[0m             \u001b[0mhist_kws\u001b[0m\u001b[1;33m[\u001b[0m\u001b[1;34m\"color\"\u001b[0m\u001b[1;33m]\u001b[0m \u001b[1;33m=\u001b[0m \u001b[0mhist_color\u001b[0m\u001b[1;33m\u001b[0m\u001b[0m\n",
      "\u001b[1;32m/home/dhimmels/anaconda3/envs/py35/lib/python3.5/site-packages/matplotlib/__init__.py\u001b[0m in \u001b[0;36minner\u001b[1;34m(ax, *args, **kwargs)\u001b[0m\n\u001b[0;32m   1809\u001b[0m                     warnings.warn(msg % (label_namer, func.__name__),\n\u001b[0;32m   1810\u001b[0m                                   RuntimeWarning, stacklevel=2)\n\u001b[1;32m-> 1811\u001b[1;33m             \u001b[1;32mreturn\u001b[0m \u001b[0mfunc\u001b[0m\u001b[1;33m(\u001b[0m\u001b[0max\u001b[0m\u001b[1;33m,\u001b[0m \u001b[1;33m*\u001b[0m\u001b[0margs\u001b[0m\u001b[1;33m,\u001b[0m \u001b[1;33m**\u001b[0m\u001b[0mkwargs\u001b[0m\u001b[1;33m)\u001b[0m\u001b[1;33m\u001b[0m\u001b[0m\n\u001b[0m\u001b[0;32m   1812\u001b[0m         \u001b[0mpre_doc\u001b[0m \u001b[1;33m=\u001b[0m \u001b[0minner\u001b[0m\u001b[1;33m.\u001b[0m\u001b[0m__doc__\u001b[0m\u001b[1;33m\u001b[0m\u001b[0m\n\u001b[0;32m   1813\u001b[0m         \u001b[1;32mif\u001b[0m \u001b[0mpre_doc\u001b[0m \u001b[1;32mis\u001b[0m \u001b[1;32mNone\u001b[0m\u001b[1;33m:\u001b[0m\u001b[1;33m\u001b[0m\u001b[0m\n",
      "\u001b[1;32m/home/dhimmels/anaconda3/envs/py35/lib/python3.5/site-packages/matplotlib/axes/_axes.py\u001b[0m in \u001b[0;36mhist\u001b[1;34m(self, x, bins, range, normed, weights, cumulative, bottom, histtype, align, orientation, rwidth, log, color, label, stacked, **kwargs)\u001b[0m\n\u001b[0;32m   5993\u001b[0m             \u001b[1;31m# this will automatically overwrite bins,\u001b[0m\u001b[1;33m\u001b[0m\u001b[1;33m\u001b[0m\u001b[0m\n\u001b[0;32m   5994\u001b[0m             \u001b[1;31m# so that each histogram uses the same bins\u001b[0m\u001b[1;33m\u001b[0m\u001b[1;33m\u001b[0m\u001b[0m\n\u001b[1;32m-> 5995\u001b[1;33m             \u001b[0mm\u001b[0m\u001b[1;33m,\u001b[0m \u001b[0mbins\u001b[0m \u001b[1;33m=\u001b[0m \u001b[0mnp\u001b[0m\u001b[1;33m.\u001b[0m\u001b[0mhistogram\u001b[0m\u001b[1;33m(\u001b[0m\u001b[0mx\u001b[0m\u001b[1;33m[\u001b[0m\u001b[0mi\u001b[0m\u001b[1;33m]\u001b[0m\u001b[1;33m,\u001b[0m \u001b[0mbins\u001b[0m\u001b[1;33m,\u001b[0m \u001b[0mweights\u001b[0m\u001b[1;33m=\u001b[0m\u001b[0mw\u001b[0m\u001b[1;33m[\u001b[0m\u001b[0mi\u001b[0m\u001b[1;33m]\u001b[0m\u001b[1;33m,\u001b[0m \u001b[1;33m**\u001b[0m\u001b[0mhist_kwargs\u001b[0m\u001b[1;33m)\u001b[0m\u001b[1;33m\u001b[0m\u001b[0m\n\u001b[0m\u001b[0;32m   5996\u001b[0m             \u001b[0mm\u001b[0m \u001b[1;33m=\u001b[0m \u001b[0mm\u001b[0m\u001b[1;33m.\u001b[0m\u001b[0mastype\u001b[0m\u001b[1;33m(\u001b[0m\u001b[0mfloat\u001b[0m\u001b[1;33m)\u001b[0m  \u001b[1;31m# causes problems later if it's an int\u001b[0m\u001b[1;33m\u001b[0m\u001b[0m\n\u001b[0;32m   5997\u001b[0m             \u001b[1;32mif\u001b[0m \u001b[0mmlast\u001b[0m \u001b[1;32mis\u001b[0m \u001b[1;32mNone\u001b[0m\u001b[1;33m:\u001b[0m\u001b[1;33m\u001b[0m\u001b[0m\n",
      "\u001b[1;32m/home/dhimmels/anaconda3/envs/py35/lib/python3.5/site-packages/numpy/lib/function_base.py\u001b[0m in \u001b[0;36mhistogram\u001b[1;34m(a, bins, range, normed, weights, density)\u001b[0m\n\u001b[0;32m    247\u001b[0m                 \u001b[0mn\u001b[0m\u001b[1;33m.\u001b[0m\u001b[0mimag\u001b[0m \u001b[1;33m+=\u001b[0m \u001b[0mnp\u001b[0m\u001b[1;33m.\u001b[0m\u001b[0mbincount\u001b[0m\u001b[1;33m(\u001b[0m\u001b[0mindices\u001b[0m\u001b[1;33m,\u001b[0m \u001b[0mweights\u001b[0m\u001b[1;33m=\u001b[0m\u001b[0mtmp_w\u001b[0m\u001b[1;33m.\u001b[0m\u001b[0mimag\u001b[0m\u001b[1;33m,\u001b[0m \u001b[0mminlength\u001b[0m\u001b[1;33m=\u001b[0m\u001b[0mbins\u001b[0m\u001b[1;33m)\u001b[0m\u001b[1;33m\u001b[0m\u001b[0m\n\u001b[0;32m    248\u001b[0m             \u001b[1;32melse\u001b[0m\u001b[1;33m:\u001b[0m\u001b[1;33m\u001b[0m\u001b[0m\n\u001b[1;32m--> 249\u001b[1;33m                 \u001b[0mn\u001b[0m \u001b[1;33m+=\u001b[0m \u001b[0mnp\u001b[0m\u001b[1;33m.\u001b[0m\u001b[0mbincount\u001b[0m\u001b[1;33m(\u001b[0m\u001b[0mindices\u001b[0m\u001b[1;33m,\u001b[0m \u001b[0mweights\u001b[0m\u001b[1;33m=\u001b[0m\u001b[0mtmp_w\u001b[0m\u001b[1;33m,\u001b[0m \u001b[0mminlength\u001b[0m\u001b[1;33m=\u001b[0m\u001b[0mbins\u001b[0m\u001b[1;33m)\u001b[0m\u001b[1;33m.\u001b[0m\u001b[0mastype\u001b[0m\u001b[1;33m(\u001b[0m\u001b[0mntype\u001b[0m\u001b[1;33m)\u001b[0m\u001b[1;33m\u001b[0m\u001b[0m\n\u001b[0m\u001b[0;32m    250\u001b[0m \u001b[1;33m\u001b[0m\u001b[0m\n\u001b[0;32m    251\u001b[0m         \u001b[1;31m# We now compute the bin edges since these are returned\u001b[0m\u001b[1;33m\u001b[0m\u001b[1;33m\u001b[0m\u001b[0m\n",
      "\u001b[1;31mValueError\u001b[0m: operands could not be broadcast together with shapes (11,) (12,) (11,) "
     ]
    }
   ],
   "source": [
    "# Create and save degree distribution vizualizations\n",
    "hetio.stats.plot_degrees(graph, 'viz/degrees.pdf')"
   ]
  },
  {
   "cell_type": "code",
   "execution_count": 63,
   "metadata": {
    "collapsed": false
   },
   "outputs": [
    {
     "name": "stderr",
     "output_type": "stream",
     "text": [
      "/home/dhimmels/Documents/github/hetio/hetio/stats.py:60: FutureWarning: sort(columns=....) is deprecated, use sort_values(by=.....)\n",
      "  return pandas.DataFrame(rows).sort('metanode')\n"
     ]
    },
    {
     "data": {
      "text/html": [
       "<div>\n",
       "<table border=\"1\" class=\"dataframe\">\n",
       "  <thead>\n",
       "    <tr style=\"text-align: right;\">\n",
       "      <th></th>\n",
       "      <th>metanode</th>\n",
       "      <th>abbreviation</th>\n",
       "      <th>metaedges</th>\n",
       "      <th>nodes</th>\n",
       "      <th>unconnected_nodes</th>\n",
       "    </tr>\n",
       "  </thead>\n",
       "  <tbody>\n",
       "    <tr>\n",
       "      <th>3</th>\n",
       "      <td>anatomy</td>\n",
       "      <td>A</td>\n",
       "      <td>4</td>\n",
       "      <td>402</td>\n",
       "      <td>2</td>\n",
       "    </tr>\n",
       "    <tr>\n",
       "      <th>6</th>\n",
       "      <td>biological process</td>\n",
       "      <td>BP</td>\n",
       "      <td>1</td>\n",
       "      <td>11157</td>\n",
       "      <td>0</td>\n",
       "    </tr>\n",
       "    <tr>\n",
       "      <th>7</th>\n",
       "      <td>cellular component</td>\n",
       "      <td>CC</td>\n",
       "      <td>1</td>\n",
       "      <td>1368</td>\n",
       "      <td>0</td>\n",
       "    </tr>\n",
       "    <tr>\n",
       "      <th>4</th>\n",
       "      <td>compound</td>\n",
       "      <td>C</td>\n",
       "      <td>6</td>\n",
       "      <td>1552</td>\n",
       "      <td>18</td>\n",
       "    </tr>\n",
       "    <tr>\n",
       "      <th>1</th>\n",
       "      <td>disease</td>\n",
       "      <td>D</td>\n",
       "      <td>7</td>\n",
       "      <td>137</td>\n",
       "      <td>1</td>\n",
       "    </tr>\n",
       "    <tr>\n",
       "      <th>5</th>\n",
       "      <td>gene</td>\n",
       "      <td>G</td>\n",
       "      <td>20</td>\n",
       "      <td>20945</td>\n",
       "      <td>1724</td>\n",
       "    </tr>\n",
       "    <tr>\n",
       "      <th>10</th>\n",
       "      <td>molecular function</td>\n",
       "      <td>MF</td>\n",
       "      <td>1</td>\n",
       "      <td>2865</td>\n",
       "      <td>0</td>\n",
       "    </tr>\n",
       "    <tr>\n",
       "      <th>9</th>\n",
       "      <td>pathway</td>\n",
       "      <td>PW</td>\n",
       "      <td>1</td>\n",
       "      <td>1613</td>\n",
       "      <td>0</td>\n",
       "    </tr>\n",
       "    <tr>\n",
       "      <th>2</th>\n",
       "      <td>perturbation</td>\n",
       "      <td>PB</td>\n",
       "      <td>1</td>\n",
       "      <td>3395</td>\n",
       "      <td>0</td>\n",
       "    </tr>\n",
       "    <tr>\n",
       "      <th>8</th>\n",
       "      <td>side effect</td>\n",
       "      <td>SE</td>\n",
       "      <td>1</td>\n",
       "      <td>5745</td>\n",
       "      <td>33</td>\n",
       "    </tr>\n",
       "    <tr>\n",
       "      <th>0</th>\n",
       "      <td>symptom</td>\n",
       "      <td>S</td>\n",
       "      <td>1</td>\n",
       "      <td>438</td>\n",
       "      <td>23</td>\n",
       "    </tr>\n",
       "  </tbody>\n",
       "</table>\n",
       "</div>"
      ],
      "text/plain": [
       "              metanode abbreviation  metaedges  nodes  unconnected_nodes\n",
       "3              anatomy            A          4    402                  2\n",
       "6   biological process           BP          1  11157                  0\n",
       "7   cellular component           CC          1   1368                  0\n",
       "4             compound            C          6   1552                 18\n",
       "1              disease            D          7    137                  1\n",
       "5                 gene            G         20  20945               1724\n",
       "10  molecular function           MF          1   2865                  0\n",
       "9              pathway           PW          1   1613                  0\n",
       "2         perturbation           PB          1   3395                  0\n",
       "8          side effect           SE          1   5745                 33\n",
       "0              symptom            S          1    438                 23"
      ]
     },
     "execution_count": 63,
     "metadata": {},
     "output_type": "execute_result"
    }
   ],
   "source": [
    "# Summary of metanodes and cooresponding nodes\n",
    "metanode_df = hetio.stats.get_metanode_df(graph)\n",
    "metanode_df.to_csv('data/summary/metanodes.tsv', sep='\\t', index=False)\n",
    "metanode_df"
   ]
  },
  {
   "cell_type": "code",
   "execution_count": 64,
   "metadata": {
    "collapsed": false
   },
   "outputs": [
    {
     "data": {
      "text/plain": [
       "metaedges               44\n",
       "nodes                49617\n",
       "unconnected_nodes     1801\n",
       "dtype: int64"
      ]
     },
     "execution_count": 64,
     "metadata": {},
     "output_type": "execute_result"
    }
   ],
   "source": [
    "metanode_df.sum()"
   ]
  },
  {
   "cell_type": "code",
   "execution_count": 65,
   "metadata": {
    "collapsed": false
   },
   "outputs": [
    {
     "name": "stderr",
     "output_type": "stream",
     "text": [
      "/home/dhimmels/Documents/github/hetio/hetio/stats.py:73: FutureWarning: sort(columns=....) is deprecated, use sort_values(by=.....)\n",
      "  return pandas.DataFrame(rows).sort('metaedge')\n"
     ]
    },
    {
     "data": {
      "text/html": [
       "<div>\n",
       "<table border=\"1\" class=\"dataframe\">\n",
       "  <thead>\n",
       "    <tr style=\"text-align: right;\">\n",
       "      <th></th>\n",
       "      <th>metaedge</th>\n",
       "      <th>abbreviation</th>\n",
       "      <th>inverted</th>\n",
       "      <th>edges</th>\n",
       "      <th>source_nodes</th>\n",
       "      <th>target_nodes</th>\n",
       "      <th>unbiased</th>\n",
       "    </tr>\n",
       "  </thead>\n",
       "  <tbody>\n",
       "    <tr>\n",
       "      <th>0</th>\n",
       "      <td>compound - binding - gene</td>\n",
       "      <td>CbG</td>\n",
       "      <td>0</td>\n",
       "      <td>10747</td>\n",
       "      <td>1377</td>\n",
       "      <td>1586</td>\n",
       "      <td>0</td>\n",
       "    </tr>\n",
       "    <tr>\n",
       "      <th>1</th>\n",
       "      <td>compound - causation - side effect</td>\n",
       "      <td>CcSE</td>\n",
       "      <td>0</td>\n",
       "      <td>139235</td>\n",
       "      <td>1071</td>\n",
       "      <td>5712</td>\n",
       "      <td>0</td>\n",
       "    </tr>\n",
       "    <tr>\n",
       "      <th>2</th>\n",
       "      <td>compound - downregulation - gene</td>\n",
       "      <td>CdG</td>\n",
       "      <td>0</td>\n",
       "      <td>20312</td>\n",
       "      <td>748</td>\n",
       "      <td>923</td>\n",
       "      <td>20312</td>\n",
       "    </tr>\n",
       "    <tr>\n",
       "      <th>3</th>\n",
       "      <td>compound - indication - disease</td>\n",
       "      <td>CiD</td>\n",
       "      <td>0</td>\n",
       "      <td>1388</td>\n",
       "      <td>601</td>\n",
       "      <td>97</td>\n",
       "      <td>0</td>\n",
       "    </tr>\n",
       "    <tr>\n",
       "      <th>4</th>\n",
       "      <td>compound - similarity - compound</td>\n",
       "      <td>CsC</td>\n",
       "      <td>0</td>\n",
       "      <td>12972</td>\n",
       "      <td>1281</td>\n",
       "      <td>1281</td>\n",
       "      <td>12972</td>\n",
       "    </tr>\n",
       "    <tr>\n",
       "      <th>5</th>\n",
       "      <td>compound - upregulation - gene</td>\n",
       "      <td>CuG</td>\n",
       "      <td>0</td>\n",
       "      <td>17261</td>\n",
       "      <td>729</td>\n",
       "      <td>953</td>\n",
       "      <td>17261</td>\n",
       "    </tr>\n",
       "    <tr>\n",
       "      <th>6</th>\n",
       "      <td>disease - association - gene</td>\n",
       "      <td>DaG</td>\n",
       "      <td>0</td>\n",
       "      <td>12623</td>\n",
       "      <td>134</td>\n",
       "      <td>5392</td>\n",
       "      <td>1284</td>\n",
       "    </tr>\n",
       "    <tr>\n",
       "      <th>7</th>\n",
       "      <td>disease - downregulation - gene</td>\n",
       "      <td>DdG</td>\n",
       "      <td>0</td>\n",
       "      <td>674</td>\n",
       "      <td>3</td>\n",
       "      <td>664</td>\n",
       "      <td>674</td>\n",
       "    </tr>\n",
       "    <tr>\n",
       "      <th>8</th>\n",
       "      <td>disease - localization - anatomy</td>\n",
       "      <td>DlA</td>\n",
       "      <td>0</td>\n",
       "      <td>3602</td>\n",
       "      <td>133</td>\n",
       "      <td>398</td>\n",
       "      <td>0</td>\n",
       "    </tr>\n",
       "    <tr>\n",
       "      <th>9</th>\n",
       "      <td>disease - presence - symptom</td>\n",
       "      <td>DpS</td>\n",
       "      <td>0</td>\n",
       "      <td>3357</td>\n",
       "      <td>133</td>\n",
       "      <td>415</td>\n",
       "      <td>0</td>\n",
       "    </tr>\n",
       "    <tr>\n",
       "      <th>10</th>\n",
       "      <td>disease - similarity - disease</td>\n",
       "      <td>DsD</td>\n",
       "      <td>0</td>\n",
       "      <td>1086</td>\n",
       "      <td>129</td>\n",
       "      <td>129</td>\n",
       "      <td>0</td>\n",
       "    </tr>\n",
       "    <tr>\n",
       "      <th>11</th>\n",
       "      <td>disease - upregulation - gene</td>\n",
       "      <td>DuG</td>\n",
       "      <td>0</td>\n",
       "      <td>910</td>\n",
       "      <td>3</td>\n",
       "      <td>870</td>\n",
       "      <td>910</td>\n",
       "    </tr>\n",
       "    <tr>\n",
       "      <th>12</th>\n",
       "      <td>gene - downregulation - anatomy</td>\n",
       "      <td>GdA</td>\n",
       "      <td>0</td>\n",
       "      <td>102240</td>\n",
       "      <td>15097</td>\n",
       "      <td>36</td>\n",
       "      <td>102240</td>\n",
       "    </tr>\n",
       "    <tr>\n",
       "      <th>13</th>\n",
       "      <td>gene - evolution - gene</td>\n",
       "      <td>GeG</td>\n",
       "      <td>0</td>\n",
       "      <td>123382</td>\n",
       "      <td>12453</td>\n",
       "      <td>12453</td>\n",
       "      <td>123382</td>\n",
       "    </tr>\n",
       "    <tr>\n",
       "      <th>14</th>\n",
       "      <td>gene - expression - anatomy</td>\n",
       "      <td>GeA</td>\n",
       "      <td>0</td>\n",
       "      <td>1006278</td>\n",
       "      <td>18147</td>\n",
       "      <td>256</td>\n",
       "      <td>974497</td>\n",
       "    </tr>\n",
       "    <tr>\n",
       "      <th>15</th>\n",
       "      <td>gene - interaction - gene</td>\n",
       "      <td>GiG</td>\n",
       "      <td>0</td>\n",
       "      <td>297253</td>\n",
       "      <td>15211</td>\n",
       "      <td>15211</td>\n",
       "      <td>31575</td>\n",
       "    </tr>\n",
       "    <tr>\n",
       "      <th>16</th>\n",
       "      <td>gene - participation - biological process</td>\n",
       "      <td>GpBP</td>\n",
       "      <td>0</td>\n",
       "      <td>546460</td>\n",
       "      <td>14671</td>\n",
       "      <td>11157</td>\n",
       "      <td>0</td>\n",
       "    </tr>\n",
       "    <tr>\n",
       "      <th>17</th>\n",
       "      <td>gene - participation - cellular component</td>\n",
       "      <td>GpCC</td>\n",
       "      <td>0</td>\n",
       "      <td>67966</td>\n",
       "      <td>10493</td>\n",
       "      <td>1368</td>\n",
       "      <td>0</td>\n",
       "    </tr>\n",
       "    <tr>\n",
       "      <th>18</th>\n",
       "      <td>gene - participation - molecular function</td>\n",
       "      <td>GpMF</td>\n",
       "      <td>0</td>\n",
       "      <td>95960</td>\n",
       "      <td>12996</td>\n",
       "      <td>2865</td>\n",
       "      <td>0</td>\n",
       "    </tr>\n",
       "    <tr>\n",
       "      <th>19</th>\n",
       "      <td>gene - participation - pathway</td>\n",
       "      <td>GpPW</td>\n",
       "      <td>0</td>\n",
       "      <td>77753</td>\n",
       "      <td>9371</td>\n",
       "      <td>1613</td>\n",
       "      <td>0</td>\n",
       "    </tr>\n",
       "    <tr>\n",
       "      <th>20</th>\n",
       "      <td>gene - regulation - perturbation</td>\n",
       "      <td>GrPB</td>\n",
       "      <td>0</td>\n",
       "      <td>366502</td>\n",
       "      <td>18245</td>\n",
       "      <td>3395</td>\n",
       "      <td>0</td>\n",
       "    </tr>\n",
       "    <tr>\n",
       "      <th>21</th>\n",
       "      <td>gene - upregulation - anatomy</td>\n",
       "      <td>GuA</td>\n",
       "      <td>0</td>\n",
       "      <td>97848</td>\n",
       "      <td>15929</td>\n",
       "      <td>36</td>\n",
       "      <td>97848</td>\n",
       "    </tr>\n",
       "    <tr>\n",
       "      <th>22</th>\n",
       "      <td>gene &gt; knockdown downregulation &gt; gene</td>\n",
       "      <td>Gkd&gt;G</td>\n",
       "      <td>0</td>\n",
       "      <td>140140</td>\n",
       "      <td>4207</td>\n",
       "      <td>954</td>\n",
       "      <td>140140</td>\n",
       "    </tr>\n",
       "    <tr>\n",
       "      <th>23</th>\n",
       "      <td>gene &gt; knockdown upregulation &gt; gene</td>\n",
       "      <td>Gku&gt;G</td>\n",
       "      <td>0</td>\n",
       "      <td>78750</td>\n",
       "      <td>4068</td>\n",
       "      <td>970</td>\n",
       "      <td>78750</td>\n",
       "    </tr>\n",
       "    <tr>\n",
       "      <th>24</th>\n",
       "      <td>gene &gt; overexpression downregulation &gt; gene</td>\n",
       "      <td>God&gt;G</td>\n",
       "      <td>0</td>\n",
       "      <td>14904</td>\n",
       "      <td>1660</td>\n",
       "      <td>830</td>\n",
       "      <td>14904</td>\n",
       "    </tr>\n",
       "    <tr>\n",
       "      <th>25</th>\n",
       "      <td>gene &gt; overexpression upregulation &gt; gene</td>\n",
       "      <td>Gou&gt;G</td>\n",
       "      <td>0</td>\n",
       "      <td>15174</td>\n",
       "      <td>1842</td>\n",
       "      <td>893</td>\n",
       "      <td>15174</td>\n",
       "    </tr>\n",
       "  </tbody>\n",
       "</table>\n",
       "</div>"
      ],
      "text/plain": [
       "                                       metaedge abbreviation  inverted  \\\n",
       "0                     compound - binding - gene          CbG         0   \n",
       "1            compound - causation - side effect         CcSE         0   \n",
       "2              compound - downregulation - gene          CdG         0   \n",
       "3               compound - indication - disease          CiD         0   \n",
       "4              compound - similarity - compound          CsC         0   \n",
       "5                compound - upregulation - gene          CuG         0   \n",
       "6                  disease - association - gene          DaG         0   \n",
       "7               disease - downregulation - gene          DdG         0   \n",
       "8              disease - localization - anatomy          DlA         0   \n",
       "9                  disease - presence - symptom          DpS         0   \n",
       "10               disease - similarity - disease          DsD         0   \n",
       "11                disease - upregulation - gene          DuG         0   \n",
       "12              gene - downregulation - anatomy          GdA         0   \n",
       "13                      gene - evolution - gene          GeG         0   \n",
       "14                  gene - expression - anatomy          GeA         0   \n",
       "15                    gene - interaction - gene          GiG         0   \n",
       "16    gene - participation - biological process         GpBP         0   \n",
       "17    gene - participation - cellular component         GpCC         0   \n",
       "18    gene - participation - molecular function         GpMF         0   \n",
       "19               gene - participation - pathway         GpPW         0   \n",
       "20             gene - regulation - perturbation         GrPB         0   \n",
       "21                gene - upregulation - anatomy          GuA         0   \n",
       "22       gene > knockdown downregulation > gene        Gkd>G         0   \n",
       "23         gene > knockdown upregulation > gene        Gku>G         0   \n",
       "24  gene > overexpression downregulation > gene        God>G         0   \n",
       "25    gene > overexpression upregulation > gene        Gou>G         0   \n",
       "\n",
       "      edges  source_nodes  target_nodes  unbiased  \n",
       "0     10747          1377          1586         0  \n",
       "1    139235          1071          5712         0  \n",
       "2     20312           748           923     20312  \n",
       "3      1388           601            97         0  \n",
       "4     12972          1281          1281     12972  \n",
       "5     17261           729           953     17261  \n",
       "6     12623           134          5392      1284  \n",
       "7       674             3           664       674  \n",
       "8      3602           133           398         0  \n",
       "9      3357           133           415         0  \n",
       "10     1086           129           129         0  \n",
       "11      910             3           870       910  \n",
       "12   102240         15097            36    102240  \n",
       "13   123382         12453         12453    123382  \n",
       "14  1006278         18147           256    974497  \n",
       "15   297253         15211         15211     31575  \n",
       "16   546460         14671         11157         0  \n",
       "17    67966         10493          1368         0  \n",
       "18    95960         12996          2865         0  \n",
       "19    77753          9371          1613         0  \n",
       "20   366502         18245          3395         0  \n",
       "21    97848         15929            36     97848  \n",
       "22   140140          4207           954    140140  \n",
       "23    78750          4068           970     78750  \n",
       "24    14904          1660           830     14904  \n",
       "25    15174          1842           893     15174  "
      ]
     },
     "execution_count": 65,
     "metadata": {},
     "output_type": "execute_result"
    }
   ],
   "source": [
    "# Summary of metaedges and cooresponding edges\n",
    "metaedge_df = hetio.stats.get_metaedge_df(graph)\n",
    "\n",
    "# Calculate number of unbiased edges\n",
    "rows = list()\n",
    "for metaedge, edges in graph.get_metaedge_to_edges().items():\n",
    "    unbiased = sum(edge.data['unbiased'] for edge in edges)\n",
    "    rows.append({'metaedge': str(metaedge), 'unbiased': unbiased})\n",
    "\n",
    "metaedge_df = metaedge_df.merge(pandas.DataFrame(rows))\n",
    "metaedge_df.to_csv('data/summary/metaedges.tsv', sep='\\t', index=False)\n",
    "metaedge_df = metaedge_df.query('inverted == 0').reset_index(drop=True)\n",
    "metaedge_df"
   ]
  },
  {
   "cell_type": "code",
   "execution_count": 68,
   "metadata": {
    "collapsed": false
   },
   "outputs": [
    {
     "data": {
      "text/plain": [
       "3254777"
      ]
     },
     "execution_count": 68,
     "metadata": {},
     "output_type": "execute_result"
    }
   ],
   "source": [
    "# Number of edges in the network\n",
    "metaedge_df.edges.sum()"
   ]
  },
  {
   "cell_type": "markdown",
   "metadata": {},
   "source": [
    "## Barplots of metaedge and metanode counts"
   ]
  },
  {
   "cell_type": "code",
   "execution_count": 69,
   "metadata": {
    "collapsed": true
   },
   "outputs": [],
   "source": [
    "import seaborn\n",
    "%matplotlib inline"
   ]
  },
  {
   "cell_type": "code",
   "execution_count": 70,
   "metadata": {
    "collapsed": false
   },
   "outputs": [
    {
     "name": "stderr",
     "output_type": "stream",
     "text": [
      "/home/dhimmels/anaconda3/envs/py35/lib/python3.5/site-packages/ipykernel/__main__.py:1: FutureWarning: sort(columns=....) is deprecated, use sort_values(by=.....)\n",
      "  if __name__ == '__main__':\n",
      "/home/dhimmels/anaconda3/envs/py35/lib/python3.5/site-packages/matplotlib/__init__.py:892: UserWarning: axes.color_cycle is deprecated and replaced with axes.prop_cycle; please use the latter.\n",
      "  warnings.warn(self.msg_depr % (key, alt_key))\n"
     ]
    },
    {
     "data": {
      "image/png": "[encoded data removed]",
      "text/plain": [
       "<matplotlib.figure.Figure at 0x7f2463cb2a20>"
      ]
     },
     "metadata": {},
     "output_type": "display_data"
    }
   ],
   "source": [
    "ax = seaborn.barplot(x='metanode', y='nodes', data=metanode_df.sort('nodes'))\n",
    "for tick in ax.get_xticklabels():\n",
    "    tick.set_rotation(90)\n",
    "ax.set_xlabel(''); ax.set_ylabel('nodes');"
   ]
  },
  {
   "cell_type": "code",
   "execution_count": 71,
   "metadata": {
    "collapsed": false
   },
   "outputs": [
    {
     "name": "stderr",
     "output_type": "stream",
     "text": [
      "/home/dhimmels/anaconda3/envs/py35/lib/python3.5/site-packages/ipykernel/__main__.py:1: FutureWarning: sort(columns=....) is deprecated, use sort_values(by=.....)\n",
      "  if __name__ == '__main__':\n",
      "/home/dhimmels/anaconda3/envs/py35/lib/python3.5/site-packages/matplotlib/__init__.py:892: UserWarning: axes.color_cycle is deprecated and replaced with axes.prop_cycle; please use the latter.\n",
      "  warnings.warn(self.msg_depr % (key, alt_key))\n"
     ]
    },
    {
     "data": {
      "image/png": "[encoded data removed]",
      "text/plain": [
       "<matplotlib.figure.Figure at 0x7f2463ca99e8>"
      ]
     },
     "metadata": {},
     "output_type": "display_data"
    }
   ],
   "source": [
    "ax = seaborn.barplot(x='metaedge', y='edges', data=metaedge_df.sort('edges'))\n",
    "for tick in ax.get_xticklabels():\n",
    "    tick.set_rotation(90)\n",
    "ax.set_xlabel(''); ax.set_ylabel('edges');"
   ]
  }
 ],
 "metadata": {
  "kernelspec": {
   "display_name": "Python 3",
   "language": "python",
   "name": "python3"
  },
  "language_info": {
   "codemirror_mode": {
    "name": "ipython",
    "version": 3
   },
   "file_extension": ".py",
   "mimetype": "text/x-python",
   "name": "python",
   "nbconvert_exporter": "python",
   "pygments_lexer": "ipython3",
   "version": "3.5.0"
  }
 },
 "nbformat": 4,
 "nbformat_minor": 0
}
