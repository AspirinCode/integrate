{
 "cells": [
  {
   "cell_type": "code",
   "execution_count": 1,
   "metadata": {
    "collapsed": true
   },
   "outputs": [],
   "source": [
    "import io\n",
    "import gzip\n",
    "\n",
    "import requests\n",
    "import pandas\n",
    "\n",
    "import hetio.graph"
   ]
  },
  {
   "cell_type": "code",
   "execution_count": 2,
   "metadata": {
    "collapsed": true
   },
   "outputs": [],
   "source": [
    "def rawgit(handle, repo, commit, *args):\n",
    "    \"\"\"Returns url for a raw file in a ghithub reposotory.\"\"\"\n",
    "    url_head = 'https://raw.githubusercontent.com'\n",
    "    return '/'.join((url_head, handle, repo, commit) + args)"
   ]
  },
  {
   "cell_type": "code",
   "execution_count": 3,
   "metadata": {
    "collapsed": true
   },
   "outputs": [],
   "source": [
    "def open_gz_url(url):\n",
    "    response = requests.get(url)\n",
    "    bytes_io = io.BytesIO(response.content)\n",
    "    return gzip.open(bytes_io, 'rt')"
   ]
  },
  {
   "cell_type": "code",
   "execution_count": null,
   "metadata": {
    "collapsed": false
   },
   "outputs": [],
   "source": []
  },
  {
   "cell_type": "code",
   "execution_count": 4,
   "metadata": {
    "collapsed": false
   },
   "outputs": [],
   "source": [
    "metaedge_tuples = [\n",
    "    ('compound', 'disease', 'indication', 'both'),\n",
    "    ('compound', 'gene', 'target', 'both'),\n",
    "    ('compound', 'gene', 'binding', 'both'),\n",
    "    ('gene', 'anatomy', 'expression', 'both'),\n",
    "    ('gene', 'gene', 'interaction', 'both'),\n",
    "    ('gene', 'gene', 'evolution', 'both'),\n",
    "    ('gene', 'pathway', 'participation', 'both'),\n",
    "    ('disease', 'disease', 'similarity', 'both'),\n",
    "    ('disease', 'gene', 'association', 'both'),\n",
    "    ('disease', 'symptom', 'causation', 'both'),\n",
    "]\n",
    "metagraph = hetio.graph.MetaGraph.from_edge_tuples(metaedge_tuples)\n",
    "graph = hetio.graph.Graph(metagraph)"
   ]
  },
  {
   "cell_type": "markdown",
   "metadata": {},
   "source": [
    "## Gene Nodes"
   ]
  },
  {
   "cell_type": "code",
   "execution_count": 5,
   "metadata": {
    "collapsed": false
   },
   "outputs": [
    {
     "data": {
      "text/html": [
       "<div>\n",
       "<table border=\"1\" class=\"dataframe\">\n",
       "  <thead>\n",
       "    <tr style=\"text-align: right;\">\n",
       "      <th></th>\n",
       "      <th>tax_id</th>\n",
       "      <th>GeneID</th>\n",
       "      <th>Symbol</th>\n",
       "      <th>chromosome</th>\n",
       "      <th>map_location</th>\n",
       "      <th>type_of_gene</th>\n",
       "      <th>description</th>\n",
       "    </tr>\n",
       "  </thead>\n",
       "  <tbody>\n",
       "    <tr>\n",
       "      <th>0</th>\n",
       "      <td>9606</td>\n",
       "      <td>1</td>\n",
       "      <td>A1BG</td>\n",
       "      <td>19</td>\n",
       "      <td>19q13.4</td>\n",
       "      <td>protein-coding</td>\n",
       "      <td>alpha-1-B glycoprotein</td>\n",
       "    </tr>\n",
       "    <tr>\n",
       "      <th>1</th>\n",
       "      <td>9606</td>\n",
       "      <td>2</td>\n",
       "      <td>A2M</td>\n",
       "      <td>12</td>\n",
       "      <td>12p13.31</td>\n",
       "      <td>protein-coding</td>\n",
       "      <td>alpha-2-macroglobulin</td>\n",
       "    </tr>\n",
       "    <tr>\n",
       "      <th>3</th>\n",
       "      <td>9606</td>\n",
       "      <td>9</td>\n",
       "      <td>NAT1</td>\n",
       "      <td>8</td>\n",
       "      <td>8p22</td>\n",
       "      <td>protein-coding</td>\n",
       "      <td>N-acetyltransferase 1 (arylamine N-acetyltrans...</td>\n",
       "    </tr>\n",
       "    <tr>\n",
       "      <th>4</th>\n",
       "      <td>9606</td>\n",
       "      <td>10</td>\n",
       "      <td>NAT2</td>\n",
       "      <td>8</td>\n",
       "      <td>8p22</td>\n",
       "      <td>protein-coding</td>\n",
       "      <td>N-acetyltransferase 2 (arylamine N-acetyltrans...</td>\n",
       "    </tr>\n",
       "    <tr>\n",
       "      <th>6</th>\n",
       "      <td>9606</td>\n",
       "      <td>12</td>\n",
       "      <td>SERPINA3</td>\n",
       "      <td>14</td>\n",
       "      <td>14q32.1</td>\n",
       "      <td>protein-coding</td>\n",
       "      <td>serpin peptidase inhibitor, clade A (alpha-1 a...</td>\n",
       "    </tr>\n",
       "  </tbody>\n",
       "</table>\n",
       "</div>"
      ],
      "text/plain": [
       "   tax_id  GeneID    Symbol chromosome map_location    type_of_gene  \\\n",
       "0    9606       1      A1BG         19      19q13.4  protein-coding   \n",
       "1    9606       2       A2M         12     12p13.31  protein-coding   \n",
       "3    9606       9      NAT1          8         8p22  protein-coding   \n",
       "4    9606      10      NAT2          8         8p22  protein-coding   \n",
       "6    9606      12  SERPINA3         14      14q32.1  protein-coding   \n",
       "\n",
       "                                         description  \n",
       "0                             alpha-1-B glycoprotein  \n",
       "1                              alpha-2-macroglobulin  \n",
       "3  N-acetyltransferase 1 (arylamine N-acetyltrans...  \n",
       "4  N-acetyltransferase 2 (arylamine N-acetyltrans...  \n",
       "6  serpin peptidase inhibitor, clade A (alpha-1 a...  "
      ]
     },
     "execution_count": 5,
     "metadata": {},
     "output_type": "execute_result"
    }
   ],
   "source": [
    "commit = '6e133f9ef8ce51a4c5387e58a6cc97564a66cec8'\n",
    "url = rawgit('dhimmel', 'entrez-gene', commit, 'data/genes-human.tsv')\n",
    "gene_df = pandas.read_table(url)\n",
    "gene_df = gene_df[gene_df.type_of_gene == 'protein-coding']\n",
    "gene_df.head()"
   ]
  },
  {
   "cell_type": "code",
   "execution_count": 6,
   "metadata": {
    "collapsed": false
   },
   "outputs": [],
   "source": [
    "for i, row in gene_df.iterrows():\n",
    "    if row.type_of_gene != 'protein-coding':\n",
    "        continue\n",
    "    graph.add_node(kind = 'gene', identifier = row.GeneID, name = row.Symbol)"
   ]
  },
  {
   "cell_type": "markdown",
   "metadata": {},
   "source": [
    "## Disease Nodes"
   ]
  },
  {
   "cell_type": "code",
   "execution_count": 7,
   "metadata": {
    "collapsed": false
   },
   "outputs": [
    {
     "data": {
      "text/html": [
       "<div>\n",
       "<table border=\"1\" class=\"dataframe\">\n",
       "  <thead>\n",
       "    <tr style=\"text-align: right;\">\n",
       "      <th></th>\n",
       "      <th>doid</th>\n",
       "      <th>name</th>\n",
       "      <th>source</th>\n",
       "      <th>pathophysiology</th>\n",
       "    </tr>\n",
       "  </thead>\n",
       "  <tbody>\n",
       "    <tr>\n",
       "      <th>0</th>\n",
       "      <td>DOID:2531</td>\n",
       "      <td>Hematologic cancer</td>\n",
       "      <td>DOcancerslim</td>\n",
       "      <td>neoplastic</td>\n",
       "    </tr>\n",
       "    <tr>\n",
       "      <th>1</th>\n",
       "      <td>DOID:1319</td>\n",
       "      <td>Brain cancer</td>\n",
       "      <td>DOcancerslim</td>\n",
       "      <td>neoplastic</td>\n",
       "    </tr>\n",
       "    <tr>\n",
       "      <th>2</th>\n",
       "      <td>DOID:1324</td>\n",
       "      <td>Lung cancer</td>\n",
       "      <td>DOcancerslim</td>\n",
       "      <td>neoplastic</td>\n",
       "    </tr>\n",
       "    <tr>\n",
       "      <th>3</th>\n",
       "      <td>DOID:263</td>\n",
       "      <td>Kidney cancer</td>\n",
       "      <td>DOcancerslim</td>\n",
       "      <td>neoplastic</td>\n",
       "    </tr>\n",
       "    <tr>\n",
       "      <th>4</th>\n",
       "      <td>DOID:1793</td>\n",
       "      <td>Pancreatic cancer</td>\n",
       "      <td>DOcancerslim</td>\n",
       "      <td>neoplastic</td>\n",
       "    </tr>\n",
       "  </tbody>\n",
       "</table>\n",
       "</div>"
      ],
      "text/plain": [
       "        doid                name        source pathophysiology\n",
       "0  DOID:2531  Hematologic cancer  DOcancerslim      neoplastic\n",
       "1  DOID:1319        Brain cancer  DOcancerslim      neoplastic\n",
       "2  DOID:1324         Lung cancer  DOcancerslim      neoplastic\n",
       "3   DOID:263       Kidney cancer  DOcancerslim      neoplastic\n",
       "4  DOID:1793   Pancreatic cancer  DOcancerslim      neoplastic"
      ]
     },
     "execution_count": 7,
     "metadata": {},
     "output_type": "execute_result"
    }
   ],
   "source": [
    "commit = '72614ade9f1cc5a5317b8f6836e1e464b31d5587'\n",
    "url = rawgit('dhimmel', 'disease-ontology', commit, 'data/slim-terms.tsv')\n",
    "disease_df = pandas.read_table(url)\n",
    "disease_df.head()"
   ]
  },
  {
   "cell_type": "code",
   "execution_count": 8,
   "metadata": {
    "collapsed": true
   },
   "outputs": [],
   "source": [
    "for i, row in disease_df.iterrows():\n",
    "    graph.add_node(kind = 'disease', identifier = row.doid, name = row.name)"
   ]
  },
  {
   "cell_type": "markdown",
   "metadata": {},
   "source": [
    "## Compound Nodes"
   ]
  },
  {
   "cell_type": "code",
   "execution_count": 9,
   "metadata": {
    "collapsed": false
   },
   "outputs": [
    {
     "data": {
      "text/html": [
       "<div>\n",
       "<table border=\"1\" class=\"dataframe\">\n",
       "  <thead>\n",
       "    <tr style=\"text-align: right;\">\n",
       "      <th></th>\n",
       "      <th>drugbank_id</th>\n",
       "      <th>name</th>\n",
       "      <th>type</th>\n",
       "      <th>groups</th>\n",
       "      <th>atc_codes</th>\n",
       "      <th>categories</th>\n",
       "      <th>inchikey</th>\n",
       "      <th>inchi</th>\n",
       "    </tr>\n",
       "  </thead>\n",
       "  <tbody>\n",
       "    <tr>\n",
       "      <th>0</th>\n",
       "      <td>DB00014</td>\n",
       "      <td>Goserelin</td>\n",
       "      <td>small molecule</td>\n",
       "      <td>approved</td>\n",
       "      <td>L02AE03</td>\n",
       "      <td>NaN</td>\n",
       "      <td>InChIKey=BLCLNMBMMGCOAS-URPVMXJPSA-N</td>\n",
       "      <td>InChI=1S/C59H84N18O14/c1-31(2)22-40(49(82)68-3...</td>\n",
       "    </tr>\n",
       "    <tr>\n",
       "      <th>1</th>\n",
       "      <td>DB00035</td>\n",
       "      <td>Desmopressin</td>\n",
       "      <td>small molecule</td>\n",
       "      <td>approved</td>\n",
       "      <td>H01BA02</td>\n",
       "      <td>Antidiuretic Agents|Hemostatics|Renal Agents</td>\n",
       "      <td>InChIKey=NFLWUMRGJYTJIN-NXBWRCJVSA-N</td>\n",
       "      <td>InChI=1S/C46H64N14O12S2/c47-35(62)15-14-29-40(...</td>\n",
       "    </tr>\n",
       "    <tr>\n",
       "      <th>2</th>\n",
       "      <td>DB00050</td>\n",
       "      <td>Cetrorelix</td>\n",
       "      <td>small molecule</td>\n",
       "      <td>approved|investigational</td>\n",
       "      <td>H01CC02</td>\n",
       "      <td>Hormone Antagonists|Fertility Agents</td>\n",
       "      <td>InChIKey=SBNPWPIBESPSIF-MHWMIDJBSA-N</td>\n",
       "      <td>InChI=1S/C70H92ClN17O14/c1-39(2)31-52(61(94)82...</td>\n",
       "    </tr>\n",
       "    <tr>\n",
       "      <th>3</th>\n",
       "      <td>DB00091</td>\n",
       "      <td>Cyclosporine</td>\n",
       "      <td>small molecule</td>\n",
       "      <td>approved|investigational</td>\n",
       "      <td>L04AD01|S01XA18</td>\n",
       "      <td>Antirheumatic Agents|Dermatologic Agents|Immun...</td>\n",
       "      <td>InChIKey=PMATZTZNYRCHOR-IMVLJIQENA-N</td>\n",
       "      <td>InChI=1/C62H111N11O12/c1-25-27-28-40(15)52(75)...</td>\n",
       "    </tr>\n",
       "    <tr>\n",
       "      <th>4</th>\n",
       "      <td>DB00093</td>\n",
       "      <td>Felypressin</td>\n",
       "      <td>small molecule</td>\n",
       "      <td>approved</td>\n",
       "      <td>NaN</td>\n",
       "      <td>Vasoconstrictor Agents|Renal Agents</td>\n",
       "      <td>InChIKey=SFKQVVDKFKYTNA-YVGXZPIDNA-N</td>\n",
       "      <td>InChI=1/C46H65N13O11S2/c47-18-8-7-14-29(40(64)...</td>\n",
       "    </tr>\n",
       "  </tbody>\n",
       "</table>\n",
       "</div>"
      ],
      "text/plain": [
       "  drugbank_id          name            type                    groups  \\\n",
       "0     DB00014     Goserelin  small molecule                  approved   \n",
       "1     DB00035  Desmopressin  small molecule                  approved   \n",
       "2     DB00050    Cetrorelix  small molecule  approved|investigational   \n",
       "3     DB00091  Cyclosporine  small molecule  approved|investigational   \n",
       "4     DB00093   Felypressin  small molecule                  approved   \n",
       "\n",
       "         atc_codes                                         categories  \\\n",
       "0          L02AE03                                                NaN   \n",
       "1          H01BA02       Antidiuretic Agents|Hemostatics|Renal Agents   \n",
       "2          H01CC02               Hormone Antagonists|Fertility Agents   \n",
       "3  L04AD01|S01XA18  Antirheumatic Agents|Dermatologic Agents|Immun...   \n",
       "4              NaN                Vasoconstrictor Agents|Renal Agents   \n",
       "\n",
       "                               inchikey  \\\n",
       "0  InChIKey=BLCLNMBMMGCOAS-URPVMXJPSA-N   \n",
       "1  InChIKey=NFLWUMRGJYTJIN-NXBWRCJVSA-N   \n",
       "2  InChIKey=SBNPWPIBESPSIF-MHWMIDJBSA-N   \n",
       "3  InChIKey=PMATZTZNYRCHOR-IMVLJIQENA-N   \n",
       "4  InChIKey=SFKQVVDKFKYTNA-YVGXZPIDNA-N   \n",
       "\n",
       "                                               inchi  \n",
       "0  InChI=1S/C59H84N18O14/c1-31(2)22-40(49(82)68-3...  \n",
       "1  InChI=1S/C46H64N14O12S2/c47-35(62)15-14-29-40(...  \n",
       "2  InChI=1S/C70H92ClN17O14/c1-39(2)31-52(61(94)82...  \n",
       "3  InChI=1/C62H111N11O12/c1-25-27-28-40(15)52(75)...  \n",
       "4  InChI=1/C46H65N13O11S2/c47-18-8-7-14-29(40(64)...  "
      ]
     },
     "execution_count": 9,
     "metadata": {},
     "output_type": "execute_result"
    }
   ],
   "source": [
    "commit = '3e87872db5fca5ac427ce27464ab945c0ceb4ec6'\n",
    "url = rawgit('dhimmel', 'drugbank', commit, 'data/drugbank-slim.tsv')\n",
    "compound_df = pandas.read_table(url)\n",
    "compound_df.head()"
   ]
  },
  {
   "cell_type": "code",
   "execution_count": 10,
   "metadata": {
    "collapsed": false
   },
   "outputs": [],
   "source": [
    "for i, row in compound_df.iterrows():\n",
    "    data = {'inchikey': row.inchikey, 'inchi': row.inchi}\n",
    "    graph.add_node(kind='compound', identifier=row.drugbank_id, name=row.name, data=data)"
   ]
  },
  {
   "cell_type": "markdown",
   "metadata": {},
   "source": [
    "## Symptom Nodes"
   ]
  },
  {
   "cell_type": "code",
   "execution_count": 11,
   "metadata": {
    "collapsed": false
   },
   "outputs": [
    {
     "data": {
      "text/html": [
       "<div>\n",
       "<table border=\"1\" class=\"dataframe\">\n",
       "  <thead>\n",
       "    <tr style=\"text-align: right;\">\n",
       "      <th></th>\n",
       "      <th>mesh_id</th>\n",
       "      <th>mesh_name</th>\n",
       "      <th>in_hsdn</th>\n",
       "    </tr>\n",
       "  </thead>\n",
       "  <tbody>\n",
       "    <tr>\n",
       "      <th>0</th>\n",
       "      <td>D000006</td>\n",
       "      <td>Abdomen, Acute</td>\n",
       "      <td>1</td>\n",
       "    </tr>\n",
       "    <tr>\n",
       "      <th>1</th>\n",
       "      <td>D000270</td>\n",
       "      <td>Adie Syndrome</td>\n",
       "      <td>0</td>\n",
       "    </tr>\n",
       "    <tr>\n",
       "      <th>2</th>\n",
       "      <td>D000326</td>\n",
       "      <td>Adrenoleukodystrophy</td>\n",
       "      <td>0</td>\n",
       "    </tr>\n",
       "    <tr>\n",
       "      <th>3</th>\n",
       "      <td>D000334</td>\n",
       "      <td>Aerophagy</td>\n",
       "      <td>1</td>\n",
       "    </tr>\n",
       "    <tr>\n",
       "      <th>4</th>\n",
       "      <td>D000370</td>\n",
       "      <td>Ageusia</td>\n",
       "      <td>1</td>\n",
       "    </tr>\n",
       "  </tbody>\n",
       "</table>\n",
       "</div>"
      ],
      "text/plain": [
       "   mesh_id             mesh_name  in_hsdn\n",
       "0  D000006        Abdomen, Acute        1\n",
       "1  D000270         Adie Syndrome        0\n",
       "2  D000326  Adrenoleukodystrophy        0\n",
       "3  D000334             Aerophagy        1\n",
       "4  D000370               Ageusia        1"
      ]
     },
     "execution_count": 11,
     "metadata": {},
     "output_type": "execute_result"
    }
   ],
   "source": [
    "commit = 'a7036a37302973b15ab949aab4056d9bc062910e'\n",
    "url = rawgit('dhimmel', 'mesh', commit, 'data/symptoms.tsv')\n",
    "symptom_df = pandas.read_table(url)\n",
    "symptom_df.head()"
   ]
  },
  {
   "cell_type": "code",
   "execution_count": 12,
   "metadata": {
    "collapsed": true
   },
   "outputs": [],
   "source": [
    "for i, row in symptom_df.iterrows():\n",
    "    graph.add_node(kind='symptom', identifier=row.mesh_id, name=row.mesh_name)"
   ]
  },
  {
   "cell_type": "markdown",
   "metadata": {
    "collapsed": true
   },
   "source": [
    "## Pathway Nodes and Edges"
   ]
  },
  {
   "cell_type": "code",
   "execution_count": 13,
   "metadata": {
    "collapsed": false
   },
   "outputs": [
    {
     "data": {
      "text/html": [
       "<div>\n",
       "<table border=\"1\" class=\"dataframe\">\n",
       "  <thead>\n",
       "    <tr style=\"text-align: right;\">\n",
       "      <th></th>\n",
       "      <th>identifier</th>\n",
       "      <th>name</th>\n",
       "      <th>url</th>\n",
       "      <th>n_genes</th>\n",
       "      <th>n_coding_genes</th>\n",
       "      <th>source</th>\n",
       "      <th>genes</th>\n",
       "      <th>coding_genes</th>\n",
       "    </tr>\n",
       "  </thead>\n",
       "  <tbody>\n",
       "    <tr>\n",
       "      <th>1617</th>\n",
       "      <td>WP1946</td>\n",
       "      <td>Cori Cycle(Homo sapiens)</td>\n",
       "      <td>http://wikipathways.org/instance/WP1946</td>\n",
       "      <td>16</td>\n",
       "      <td>16</td>\n",
       "      <td>wikipathways</td>\n",
       "      <td>5223|5214|6514|5230|2875|5232|2821|6888|2539|6...</td>\n",
       "      <td>6513|5223|5214|3098|6514|5230|2875|5232|2821|6...</td>\n",
       "    </tr>\n",
       "    <tr>\n",
       "      <th>1618</th>\n",
       "      <td>WP2118</td>\n",
       "      <td>Arrhythmogenic Right Ventricular Cardiomyopath...</td>\n",
       "      <td>http://wikipathways.org/instance/WP2118</td>\n",
       "      <td>74</td>\n",
       "      <td>74</td>\n",
       "      <td>wikipathways</td>\n",
       "      <td>775|782|6546|3685|6445|93589|59283|781|1829|10...</td>\n",
       "      <td>51176|775|6444|782|3694|3728|6932|786|6546|71|...</td>\n",
       "    </tr>\n",
       "  </tbody>\n",
       "</table>\n",
       "</div>"
      ],
      "text/plain": [
       "     identifier                                               name  \\\n",
       "1617     WP1946                           Cori Cycle(Homo sapiens)   \n",
       "1618     WP2118  Arrhythmogenic Right Ventricular Cardiomyopath...   \n",
       "\n",
       "                                          url  n_genes  n_coding_genes  \\\n",
       "1617  http://wikipathways.org/instance/WP1946       16              16   \n",
       "1618  http://wikipathways.org/instance/WP2118       74              74   \n",
       "\n",
       "            source                                              genes  \\\n",
       "1617  wikipathways  5223|5214|6514|5230|2875|5232|2821|6888|2539|6...   \n",
       "1618  wikipathways  775|782|6546|3685|6445|93589|59283|781|1829|10...   \n",
       "\n",
       "                                           coding_genes  \n",
       "1617  6513|5223|5214|3098|6514|5230|2875|5232|2821|6...  \n",
       "1618  51176|775|6444|782|3694|3728|6932|786|6546|71|...  "
      ]
     },
     "execution_count": 13,
     "metadata": {},
     "output_type": "execute_result"
    }
   ],
   "source": [
    "commit = '032036f91a8395eabd0dab2d9d1ee3252ba140f8'\n",
    "url = rawgit('dhimmel', 'pathways', commit, 'data/pathways.tsv')\n",
    "pathway_df = pandas.read_table(url)\n",
    "pathway_df = pathway_df[pathway_df.n_coding_genes > 1]\n",
    "pathway_df.tail(2)"
   ]
  },
  {
   "cell_type": "code",
   "execution_count": 14,
   "metadata": {
    "collapsed": false
   },
   "outputs": [],
   "source": [
    "for i, row in pathway_df.iterrows():\n",
    "    pathway_id = row.identifier\n",
    "    graph.add_node(kind='pathway', identifier=pathway_id, name=row.name)\n",
    "    \n",
    "    for gene in row.coding_genes.split('|'):\n",
    "        gene = int(gene)\n",
    "        source_id = 'gene', gene\n",
    "        target_id = 'pathway', pathway_id\n",
    "        graph.add_edge(source_id, target_id, 'participation', 'both')"
   ]
  },
  {
   "cell_type": "markdown",
   "metadata": {},
   "source": [
    "## Disease-gene associations"
   ]
  },
  {
   "cell_type": "code",
   "execution_count": 15,
   "metadata": {
    "collapsed": false
   },
   "outputs": [
    {
     "data": {
      "text/html": [
       "<div>\n",
       "<table border=\"1\" class=\"dataframe\">\n",
       "  <thead>\n",
       "    <tr style=\"text-align: right;\">\n",
       "      <th></th>\n",
       "      <th>doid_code</th>\n",
       "      <th>doid_name</th>\n",
       "      <th>locus</th>\n",
       "      <th>high_confidence</th>\n",
       "      <th>primary</th>\n",
       "      <th>status</th>\n",
       "      <th>gene</th>\n",
       "      <th>symbol</th>\n",
       "    </tr>\n",
       "  </thead>\n",
       "  <tbody>\n",
       "    <tr>\n",
       "      <th>5895</th>\n",
       "      <td>DOID:0050156</td>\n",
       "      <td>idiopathic pulmonary fibrosis</td>\n",
       "      <td>0</td>\n",
       "      <td>1</td>\n",
       "      <td>1</td>\n",
       "      <td>HC-P</td>\n",
       "      <td>54472</td>\n",
       "      <td>TOLLIP</td>\n",
       "    </tr>\n",
       "    <tr>\n",
       "      <th>5896</th>\n",
       "      <td>DOID:0050156</td>\n",
       "      <td>idiopathic pulmonary fibrosis</td>\n",
       "      <td>2</td>\n",
       "      <td>1</td>\n",
       "      <td>1</td>\n",
       "      <td>HC-P</td>\n",
       "      <td>7015</td>\n",
       "      <td>TERT</td>\n",
       "    </tr>\n",
       "  </tbody>\n",
       "</table>\n",
       "</div>"
      ],
      "text/plain": [
       "         doid_code                      doid_name  locus  high_confidence  \\\n",
       "5895  DOID:0050156  idiopathic pulmonary fibrosis      0                1   \n",
       "5896  DOID:0050156  idiopathic pulmonary fibrosis      2                1   \n",
       "\n",
       "      primary status   gene  symbol  \n",
       "5895        1   HC-P  54472  TOLLIP  \n",
       "5896        1   HC-P   7015    TERT  "
      ]
     },
     "execution_count": 15,
     "metadata": {},
     "output_type": "execute_result"
    }
   ],
   "source": [
    "commit = '0617ea7ea8268f21f5ca1b8dbe487dd12671fc7b'\n",
    "url = rawgit('dhimmel', 'gwas-catalog', commit, 'data/gene-associations.tsv')\n",
    "gwas_df = pandas.read_table(url)\n",
    "gwas_df = gwas_df[gwas_df.status == 'HC-P']\n",
    "gwas_df.tail(2)"
   ]
  },
  {
   "cell_type": "code",
   "execution_count": 16,
   "metadata": {
    "collapsed": false
   },
   "outputs": [],
   "source": [
    "for i, row in gwas_df.iterrows():\n",
    "    source_id = 'disease', row.doid_code\n",
    "    target_id = 'gene', row.gene\n",
    "    graph.add_edge(source_id, target_id, 'association', 'both')"
   ]
  },
  {
   "cell_type": "markdown",
   "metadata": {},
   "source": [
    "## Symptom edges"
   ]
  },
  {
   "cell_type": "code",
   "execution_count": 17,
   "metadata": {
    "collapsed": false
   },
   "outputs": [
    {
     "data": {
      "text/html": [
       "<div>\n",
       "<table border=\"1\" class=\"dataframe\">\n",
       "  <thead>\n",
       "    <tr style=\"text-align: right;\">\n",
       "      <th></th>\n",
       "      <th>doid_code</th>\n",
       "      <th>doid_name</th>\n",
       "      <th>mesh_id</th>\n",
       "      <th>mesh_name</th>\n",
       "      <th>cooccurrence</th>\n",
       "      <th>expected</th>\n",
       "      <th>enrichment</th>\n",
       "      <th>odds_ratio</th>\n",
       "      <th>p_fisher</th>\n",
       "    </tr>\n",
       "  </thead>\n",
       "  <tbody>\n",
       "    <tr>\n",
       "      <th>0</th>\n",
       "      <td>DOID:10652</td>\n",
       "      <td>Alzheimer's disease</td>\n",
       "      <td>D004314</td>\n",
       "      <td>Down Syndrome</td>\n",
       "      <td>800</td>\n",
       "      <td>31.340068</td>\n",
       "      <td>25.526428</td>\n",
       "      <td>45.694983</td>\n",
       "      <td>0</td>\n",
       "    </tr>\n",
       "    <tr>\n",
       "      <th>1</th>\n",
       "      <td>DOID:10652</td>\n",
       "      <td>Alzheimer's disease</td>\n",
       "      <td>D008569</td>\n",
       "      <td>Memory Disorders</td>\n",
       "      <td>1564</td>\n",
       "      <td>66.801960</td>\n",
       "      <td>23.412487</td>\n",
       "      <td>47.098472</td>\n",
       "      <td>0</td>\n",
       "    </tr>\n",
       "  </tbody>\n",
       "</table>\n",
       "</div>"
      ],
      "text/plain": [
       "    doid_code            doid_name  mesh_id         mesh_name  cooccurrence  \\\n",
       "0  DOID:10652  Alzheimer's disease  D004314     Down Syndrome           800   \n",
       "1  DOID:10652  Alzheimer's disease  D008569  Memory Disorders          1564   \n",
       "\n",
       "    expected  enrichment  odds_ratio  p_fisher  \n",
       "0  31.340068   25.526428   45.694983         0  \n",
       "1  66.801960   23.412487   47.098472         0  "
      ]
     },
     "execution_count": 17,
     "metadata": {},
     "output_type": "execute_result"
    }
   ],
   "source": [
    "commit = 'ef0aef8b9c4bfcaa4cf46f03efe6d0ea0dc5d13b'\n",
    "url = rawgit('dhimmel', 'medline', commit, 'data/disease-symptom-cooccurrence.tsv')\n",
    "disease_symptom_df = pandas.read_table(url)\n",
    "disease_symptom_df = disease_symptom_df[disease_symptom_df.p_fisher < 0.005]\n",
    "disease_symptom_df.head(2)"
   ]
  },
  {
   "cell_type": "code",
   "execution_count": 18,
   "metadata": {
    "collapsed": false
   },
   "outputs": [],
   "source": [
    "for i, row in disease_symptom_df.iterrows():\n",
    "    source_id = 'disease', row.doid_code\n",
    "    target_id = 'symptom', row.mesh_id\n",
    "    graph.add_edge(source_id, target_id, 'causation', 'both')"
   ]
  },
  {
   "cell_type": "markdown",
   "metadata": {},
   "source": [
    "## Disease-disease similarity"
   ]
  },
  {
   "cell_type": "code",
   "execution_count": 19,
   "metadata": {
    "collapsed": false
   },
   "outputs": [
    {
     "data": {
      "text/html": [
       "<div>\n",
       "<table border=\"1\" class=\"dataframe\">\n",
       "  <thead>\n",
       "    <tr style=\"text-align: right;\">\n",
       "      <th></th>\n",
       "      <th>doid_code_0</th>\n",
       "      <th>doid_name_0</th>\n",
       "      <th>doid_code_1</th>\n",
       "      <th>doid_name_1</th>\n",
       "      <th>cooccurrence</th>\n",
       "      <th>expected</th>\n",
       "      <th>enrichment</th>\n",
       "      <th>odds_ratio</th>\n",
       "      <th>p_fisher</th>\n",
       "    </tr>\n",
       "  </thead>\n",
       "  <tbody>\n",
       "    <tr>\n",
       "      <th>0</th>\n",
       "      <td>DOID:10652</td>\n",
       "      <td>Alzheimer's disease</td>\n",
       "      <td>DOID:14330</td>\n",
       "      <td>Parkinson's disease</td>\n",
       "      <td>2747</td>\n",
       "      <td>768.944245</td>\n",
       "      <td>3.572431</td>\n",
       "      <td>3.836951</td>\n",
       "      <td>0.000000e+00</td>\n",
       "    </tr>\n",
       "    <tr>\n",
       "      <th>1</th>\n",
       "      <td>DOID:10652</td>\n",
       "      <td>Alzheimer's disease</td>\n",
       "      <td>DOID:11949</td>\n",
       "      <td>Creutzfeldt-Jakob disease</td>\n",
       "      <td>330</td>\n",
       "      <td>90.115297</td>\n",
       "      <td>3.661975</td>\n",
       "      <td>3.837210</td>\n",
       "      <td>1.666666e-86</td>\n",
       "    </tr>\n",
       "  </tbody>\n",
       "</table>\n",
       "</div>"
      ],
      "text/plain": [
       "  doid_code_0          doid_name_0 doid_code_1                doid_name_1  \\\n",
       "0  DOID:10652  Alzheimer's disease  DOID:14330        Parkinson's disease   \n",
       "1  DOID:10652  Alzheimer's disease  DOID:11949  Creutzfeldt-Jakob disease   \n",
       "\n",
       "   cooccurrence    expected  enrichment  odds_ratio      p_fisher  \n",
       "0          2747  768.944245    3.572431    3.836951  0.000000e+00  \n",
       "1           330   90.115297    3.661975    3.837210  1.666666e-86  "
      ]
     },
     "execution_count": 19,
     "metadata": {},
     "output_type": "execute_result"
    }
   ],
   "source": [
    "commit = '9c1dc879bb5a39f87e3ac6c5528fb8981c52f448'\n",
    "url = rawgit('dhimmel', 'medline', commit, 'data/disease-disease-cooccurrence.tsv')\n",
    "disease_similarity_df = pandas.read_table(url)\n",
    "disease_similarity_df = disease_similarity_df[-disease_similarity_df[['doid_code_0', 'doid_code_1']].apply(frozenset, 1).duplicated()]\n",
    "disease_similarity_df = disease_similarity_df[disease_similarity_df.p_fisher < 0.005]\n",
    "disease_similarity_df.head(2)"
   ]
  },
  {
   "cell_type": "code",
   "execution_count": 20,
   "metadata": {
    "collapsed": true
   },
   "outputs": [],
   "source": [
    "for i, row in disease_similarity_df.iterrows():\n",
    "    source_id = 'disease', row.doid_code_0\n",
    "    target_id = 'disease', row.doid_code_1\n",
    "    graph.add_edge(source_id, target_id, 'similarity', 'both')"
   ]
  },
  {
   "cell_type": "markdown",
   "metadata": {},
   "source": [
    "## Drug targets"
   ]
  },
  {
   "cell_type": "code",
   "execution_count": 21,
   "metadata": {
    "collapsed": false
   },
   "outputs": [
    {
     "data": {
      "text/html": [
       "<div>\n",
       "<table border=\"1\" class=\"dataframe\">\n",
       "  <thead>\n",
       "    <tr style=\"text-align: right;\">\n",
       "      <th></th>\n",
       "      <th>drugbank_id</th>\n",
       "      <th>category</th>\n",
       "      <th>uniprot_id</th>\n",
       "      <th>entrez_gene_id</th>\n",
       "      <th>organism</th>\n",
       "      <th>known_action</th>\n",
       "      <th>actions</th>\n",
       "      <th>pubmed_ids</th>\n",
       "    </tr>\n",
       "  </thead>\n",
       "  <tbody>\n",
       "    <tr>\n",
       "      <th>0</th>\n",
       "      <td>DB00170</td>\n",
       "      <td>target</td>\n",
       "      <td>P00734</td>\n",
       "      <td>2147</td>\n",
       "      <td>Human</td>\n",
       "      <td>unknown</td>\n",
       "      <td>activator</td>\n",
       "      <td>10469489|2484931|2922761|6867080|7657295</td>\n",
       "    </tr>\n",
       "    <tr>\n",
       "      <th>1</th>\n",
       "      <td>DB00170</td>\n",
       "      <td>target</td>\n",
       "      <td>P00742</td>\n",
       "      <td>2159</td>\n",
       "      <td>Human</td>\n",
       "      <td>unknown</td>\n",
       "      <td>activator</td>\n",
       "      <td>17139284|17016423</td>\n",
       "    </tr>\n",
       "  </tbody>\n",
       "</table>\n",
       "</div>"
      ],
      "text/plain": [
       "  drugbank_id category uniprot_id  entrez_gene_id organism known_action  \\\n",
       "0     DB00170   target     P00734            2147    Human      unknown   \n",
       "1     DB00170   target     P00742            2159    Human      unknown   \n",
       "\n",
       "     actions                                pubmed_ids  \n",
       "0  activator  10469489|2484931|2922761|6867080|7657295  \n",
       "1  activator                         17139284|17016423  "
      ]
     },
     "execution_count": 21,
     "metadata": {},
     "output_type": "execute_result"
    }
   ],
   "source": [
    "commit = '3e87872db5fca5ac427ce27464ab945c0ceb4ec6'\n",
    "url = rawgit('dhimmel', 'drugbank', commit, 'data/proteins.tsv')\n",
    "drugbank_protein_df = pandas.read_table(url)\n",
    "drugbank_protein_df = drugbank_protein_df.merge(compound_df[['drugbank_id']])\n",
    "drugbank_protein_df = drugbank_protein_df[drugbank_protein_df.entrez_gene_id.isin(gene_df.GeneID)]\n",
    "drugbank_protein_df.head(2)"
   ]
  },
  {
   "cell_type": "code",
   "execution_count": 22,
   "metadata": {
    "collapsed": false
   },
   "outputs": [],
   "source": [
    "target_df = drugbank_protein_df[drugbank_protein_df.category == 'target']\n",
    "for i, row in target_df.iterrows():\n",
    "    source_id = 'compound', row.drugbank_id\n",
    "    target_id = 'gene', row.entrez_gene_id\n",
    "    graph.add_edge(source_id, target_id, 'target', 'both')"
   ]
  },
  {
   "cell_type": "markdown",
   "metadata": {},
   "source": [
    "## Binding"
   ]
  },
  {
   "cell_type": "code",
   "execution_count": 23,
   "metadata": {
    "collapsed": false
   },
   "outputs": [
    {
     "data": {
      "text/html": [
       "<div>\n",
       "<table border=\"1\" class=\"dataframe\">\n",
       "  <thead>\n",
       "    <tr style=\"text-align: right;\">\n",
       "      <th></th>\n",
       "      <th>drugbank_id</th>\n",
       "      <th>entrez_gene</th>\n",
       "      <th>affinity_nM</th>\n",
       "      <th>n_pairs</th>\n",
       "      <th>drugbank_name</th>\n",
       "      <th>drugbank_approved</th>\n",
       "      <th>gene_symbol</th>\n",
       "    </tr>\n",
       "  </thead>\n",
       "  <tbody>\n",
       "    <tr>\n",
       "      <th>0</th>\n",
       "      <td>DB00035</td>\n",
       "      <td>552</td>\n",
       "      <td>62.4</td>\n",
       "      <td>1</td>\n",
       "      <td>Desmopressin</td>\n",
       "      <td>1</td>\n",
       "      <td>AVPR1A</td>\n",
       "    </tr>\n",
       "    <tr>\n",
       "      <th>1</th>\n",
       "      <td>DB00035</td>\n",
       "      <td>553</td>\n",
       "      <td>5.8</td>\n",
       "      <td>1</td>\n",
       "      <td>Desmopressin</td>\n",
       "      <td>1</td>\n",
       "      <td>AVPR1B</td>\n",
       "    </tr>\n",
       "  </tbody>\n",
       "</table>\n",
       "</div>"
      ],
      "text/plain": [
       "  drugbank_id  entrez_gene  affinity_nM  n_pairs drugbank_name  \\\n",
       "0     DB00035          552         62.4        1  Desmopressin   \n",
       "1     DB00035          553          5.8        1  Desmopressin   \n",
       "\n",
       "   drugbank_approved gene_symbol  \n",
       "0                  1      AVPR1A  \n",
       "1                  1      AVPR1B  "
      ]
     },
     "execution_count": 23,
     "metadata": {},
     "output_type": "execute_result"
    }
   ],
   "source": [
    "commit = '95aa588c6e553d85f7bd9030956297076f0df5e3'\n",
    "url = rawgit('dhimmel', 'bindingdb', commit, 'data/bindings-drugbank-gene.tsv')\n",
    "binding_df = pandas.read_table(url)\n",
    "binding_df = binding_df[binding_df.affinity_nM <= 1000]\n",
    "binding_df = binding_df[binding_df.drugbank_id.isin(compound_df.drugbank_id)]\n",
    "binding_df.head(2)"
   ]
  },
  {
   "cell_type": "code",
   "execution_count": 24,
   "metadata": {
    "collapsed": false
   },
   "outputs": [],
   "source": [
    "for i, row in binding_df.iterrows():\n",
    "    source_id = 'compound', row.drugbank_id\n",
    "    target_id = 'gene', row.entrez_gene\n",
    "    graph.add_edge(source_id, target_id, 'binding', 'both')"
   ]
  },
  {
   "cell_type": "markdown",
   "metadata": {},
   "source": [
    "## Protein Interactions"
   ]
  },
  {
   "cell_type": "code",
   "execution_count": 25,
   "metadata": {
    "collapsed": false
   },
   "outputs": [
    {
     "data": {
      "text/html": [
       "<div>\n",
       "<table border=\"1\" class=\"dataframe\">\n",
       "  <thead>\n",
       "    <tr style=\"text-align: right;\">\n",
       "      <th></th>\n",
       "      <th>gene_0</th>\n",
       "      <th>gene_1</th>\n",
       "      <th>sources</th>\n",
       "    </tr>\n",
       "  </thead>\n",
       "  <tbody>\n",
       "    <tr>\n",
       "      <th>0</th>\n",
       "      <td>1</td>\n",
       "      <td>310</td>\n",
       "      <td>[II_signaling]</td>\n",
       "    </tr>\n",
       "    <tr>\n",
       "      <th>1</th>\n",
       "      <td>1</td>\n",
       "      <td>1026</td>\n",
       "      <td>[II_signaling]</td>\n",
       "    </tr>\n",
       "  </tbody>\n",
       "</table>\n",
       "</div>"
      ],
      "text/plain": [
       "   gene_0  gene_1         sources\n",
       "0       1     310  [II_signaling]\n",
       "1       1    1026  [II_signaling]"
      ]
     },
     "execution_count": 25,
     "metadata": {},
     "output_type": "execute_result"
    }
   ],
   "source": [
    "commit = '77862798448c4272c55e9c718323a3ec5d8db571'\n",
    "url = rawgit('dhimmel', 'ppi', commit, 'data/ppi-sources.tsv')\n",
    "ppi_df = pandas.read_table(url)\n",
    "ppi_sources = {'II_binary', 'II_literature', 'II_signaling'}\n",
    "ppi_df = ppi_df[ppi_df.source.isin(ppi_sources)]\n",
    "ppi_df = ppi_df[ppi_df.gene_0.isin(gene_df.GeneID) & ppi_df.gene_1.isin(gene_df.GeneID)]\n",
    "ppi_df = ppi_df.groupby(['gene_0', 'gene_1']).apply(\n",
    "    lambda df: pandas.Series({'sources': list(df.source)})).reset_index()\n",
    "ppi_df.head(2)"
   ]
  },
  {
   "cell_type": "code",
   "execution_count": 26,
   "metadata": {
    "collapsed": false
   },
   "outputs": [],
   "source": [
    "for i, row in ppi_df.iterrows():\n",
    "    source_id = 'gene', row.gene_0\n",
    "    target_id = 'gene', row.gene_1\n",
    "    graph.add_edge(source_id, target_id, 'interaction', 'both')"
   ]
  },
  {
   "cell_type": "markdown",
   "metadata": {},
   "source": [
    "## Evolutionary rate covariation"
   ]
  },
  {
   "cell_type": "code",
   "execution_count": 27,
   "metadata": {
    "collapsed": false
   },
   "outputs": [
    {
     "data": {
      "text/html": [
       "<div>\n",
       "<table border=\"1\" class=\"dataframe\">\n",
       "  <thead>\n",
       "    <tr style=\"text-align: right;\">\n",
       "      <th></th>\n",
       "      <th>source_entrez</th>\n",
       "      <th>target_entrez</th>\n",
       "      <th>correlation</th>\n",
       "      <th>n_ucsc_genes</th>\n",
       "    </tr>\n",
       "  </thead>\n",
       "  <tbody>\n",
       "    <tr>\n",
       "      <th>29</th>\n",
       "      <td>9</td>\n",
       "      <td>3295</td>\n",
       "      <td>0.77623</td>\n",
       "      <td>1</td>\n",
       "    </tr>\n",
       "    <tr>\n",
       "      <th>46</th>\n",
       "      <td>9</td>\n",
       "      <td>23313</td>\n",
       "      <td>0.79472</td>\n",
       "      <td>1</td>\n",
       "    </tr>\n",
       "    <tr>\n",
       "      <th>64</th>\n",
       "      <td>9</td>\n",
       "      <td>440603</td>\n",
       "      <td>0.78619</td>\n",
       "      <td>1</td>\n",
       "    </tr>\n",
       "    <tr>\n",
       "      <th>115</th>\n",
       "      <td>10</td>\n",
       "      <td>152404</td>\n",
       "      <td>0.76802</td>\n",
       "      <td>1</td>\n",
       "    </tr>\n",
       "    <tr>\n",
       "      <th>175</th>\n",
       "      <td>13</td>\n",
       "      <td>54900</td>\n",
       "      <td>0.80362</td>\n",
       "      <td>1</td>\n",
       "    </tr>\n",
       "  </tbody>\n",
       "</table>\n",
       "</div>"
      ],
      "text/plain": [
       "     source_entrez  target_entrez  correlation  n_ucsc_genes\n",
       "29               9           3295      0.77623             1\n",
       "46               9          23313      0.79472             1\n",
       "64               9         440603      0.78619             1\n",
       "115             10         152404      0.76802             1\n",
       "175             13          54900      0.80362             1"
      ]
     },
     "execution_count": 27,
     "metadata": {},
     "output_type": "execute_result"
    }
   ],
   "source": [
    "commit = '757733f77a89499439c887acb88456e011c5322e'\n",
    "url = rawgit('dhimmel', 'erc', commit, 'data/erc_mam33-entrez-gt-0.6.tsv.gz')\n",
    "erc_df = pandas.read_table(open_gz_url(url))\n",
    "erc_df = erc_df[erc_df.correlation >= 0.75]\n",
    "erc_df = erc_df[erc_df.source_entrez.isin(gene_df.GeneID) & erc_df.target_entrez.isin(gene_df.GeneID)]\n",
    "erc_df.head()"
   ]
  },
  {
   "cell_type": "code",
   "execution_count": 28,
   "metadata": {
    "collapsed": false
   },
   "outputs": [],
   "source": [
    "for i, row in erc_df.iterrows():\n",
    "    source_id = 'gene', row.source_entrez\n",
    "    target_id = 'gene', row.target_entrez\n",
    "    graph.add_edge(source_id, target_id, 'evolution', 'both')"
   ]
  },
  {
   "cell_type": "code",
   "execution_count": null,
   "metadata": {
    "collapsed": false
   },
   "outputs": [],
   "source": []
  },
  {
   "cell_type": "code",
   "execution_count": null,
   "metadata": {
    "collapsed": true
   },
   "outputs": [],
   "source": []
  },
  {
   "cell_type": "code",
   "execution_count": null,
   "metadata": {
    "collapsed": true
   },
   "outputs": [],
   "source": []
  },
  {
   "cell_type": "markdown",
   "metadata": {},
   "source": [
    "## Indications"
   ]
  },
  {
   "cell_type": "code",
   "execution_count": 29,
   "metadata": {
    "collapsed": false
   },
   "outputs": [
    {
     "data": {
      "text/html": [
       "<div>\n",
       "<table border=\"1\" class=\"dataframe\">\n",
       "  <thead>\n",
       "    <tr style=\"text-align: right;\">\n",
       "      <th></th>\n",
       "      <th>doid_code</th>\n",
       "      <th>drugbank_id</th>\n",
       "      <th>doid_name</th>\n",
       "      <th>drugbank_name</th>\n",
       "      <th>n_hc_resources</th>\n",
       "      <th>n_lc_resources</th>\n",
       "      <th>confidence</th>\n",
       "    </tr>\n",
       "  </thead>\n",
       "  <tbody>\n",
       "    <tr>\n",
       "      <th>0</th>\n",
       "      <td>DOID:0050156</td>\n",
       "      <td>DB00860</td>\n",
       "      <td>idiopathic pulmonary fibrosis</td>\n",
       "      <td>Prednisolone</td>\n",
       "      <td>1</td>\n",
       "      <td>1</td>\n",
       "      <td>high</td>\n",
       "    </tr>\n",
       "    <tr>\n",
       "      <th>1</th>\n",
       "      <td>DOID:0050425</td>\n",
       "      <td>DB00190</td>\n",
       "      <td>restless legs syndrome</td>\n",
       "      <td>Carbidopa</td>\n",
       "      <td>1</td>\n",
       "      <td>0</td>\n",
       "      <td>high</td>\n",
       "    </tr>\n",
       "  </tbody>\n",
       "</table>\n",
       "</div>"
      ],
      "text/plain": [
       "      doid_code drugbank_id                      doid_name drugbank_name  \\\n",
       "0  DOID:0050156     DB00860  idiopathic pulmonary fibrosis  Prednisolone   \n",
       "1  DOID:0050425     DB00190         restless legs syndrome     Carbidopa   \n",
       "\n",
       "   n_hc_resources  n_lc_resources confidence  \n",
       "0               1               1       high  \n",
       "1               1               0       high  "
      ]
     },
     "execution_count": 29,
     "metadata": {},
     "output_type": "execute_result"
    }
   ],
   "source": [
    "commit = '7c2b17f463babafcf4ec441e720b831340b186fe'\n",
    "url = rawgit('dhimmel', 'indications', commit, 'data/indications.tsv')\n",
    "indication_df = pandas.read_table(url)\n",
    "indication_df = indication_df[indication_df.confidence == 'high']\n",
    "indication_df.head(2)"
   ]
  },
  {
   "cell_type": "code",
   "execution_count": 30,
   "metadata": {
    "collapsed": true
   },
   "outputs": [],
   "source": [
    "for i, row in indication_df.iterrows():\n",
    "    source_id = 'disease', row.doid_code\n",
    "    target_id = 'compound', row.drugbank_id\n",
    "    graph.add_edge(source_id, target_id, 'indication', 'both')"
   ]
  },
  {
   "cell_type": "markdown",
   "metadata": {},
   "source": [
    "## Summary"
   ]
  },
  {
   "cell_type": "code",
   "execution_count": 31,
   "metadata": {
    "collapsed": false
   },
   "outputs": [
    {
     "name": "stdout",
     "output_type": "stream",
     "text": [
      "compound 1552\n",
      "disease 137\n",
      "gene 20971\n",
      "symptom 438\n",
      "pathway 1615\n"
     ]
    }
   ],
   "source": [
    "metanode_to_nodes = graph.get_metanode_to_nodes()\n",
    "for metanode, nodes in metanode_to_nodes.items():\n",
    "    print(metanode, len(nodes))"
   ]
  },
  {
   "cell_type": "code",
   "execution_count": 32,
   "metadata": {
    "collapsed": false
   },
   "outputs": [
    {
     "name": "stdout",
     "output_type": "stream",
     "text": [
      "compound - indication - disease 1388\n",
      "disease - association - gene 1284\n",
      "gene - expression - anatomy 0\n",
      "gene - interaction - gene 102300\n",
      "disease - causation - symptom 3470\n",
      "disease - similarity - disease 580\n",
      "compound - binding - gene 2502\n",
      "gene - evolution - gene 61690\n",
      "compound - target - gene 4603\n",
      "gene - participation - pathway 79101\n"
     ]
    }
   ],
   "source": [
    "metaedge_to_edges = graph.get_metaedge_to_edges(exclude_inverts=True)\n",
    "for metaedge, edges in metaedge_to_edges.items():\n",
    "    print(metaedge, len(edges))"
   ]
  },
  {
   "cell_type": "code",
   "execution_count": null,
   "metadata": {
    "collapsed": true
   },
   "outputs": [],
   "source": []
  },
  {
   "cell_type": "code",
   "execution_count": null,
   "metadata": {
    "collapsed": true
   },
   "outputs": [],
   "source": []
  }
 ],
 "metadata": {
  "kernelspec": {
   "display_name": "Python 3",
   "language": "python",
   "name": "python3"
  },
  "language_info": {
   "codemirror_mode": {
    "name": "ipython",
    "version": 3
   },
   "file_extension": ".py",
   "mimetype": "text/x-python",
   "name": "python",
   "nbconvert_exporter": "python",
   "pygments_lexer": "ipython3",
   "version": "3.4.3"
  }
 },
 "nbformat": 4,
 "nbformat_minor": 0
}
