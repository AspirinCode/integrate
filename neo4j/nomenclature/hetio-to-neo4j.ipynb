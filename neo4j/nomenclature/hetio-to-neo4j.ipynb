{
 "cells": [
  {
   "cell_type": "markdown",
   "metadata": {},
   "source": [
    "# Save mappings from the hetio nomenclature to Neo4j"
   ]
  },
  {
   "cell_type": "code",
   "execution_count": 1,
   "metadata": {
    "collapsed": false
   },
   "outputs": [],
   "source": [
    "import pandas\n",
    "\n",
    "import hetio.readwrite\n",
    "import hetio.neo4j\n",
    "import hetio.stats"
   ]
  },
  {
   "cell_type": "code",
   "execution_count": 2,
   "metadata": {
    "collapsed": false
   },
   "outputs": [],
   "source": [
    "metagraph = hetio.readwrite.read_metagraph('../../data/metagraph.json')"
   ]
  },
  {
   "cell_type": "code",
   "execution_count": 3,
   "metadata": {
    "collapsed": false
   },
   "outputs": [
    {
     "data": {
      "text/html": [
       "<div>\n",
       "<table border=\"1\" class=\"dataframe\">\n",
       "  <thead>\n",
       "    <tr style=\"text-align: right;\">\n",
       "      <th></th>\n",
       "      <th>metanode</th>\n",
       "      <th>abbreviation</th>\n",
       "      <th>label</th>\n",
       "    </tr>\n",
       "  </thead>\n",
       "  <tbody>\n",
       "    <tr>\n",
       "      <th>6</th>\n",
       "      <td>Anatomy</td>\n",
       "      <td>A</td>\n",
       "      <td>Anatomy</td>\n",
       "    </tr>\n",
       "    <tr>\n",
       "      <th>0</th>\n",
       "      <td>Biological Process</td>\n",
       "      <td>BP</td>\n",
       "      <td>BiologicalProcess</td>\n",
       "    </tr>\n",
       "  </tbody>\n",
       "</table>\n",
       "</div>"
      ],
      "text/plain": [
       "             metanode abbreviation              label\n",
       "6             Anatomy            A            Anatomy\n",
       "0  Biological Process           BP  BiologicalProcess"
      ]
     },
     "execution_count": 3,
     "metadata": {},
     "output_type": "execute_result"
    }
   ],
   "source": [
    "rows = list()\n",
    "for metanode in metagraph.get_nodes():\n",
    "    label = hetio.neo4j.as_label(metanode)\n",
    "    rows.append((str(metanode), metanode.abbrev, label))\n",
    "label_df = pandas.DataFrame(rows, columns=['metanode', 'abbreviation', 'label'])\n",
    "label_df = label_df.sort_values('metanode')\n",
    "label_df.head(2)"
   ]
  },
  {
   "cell_type": "code",
   "execution_count": 4,
   "metadata": {
    "collapsed": false
   },
   "outputs": [
    {
     "data": {
      "text/html": [
       "<div>\n",
       "<table border=\"1\" class=\"dataframe\">\n",
       "  <thead>\n",
       "    <tr style=\"text-align: right;\">\n",
       "      <th></th>\n",
       "      <th>metaedge</th>\n",
       "      <th>rel_type</th>\n",
       "      <th>direction</th>\n",
       "    </tr>\n",
       "  </thead>\n",
       "  <tbody>\n",
       "    <tr>\n",
       "      <th>8</th>\n",
       "      <td>Anatomy - downregulates - Gene</td>\n",
       "      <td>DOWNREGULATES_AdG</td>\n",
       "      <td>both</td>\n",
       "    </tr>\n",
       "    <tr>\n",
       "      <th>23</th>\n",
       "      <td>Anatomy - expresses - Gene</td>\n",
       "      <td>EXPRESSES_AeG</td>\n",
       "      <td>both</td>\n",
       "    </tr>\n",
       "  </tbody>\n",
       "</table>\n",
       "</div>"
      ],
      "text/plain": [
       "                          metaedge           rel_type direction\n",
       "8   Anatomy - downregulates - Gene  DOWNREGULATES_AdG      both\n",
       "23      Anatomy - expresses - Gene      EXPRESSES_AeG      both"
      ]
     },
     "execution_count": 4,
     "metadata": {},
     "output_type": "execute_result"
    }
   ],
   "source": [
    "rows = list()\n",
    "for metaedge in metagraph.get_edges():\n",
    "    rel_type = hetio.neo4j.as_type(metaedge)\n",
    "    rows.append((str(metaedge), rel_type, metaedge.direction))\n",
    "rel_type_df = pandas.DataFrame(rows, columns=['metaedge', 'rel_type', 'direction'])\n",
    "rel_type_df = rel_type_df.sort_values('metaedge')\n",
    "rel_type_df.head(2)"
   ]
  },
  {
   "cell_type": "code",
   "execution_count": 5,
   "metadata": {
    "collapsed": true
   },
   "outputs": [],
   "source": [
    "# Save as TSVs\n",
    "label_df.to_csv('labels.tsv', sep='\\t', index=False)\n",
    "rel_type_df.to_csv('types.tsv', sep='\\t', index=False)"
   ]
  }
 ],
 "metadata": {
  "kernelspec": {
   "display_name": "Python 3",
   "language": "python",
   "name": "python3"
  },
  "language_info": {
   "codemirror_mode": {
    "name": "ipython",
    "version": 3
   },
   "file_extension": ".py",
   "mimetype": "text/x-python",
   "name": "python",
   "nbconvert_exporter": "python",
   "pygments_lexer": "ipython3",
   "version": "3.5.1"
  }
 },
 "nbformat": 4,
 "nbformat_minor": 0
}
