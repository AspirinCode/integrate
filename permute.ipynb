{
 "cells": [
  {
   "cell_type": "markdown",
   "metadata": {},
   "source": [
    "# Create permuted hetnets"
   ]
  },
  {
   "cell_type": "code",
   "execution_count": 1,
   "metadata": {
    "collapsed": true
   },
   "outputs": [],
   "source": [
    "import os\n",
    "\n",
    "import pandas\n",
    "\n",
    "import hetio.readwrite\n",
    "import hetio.permute"
   ]
  },
  {
   "cell_type": "code",
   "execution_count": 2,
   "metadata": {
    "collapsed": false
   },
   "outputs": [
    {
     "name": "stdout",
     "output_type": "stream",
     "text": [
      "CPU times: user 2min 5s, sys: 8.07 s, total: 2min 13s\n",
      "Wall time: 2min 12s\n"
     ]
    }
   ],
   "source": [
    "%%time\n",
    "path = 'data/hetnet.json.gz'\n",
    "graph = hetio.readwrite.read_graph(path)"
   ]
  },
  {
   "cell_type": "code",
   "execution_count": 3,
   "metadata": {
    "collapsed": true
   },
   "outputs": [],
   "source": [
    "n_perms = 5\n",
    "multiplier = 3"
   ]
  },
  {
   "cell_type": "code",
   "execution_count": 4,
   "metadata": {
    "collapsed": false
   },
   "outputs": [
    {
     "name": "stdout",
     "output_type": "stream",
     "text": [
      "Starting permutation 0\n",
      "Starting permutation 1\n",
      "Starting permutation 2\n",
      "Starting permutation 3\n",
      "Starting permutation 4\n",
      "CPU times: user 3h 16min 16s, sys: 55.8 s, total: 3h 17min 12s\n",
      "Wall time: 3h 17min 10s\n"
     ]
    }
   ],
   "source": [
    "%%time\n",
    "stat_dfs = list()\n",
    "permuted_graph = graph\n",
    " \n",
    "for i in range(n_perms):\n",
    "    print('Starting permutation', i)\n",
    "    permuted_graph, stats = hetio.permute.permute_graph(permuted_graph, multiplier=multiplier, seed=i)\n",
    "    stat_df = pandas.DataFrame(stats)\n",
    "    stat_df['permutation'] = i\n",
    "    stat_dfs.append(stat_df)\n",
    "    path = os.path.join('data', 'permuted', 'hetnet_perm-{}.json.bz2'.format(i))\n",
    "    hetio.readwrite.write_graph(permuted_graph, path)\n",
    "\n",
    "# Save stats\n",
    "stat_df = pandas.concat(stat_dfs)\n",
    "path = os.path.join('data', 'permuted', 'stats.tsv')\n",
    "stat_df.to_csv(path, sep='\\t', index=False, float_format='%.5g')"
   ]
  }
 ],
 "metadata": {
  "kernelspec": {
   "display_name": "Python 3",
   "language": "python",
   "name": "python3"
  },
  "language_info": {
   "codemirror_mode": {
    "name": "ipython",
    "version": 3
   },
   "file_extension": ".py",
   "mimetype": "text/x-python",
   "name": "python",
   "nbconvert_exporter": "python",
   "pygments_lexer": "ipython3",
   "version": "3.5.1"
  }
 },
 "nbformat": 4,
 "nbformat_minor": 0
}