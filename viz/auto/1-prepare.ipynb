{
 "cells": [
  {
   "cell_type": "markdown",
   "metadata": {},
   "source": [
    "# Extract data for hetnet visualization"
   ]
  },
  {
   "cell_type": "code",
   "execution_count": 1,
   "metadata": {
    "collapsed": true
   },
   "outputs": [],
   "source": [
    "import itertools\n",
    "import collections\n",
    "\n",
    "import pandas\n",
    "import py2neo\n",
    "import hetio.readwrite\n",
    "import hetio.neo4j"
   ]
  },
  {
   "cell_type": "markdown",
   "metadata": {},
   "source": [
    "## Metapath counts"
   ]
  },
  {
   "cell_type": "code",
   "execution_count": 2,
   "metadata": {
    "collapsed": false
   },
   "outputs": [],
   "source": [
    "metagraph = hetio.readwrite.read_metagraph('../../data/metagraph.json')"
   ]
  },
  {
   "cell_type": "code",
   "execution_count": 3,
   "metadata": {
    "collapsed": true
   },
   "outputs": [],
   "source": [
    "metanodes = sorted(metagraph.get_nodes(), key=lambda x: str(x))"
   ]
  },
  {
   "cell_type": "code",
   "execution_count": 4,
   "metadata": {
    "collapsed": false
   },
   "outputs": [],
   "source": [
    "rows = list()\n",
    "max_length = 4\n",
    "for source, target in itertools.combinations_with_replacement(metanodes, 2):\n",
    "    metapaths = metagraph.extract_metapaths(source.get_id(), target.get_id(), max_length = max_length)\n",
    "    counter = collections.Counter(len(metapath) for metapath in metapaths)\n",
    "    for i in range(max_length):\n",
    "        i += 1\n",
    "        row = str(source), str(target), source.abbrev, target.abbrev, i, counter[i]\n",
    "        rows.append(row)\n",
    "count_df = pandas.DataFrame(rows, columns=['source', 'target', 'source_abbrev', 'target_abbrev', 'length', 'metapaths'])"
   ]
  },
  {
   "cell_type": "code",
   "execution_count": 5,
   "metadata": {
    "collapsed": false
   },
   "outputs": [
    {
     "data": {
      "text/html": [
       "<div>\n",
       "<table border=\"1\" class=\"dataframe\">\n",
       "  <thead>\n",
       "    <tr style=\"text-align: right;\">\n",
       "      <th></th>\n",
       "      <th>source</th>\n",
       "      <th>target</th>\n",
       "      <th>source_abbrev</th>\n",
       "      <th>target_abbrev</th>\n",
       "      <th>length</th>\n",
       "      <th>metapaths</th>\n",
       "    </tr>\n",
       "  </thead>\n",
       "  <tbody>\n",
       "    <tr>\n",
       "      <th>0</th>\n",
       "      <td>Anatomy</td>\n",
       "      <td>Anatomy</td>\n",
       "      <td>A</td>\n",
       "      <td>A</td>\n",
       "      <td>1</td>\n",
       "      <td>0</td>\n",
       "    </tr>\n",
       "    <tr>\n",
       "      <th>1</th>\n",
       "      <td>Anatomy</td>\n",
       "      <td>Anatomy</td>\n",
       "      <td>A</td>\n",
       "      <td>A</td>\n",
       "      <td>2</td>\n",
       "      <td>10</td>\n",
       "    </tr>\n",
       "    <tr>\n",
       "      <th>2</th>\n",
       "      <td>Anatomy</td>\n",
       "      <td>Anatomy</td>\n",
       "      <td>A</td>\n",
       "      <td>A</td>\n",
       "      <td>3</td>\n",
       "      <td>55</td>\n",
       "    </tr>\n",
       "    <tr>\n",
       "      <th>3</th>\n",
       "      <td>Anatomy</td>\n",
       "      <td>Anatomy</td>\n",
       "      <td>A</td>\n",
       "      <td>A</td>\n",
       "      <td>4</td>\n",
       "      <td>583</td>\n",
       "    </tr>\n",
       "    <tr>\n",
       "      <th>4</th>\n",
       "      <td>Anatomy</td>\n",
       "      <td>Biological Process</td>\n",
       "      <td>A</td>\n",
       "      <td>BP</td>\n",
       "      <td>1</td>\n",
       "      <td>0</td>\n",
       "    </tr>\n",
       "  </tbody>\n",
       "</table>\n",
       "</div>"
      ],
      "text/plain": [
       "    source              target source_abbrev target_abbrev  length  metapaths\n",
       "0  Anatomy             Anatomy             A             A       1          0\n",
       "1  Anatomy             Anatomy             A             A       2         10\n",
       "2  Anatomy             Anatomy             A             A       3         55\n",
       "3  Anatomy             Anatomy             A             A       4        583\n",
       "4  Anatomy  Biological Process             A            BP       1          0"
      ]
     },
     "execution_count": 5,
     "metadata": {},
     "output_type": "execute_result"
    }
   ],
   "source": [
    "count_df.head()"
   ]
  },
  {
   "cell_type": "code",
   "execution_count": 6,
   "metadata": {
    "collapsed": true
   },
   "outputs": [],
   "source": [
    "count_df.to_csv('data/metapath-counts.tsv', sep='\\t', index=False)"
   ]
  },
  {
   "cell_type": "markdown",
   "metadata": {},
   "source": [
    "## Path Counts"
   ]
  },
  {
   "cell_type": "code",
   "execution_count": 7,
   "metadata": {
    "collapsed": false
   },
   "outputs": [],
   "source": [
    "neo = py2neo.Graph(\"http://localhost:7500/db/data/\")"
   ]
  },
  {
   "cell_type": "code",
   "execution_count": 8,
   "metadata": {
    "collapsed": true
   },
   "outputs": [],
   "source": [
    "neo4j_label_to_kind = dict()\n",
    "for metanode in metagraph.get_nodes():\n",
    "    neo4j_label_to_kind[hetio.neo4j.as_label(metanode)] = str(metanode)"
   ]
  },
  {
   "cell_type": "code",
   "execution_count": 9,
   "metadata": {
    "collapsed": false
   },
   "outputs": [
    {
     "name": "stdout",
     "output_type": "stream",
     "text": [
      "CPU times: user 360 ms, sys: 36 ms, total: 396 ms\n",
      "Wall time: 2min 12s\n"
     ]
    }
   ],
   "source": [
    "%%time\n",
    "query = '''\n",
    "OPTIONAL MATCH path = (s)-[*{}]-(t)\n",
    "WHERE {{ source }} in labels(s)\n",
    "AND {{ target }} in labels(t)\n",
    "// WITH path, s, t\n",
    "//  LIMIT 100\n",
    "RETURN\n",
    "  {{ source }} AS source,\n",
    "  {{ target }} AS target,\n",
    "  count(path) AS path_count,\n",
    "  count(DISTINCT [r IN relationships(path)| type(r)]) AS metapath_count,\n",
    "  count(DISTINCT t) AS target_nodes\n",
    "'''\n",
    "rows = list()\n",
    "for source, target in itertools.product(neo4j_label_to_kind.keys(), repeat=2):\n",
    "    for length in range(1, 2):\n",
    "        length_query = query.format(length)\n",
    "        records = neo.cypher.execute(length_query, source=source, target=target)\n",
    "        rows.extend(tuple(r) + (length,) for r in records)\n",
    "\n",
    "reach_df = pandas.DataFrame(rows, columns=tuple(records.columns) + ('length',))\n",
    "for column in 'source', 'target':\n",
    "    reach_df[column] = reach_df[column].map(neo4j_label_to_kind)"
   ]
  },
  {
   "cell_type": "code",
   "execution_count": 10,
   "metadata": {
    "collapsed": false
   },
   "outputs": [
    {
     "data": {
      "text/html": [
       "<div>\n",
       "<table border=\"1\" class=\"dataframe\">\n",
       "  <thead>\n",
       "    <tr style=\"text-align: right;\">\n",
       "      <th></th>\n",
       "      <th>source</th>\n",
       "      <th>target</th>\n",
       "      <th>path_count</th>\n",
       "      <th>metapath_count</th>\n",
       "      <th>target_nodes</th>\n",
       "      <th>length</th>\n",
       "    </tr>\n",
       "  </thead>\n",
       "  <tbody>\n",
       "    <tr>\n",
       "      <th>0</th>\n",
       "      <td>Cellular Component</td>\n",
       "      <td>Cellular Component</td>\n",
       "      <td>0</td>\n",
       "      <td>0</td>\n",
       "      <td>0</td>\n",
       "      <td>1</td>\n",
       "    </tr>\n",
       "    <tr>\n",
       "      <th>1</th>\n",
       "      <td>Cellular Component</td>\n",
       "      <td>Pathway</td>\n",
       "      <td>0</td>\n",
       "      <td>0</td>\n",
       "      <td>0</td>\n",
       "      <td>1</td>\n",
       "    </tr>\n",
       "    <tr>\n",
       "      <th>2</th>\n",
       "      <td>Cellular Component</td>\n",
       "      <td>Symptom</td>\n",
       "      <td>0</td>\n",
       "      <td>0</td>\n",
       "      <td>0</td>\n",
       "      <td>1</td>\n",
       "    </tr>\n",
       "    <tr>\n",
       "      <th>3</th>\n",
       "      <td>Cellular Component</td>\n",
       "      <td>Disease</td>\n",
       "      <td>0</td>\n",
       "      <td>0</td>\n",
       "      <td>0</td>\n",
       "      <td>1</td>\n",
       "    </tr>\n",
       "    <tr>\n",
       "      <th>4</th>\n",
       "      <td>Cellular Component</td>\n",
       "      <td>Molecular Function</td>\n",
       "      <td>0</td>\n",
       "      <td>0</td>\n",
       "      <td>0</td>\n",
       "      <td>1</td>\n",
       "    </tr>\n",
       "  </tbody>\n",
       "</table>\n",
       "</div>"
      ],
      "text/plain": [
       "               source              target  path_count  metapath_count  \\\n",
       "0  Cellular Component  Cellular Component           0               0   \n",
       "1  Cellular Component             Pathway           0               0   \n",
       "2  Cellular Component             Symptom           0               0   \n",
       "3  Cellular Component             Disease           0               0   \n",
       "4  Cellular Component  Molecular Function           0               0   \n",
       "\n",
       "   target_nodes  length  \n",
       "0             0       1  \n",
       "1             0       1  \n",
       "2             0       1  \n",
       "3             0       1  \n",
       "4             0       1  "
      ]
     },
     "execution_count": 10,
     "metadata": {},
     "output_type": "execute_result"
    }
   ],
   "source": [
    "reach_df.head()"
   ]
  },
  {
   "cell_type": "code",
   "execution_count": 11,
   "metadata": {
    "collapsed": true
   },
   "outputs": [],
   "source": [
    "metanode_df = pandas.read_table('../../data/summary/metanodes.tsv')\n",
    "metanode_to_count = dict(zip(metanode_df.metanode, metanode_df.nodes))"
   ]
  },
  {
   "cell_type": "code",
   "execution_count": 12,
   "metadata": {
    "collapsed": false
   },
   "outputs": [],
   "source": [
    "reach_df = reach_df.merge(\n",
    "  metanode_df[['metanode', 'nodes']].rename(columns={'metanode': 'target', 'nodes': 'total_targets'})\n",
    ")\n",
    "reach_df['percent_targets'] = 100 * reach_df['target_nodes'] / reach_df['total_targets']"
   ]
  },
  {
   "cell_type": "code",
   "execution_count": 13,
   "metadata": {
    "collapsed": false
   },
   "outputs": [
    {
     "data": {
      "text/html": [
       "<div>\n",
       "<table border=\"1\" class=\"dataframe\">\n",
       "  <thead>\n",
       "    <tr style=\"text-align: right;\">\n",
       "      <th></th>\n",
       "      <th>source</th>\n",
       "      <th>target</th>\n",
       "      <th>path_count</th>\n",
       "      <th>metapath_count</th>\n",
       "      <th>target_nodes</th>\n",
       "      <th>length</th>\n",
       "      <th>total_targets</th>\n",
       "      <th>percent_targets</th>\n",
       "    </tr>\n",
       "  </thead>\n",
       "  <tbody>\n",
       "    <tr>\n",
       "      <th>0</th>\n",
       "      <td>Cellular Component</td>\n",
       "      <td>Cellular Component</td>\n",
       "      <td>0</td>\n",
       "      <td>0</td>\n",
       "      <td>0</td>\n",
       "      <td>1</td>\n",
       "      <td>1391</td>\n",
       "      <td>0.0</td>\n",
       "    </tr>\n",
       "    <tr>\n",
       "      <th>1</th>\n",
       "      <td>Pathway</td>\n",
       "      <td>Cellular Component</td>\n",
       "      <td>0</td>\n",
       "      <td>0</td>\n",
       "      <td>0</td>\n",
       "      <td>1</td>\n",
       "      <td>1391</td>\n",
       "      <td>0.0</td>\n",
       "    </tr>\n",
       "    <tr>\n",
       "      <th>2</th>\n",
       "      <td>Symptom</td>\n",
       "      <td>Cellular Component</td>\n",
       "      <td>0</td>\n",
       "      <td>0</td>\n",
       "      <td>0</td>\n",
       "      <td>1</td>\n",
       "      <td>1391</td>\n",
       "      <td>0.0</td>\n",
       "    </tr>\n",
       "    <tr>\n",
       "      <th>3</th>\n",
       "      <td>Disease</td>\n",
       "      <td>Cellular Component</td>\n",
       "      <td>0</td>\n",
       "      <td>0</td>\n",
       "      <td>0</td>\n",
       "      <td>1</td>\n",
       "      <td>1391</td>\n",
       "      <td>0.0</td>\n",
       "    </tr>\n",
       "    <tr>\n",
       "      <th>4</th>\n",
       "      <td>Molecular Function</td>\n",
       "      <td>Cellular Component</td>\n",
       "      <td>0</td>\n",
       "      <td>0</td>\n",
       "      <td>0</td>\n",
       "      <td>1</td>\n",
       "      <td>1391</td>\n",
       "      <td>0.0</td>\n",
       "    </tr>\n",
       "  </tbody>\n",
       "</table>\n",
       "</div>"
      ],
      "text/plain": [
       "               source              target  path_count  metapath_count  \\\n",
       "0  Cellular Component  Cellular Component           0               0   \n",
       "1             Pathway  Cellular Component           0               0   \n",
       "2             Symptom  Cellular Component           0               0   \n",
       "3             Disease  Cellular Component           0               0   \n",
       "4  Molecular Function  Cellular Component           0               0   \n",
       "\n",
       "   target_nodes  length  total_targets  percent_targets  \n",
       "0             0       1           1391              0.0  \n",
       "1             0       1           1391              0.0  \n",
       "2             0       1           1391              0.0  \n",
       "3             0       1           1391              0.0  \n",
       "4             0       1           1391              0.0  "
      ]
     },
     "execution_count": 13,
     "metadata": {},
     "output_type": "execute_result"
    }
   ],
   "source": [
    "reach_df.head()"
   ]
  },
  {
   "cell_type": "code",
   "execution_count": 14,
   "metadata": {
    "collapsed": true
   },
   "outputs": [],
   "source": [
    "reach_df.to_csv('data/path-counts.tsv', sep='\\t', index=False)"
   ]
  }
 ],
 "metadata": {
  "kernelspec": {
   "display_name": "Python 3",
   "language": "python",
   "name": "python3"
  },
  "language_info": {
   "codemirror_mode": {
    "name": "ipython",
    "version": 3
   },
   "file_extension": ".py",
   "mimetype": "text/x-python",
   "name": "python",
   "nbconvert_exporter": "python",
   "pygments_lexer": "ipython3",
   "version": "3.5.1"
  }
 },
 "nbformat": 4,
 "nbformat_minor": 0
}
